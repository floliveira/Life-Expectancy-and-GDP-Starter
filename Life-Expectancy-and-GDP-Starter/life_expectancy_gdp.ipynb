{
 "cells": [
  {
   "cell_type": "markdown",
   "metadata": {},
   "source": [
    "# ⏳💸 LIFE EXPECTANCY / GDP PROJECT ⏳💸"
   ]
  },
  {
   "cell_type": "markdown",
   "metadata": {},
   "source": [
    "## Import Packages"
   ]
  },
  {
   "cell_type": "code",
   "execution_count": 19,
   "metadata": {},
   "outputs": [],
   "source": [
    "import matplotlib.pyplot as plt\n",
    "import pandas as pd\n",
    "import seaborn as sns\n",
    "import plotly.express as px\n",
    "import plotly.graph_objects as go\n",
    "import numpy as np  \n",
    "from numerize.numerize import numerize"
   ]
  },
  {
   "cell_type": "markdown",
   "metadata": {},
   "source": [
    "## Read and Inspect Data"
   ]
  },
  {
   "cell_type": "code",
   "execution_count": 20,
   "metadata": {},
   "outputs": [
    {
     "data": {
      "text/html": [
       "<div>\n",
       "<style scoped>\n",
       "    .dataframe tbody tr th:only-of-type {\n",
       "        vertical-align: middle;\n",
       "    }\n",
       "\n",
       "    .dataframe tbody tr th {\n",
       "        vertical-align: top;\n",
       "    }\n",
       "\n",
       "    .dataframe thead th {\n",
       "        text-align: right;\n",
       "    }\n",
       "</style>\n",
       "<table border=\"1\" class=\"dataframe\">\n",
       "  <thead>\n",
       "    <tr style=\"text-align: right;\">\n",
       "      <th></th>\n",
       "      <th>Country</th>\n",
       "      <th>Year</th>\n",
       "      <th>Life expectancy at birth (years)</th>\n",
       "      <th>GDP</th>\n",
       "    </tr>\n",
       "  </thead>\n",
       "  <tbody>\n",
       "    <tr>\n",
       "      <th>0</th>\n",
       "      <td>Chile</td>\n",
       "      <td>2000</td>\n",
       "      <td>77.300000000</td>\n",
       "      <td>77860932152.000000000</td>\n",
       "    </tr>\n",
       "    <tr>\n",
       "      <th>1</th>\n",
       "      <td>Chile</td>\n",
       "      <td>2001</td>\n",
       "      <td>77.300000000</td>\n",
       "      <td>70979923960.000000000</td>\n",
       "    </tr>\n",
       "    <tr>\n",
       "      <th>2</th>\n",
       "      <td>Chile</td>\n",
       "      <td>2002</td>\n",
       "      <td>77.800000000</td>\n",
       "      <td>69736811435.000000000</td>\n",
       "    </tr>\n",
       "    <tr>\n",
       "      <th>3</th>\n",
       "      <td>Chile</td>\n",
       "      <td>2003</td>\n",
       "      <td>77.900000000</td>\n",
       "      <td>75643459840.000000000</td>\n",
       "    </tr>\n",
       "    <tr>\n",
       "      <th>4</th>\n",
       "      <td>Chile</td>\n",
       "      <td>2004</td>\n",
       "      <td>78.000000000</td>\n",
       "      <td>99210392858.000000000</td>\n",
       "    </tr>\n",
       "    <tr>\n",
       "      <th>5</th>\n",
       "      <td>Chile</td>\n",
       "      <td>2005</td>\n",
       "      <td>78.400000000</td>\n",
       "      <td>122965000000.000000000</td>\n",
       "    </tr>\n",
       "    <tr>\n",
       "      <th>6</th>\n",
       "      <td>Chile</td>\n",
       "      <td>2006</td>\n",
       "      <td>78.900000000</td>\n",
       "      <td>154788000000.000000000</td>\n",
       "    </tr>\n",
       "    <tr>\n",
       "      <th>7</th>\n",
       "      <td>Chile</td>\n",
       "      <td>2007</td>\n",
       "      <td>78.900000000</td>\n",
       "      <td>173606000000.000000000</td>\n",
       "    </tr>\n",
       "    <tr>\n",
       "      <th>8</th>\n",
       "      <td>Chile</td>\n",
       "      <td>2008</td>\n",
       "      <td>79.600000000</td>\n",
       "      <td>179638000000.000000000</td>\n",
       "    </tr>\n",
       "    <tr>\n",
       "      <th>9</th>\n",
       "      <td>Chile</td>\n",
       "      <td>2009</td>\n",
       "      <td>79.300000000</td>\n",
       "      <td>172389000000.000000000</td>\n",
       "    </tr>\n",
       "  </tbody>\n",
       "</table>\n",
       "</div>"
      ],
      "text/plain": [
       "  Country  Year  Life expectancy at birth (years)                    GDP\n",
       "0   Chile  2000                      77.300000000  77860932152.000000000\n",
       "1   Chile  2001                      77.300000000  70979923960.000000000\n",
       "2   Chile  2002                      77.800000000  69736811435.000000000\n",
       "3   Chile  2003                      77.900000000  75643459840.000000000\n",
       "4   Chile  2004                      78.000000000  99210392858.000000000\n",
       "5   Chile  2005                      78.400000000 122965000000.000000000\n",
       "6   Chile  2006                      78.900000000 154788000000.000000000\n",
       "7   Chile  2007                      78.900000000 173606000000.000000000\n",
       "8   Chile  2008                      79.600000000 179638000000.000000000\n",
       "9   Chile  2009                      79.300000000 172389000000.000000000"
      ]
     },
     "execution_count": 20,
     "metadata": {},
     "output_type": "execute_result"
    }
   ],
   "source": [
    "df= pd.read_csv('all_data.csv')\n",
    "df.head(10)"
   ]
  },
  {
   "cell_type": "code",
   "execution_count": 21,
   "metadata": {},
   "outputs": [
    {
     "name": "stdout",
     "output_type": "stream",
     "text": [
      "Country                              object\n",
      "Year                                  int64\n",
      "Life expectancy at birth (years)    float64\n",
      "GDP                                 float64\n",
      "dtype: object Index(['Country', 'Year', 'Life expectancy at birth (years)', 'GDP'], dtype='object')\n",
      "['Chile' 'China' 'Germany' 'Mexico' 'United States of America' 'Zimbabwe']\n"
     ]
    }
   ],
   "source": [
    "print(str(df.dtypes), str(df.columns)+'\\n'+ str(df['Country'].unique()))"
   ]
  },
  {
   "cell_type": "code",
   "execution_count": 16,
   "metadata": {},
   "outputs": [
    {
     "data": {
      "text/html": [
       "<div>\n",
       "<style scoped>\n",
       "    .dataframe tbody tr th:only-of-type {\n",
       "        vertical-align: middle;\n",
       "    }\n",
       "\n",
       "    .dataframe tbody tr th {\n",
       "        vertical-align: top;\n",
       "    }\n",
       "\n",
       "    .dataframe thead th {\n",
       "        text-align: right;\n",
       "    }\n",
       "</style>\n",
       "<table border=\"1\" class=\"dataframe\">\n",
       "  <thead>\n",
       "    <tr style=\"text-align: right;\">\n",
       "      <th></th>\n",
       "      <th>Country</th>\n",
       "      <th>GDP</th>\n",
       "    </tr>\n",
       "  </thead>\n",
       "  <tbody>\n",
       "    <tr>\n",
       "      <th>4</th>\n",
       "      <td>USA</td>\n",
       "      <td>14075000000000.000000000</td>\n",
       "    </tr>\n",
       "    <tr>\n",
       "      <th>1</th>\n",
       "      <td>China</td>\n",
       "      <td>4957713750000.000000000</td>\n",
       "    </tr>\n",
       "    <tr>\n",
       "      <th>2</th>\n",
       "      <td>Germany</td>\n",
       "      <td>3094775625000.000000000</td>\n",
       "    </tr>\n",
       "    <tr>\n",
       "      <th>3</th>\n",
       "      <td>Mexico</td>\n",
       "      <td>976650625000.000000000</td>\n",
       "    </tr>\n",
       "    <tr>\n",
       "      <th>0</th>\n",
       "      <td>Chile</td>\n",
       "      <td>169788845015.312500000</td>\n",
       "    </tr>\n",
       "    <tr>\n",
       "      <th>5</th>\n",
       "      <td>Zimbabwe</td>\n",
       "      <td>9062579595.062500000</td>\n",
       "    </tr>\n",
       "  </tbody>\n",
       "</table>\n",
       "</div>"
      ],
      "text/plain": [
       "    Country                      GDP\n",
       "4       USA 14075000000000.000000000\n",
       "1     China  4957713750000.000000000\n",
       "2   Germany  3094775625000.000000000\n",
       "3    Mexico   976650625000.000000000\n",
       "0     Chile   169788845015.312500000\n",
       "5  Zimbabwe     9062579595.062500000"
      ]
     },
     "execution_count": 16,
     "metadata": {},
     "output_type": "execute_result"
    }
   ],
   "source": [
    "w = df.groupby('Country').GDP.mean().reset_index()\n",
    "w.sort_values(by='GDP',ascending=False)"
   ]
  },
  {
   "cell_type": "code",
   "execution_count": 15,
   "metadata": {},
   "outputs": [
    {
     "data": {
      "text/html": [
       "<div>\n",
       "<style scoped>\n",
       "    .dataframe tbody tr th:only-of-type {\n",
       "        vertical-align: middle;\n",
       "    }\n",
       "\n",
       "    .dataframe tbody tr th {\n",
       "        vertical-align: top;\n",
       "    }\n",
       "\n",
       "    .dataframe thead th {\n",
       "        text-align: right;\n",
       "    }\n",
       "</style>\n",
       "<table border=\"1\" class=\"dataframe\">\n",
       "  <thead>\n",
       "    <tr style=\"text-align: right;\">\n",
       "      <th>Year</th>\n",
       "      <th>Country</th>\n",
       "      <th>2000</th>\n",
       "      <th>2001</th>\n",
       "      <th>2002</th>\n",
       "      <th>2003</th>\n",
       "      <th>2004</th>\n",
       "      <th>2005</th>\n",
       "      <th>2006</th>\n",
       "      <th>2007</th>\n",
       "      <th>2008</th>\n",
       "      <th>2009</th>\n",
       "      <th>2010</th>\n",
       "      <th>2011</th>\n",
       "      <th>2012</th>\n",
       "      <th>2013</th>\n",
       "      <th>2014</th>\n",
       "      <th>2015</th>\n",
       "    </tr>\n",
       "  </thead>\n",
       "  <tbody>\n",
       "    <tr>\n",
       "      <th>0</th>\n",
       "      <td>Chile</td>\n",
       "      <td>77860932152.000000000</td>\n",
       "      <td>70979923960.000000000</td>\n",
       "      <td>69736811435.000000000</td>\n",
       "      <td>75643459840.000000000</td>\n",
       "      <td>99210392858.000000000</td>\n",
       "      <td>122965000000.000000000</td>\n",
       "      <td>154788000000.000000000</td>\n",
       "      <td>173606000000.000000000</td>\n",
       "      <td>179638000000.000000000</td>\n",
       "      <td>172389000000.000000000</td>\n",
       "      <td>218538000000.000000000</td>\n",
       "      <td>252252000000.000000000</td>\n",
       "      <td>267122000000.000000000</td>\n",
       "      <td>278384000000.000000000</td>\n",
       "      <td>260990000000.000000000</td>\n",
       "      <td>242518000000.000000000</td>\n",
       "    </tr>\n",
       "    <tr>\n",
       "      <th>1</th>\n",
       "      <td>China</td>\n",
       "      <td>1211350000000.000000000</td>\n",
       "      <td>1339400000000.000000000</td>\n",
       "      <td>1470550000000.000000000</td>\n",
       "      <td>1660290000000.000000000</td>\n",
       "      <td>1955350000000.000000000</td>\n",
       "      <td>2285970000000.000000000</td>\n",
       "      <td>2752130000000.000000000</td>\n",
       "      <td>3552180000000.000000000</td>\n",
       "      <td>4598210000000.000000000</td>\n",
       "      <td>5109950000000.000000000</td>\n",
       "      <td>6100620000000.000000000</td>\n",
       "      <td>7572550000000.000000000</td>\n",
       "      <td>8560550000000.000000000</td>\n",
       "      <td>9607220000000.000000000</td>\n",
       "      <td>10482400000000.000000000</td>\n",
       "      <td>11064700000000.000000000</td>\n",
       "    </tr>\n",
       "    <tr>\n",
       "      <th>2</th>\n",
       "      <td>Germany</td>\n",
       "      <td>1949950000000.000000000</td>\n",
       "      <td>1950650000000.000000000</td>\n",
       "      <td>2079140000000.000000000</td>\n",
       "      <td>2505730000000.000000000</td>\n",
       "      <td>2819250000000.000000000</td>\n",
       "      <td>2861410000000.000000000</td>\n",
       "      <td>3002450000000.000000000</td>\n",
       "      <td>3439950000000.000000000</td>\n",
       "      <td>3752370000000.000000000</td>\n",
       "      <td>3418010000000.000000000</td>\n",
       "      <td>3417090000000.000000000</td>\n",
       "      <td>3757700000000.000000000</td>\n",
       "      <td>3543980000000.000000000</td>\n",
       "      <td>3752510000000.000000000</td>\n",
       "      <td>3890610000000.000000000</td>\n",
       "      <td>3375610000000.000000000</td>\n",
       "    </tr>\n",
       "    <tr>\n",
       "      <th>3</th>\n",
       "      <td>Mexico</td>\n",
       "      <td>683648000000.000000000</td>\n",
       "      <td>724704000000.000000000</td>\n",
       "      <td>741560000000.000000000</td>\n",
       "      <td>713284000000.000000000</td>\n",
       "      <td>770268000000.000000000</td>\n",
       "      <td>866346000000.000000000</td>\n",
       "      <td>965281000000.000000000</td>\n",
       "      <td>1043470000000.000000000</td>\n",
       "      <td>1101280000000.000000000</td>\n",
       "      <td>894949000000.000000000</td>\n",
       "      <td>1051130000000.000000000</td>\n",
       "      <td>1171190000000.000000000</td>\n",
       "      <td>1186600000000.000000000</td>\n",
       "      <td>1261980000000.000000000</td>\n",
       "      <td>1298460000000.000000000</td>\n",
       "      <td>1152260000000.000000000</td>\n",
       "    </tr>\n",
       "    <tr>\n",
       "      <th>4</th>\n",
       "      <td>USA</td>\n",
       "      <td>10300000000000.000000000</td>\n",
       "      <td>10600000000000.000000000</td>\n",
       "      <td>11000000000000.000000000</td>\n",
       "      <td>11500000000000.000000000</td>\n",
       "      <td>12300000000000.000000000</td>\n",
       "      <td>13100000000000.000000000</td>\n",
       "      <td>13900000000000.000000000</td>\n",
       "      <td>14500000000000.000000000</td>\n",
       "      <td>14700000000000.000000000</td>\n",
       "      <td>14400000000000.000000000</td>\n",
       "      <td>15000000000000.000000000</td>\n",
       "      <td>15500000000000.000000000</td>\n",
       "      <td>16200000000000.000000000</td>\n",
       "      <td>16700000000000.000000000</td>\n",
       "      <td>17400000000000.000000000</td>\n",
       "      <td>18100000000000.000000000</td>\n",
       "    </tr>\n",
       "    <tr>\n",
       "      <th>5</th>\n",
       "      <td>Zimbabwe</td>\n",
       "      <td>6689957600.000000000</td>\n",
       "      <td>6777384700.000000000</td>\n",
       "      <td>6342116400.000000000</td>\n",
       "      <td>5727591800.000000000</td>\n",
       "      <td>5805598400.000000000</td>\n",
       "      <td>5755215200.000000000</td>\n",
       "      <td>5443896500.000000000</td>\n",
       "      <td>5291950100.000000000</td>\n",
       "      <td>4415702800.000000000</td>\n",
       "      <td>8621573608.000000000</td>\n",
       "      <td>10141859710.000000000</td>\n",
       "      <td>12098450749.000000000</td>\n",
       "      <td>14242490252.000000000</td>\n",
       "      <td>15451768659.000000000</td>\n",
       "      <td>15891049236.000000000</td>\n",
       "      <td>16304667807.000000000</td>\n",
       "    </tr>\n",
       "  </tbody>\n",
       "</table>\n",
       "</div>"
      ],
      "text/plain": [
       "Year   Country                     2000                     2001  \\\n",
       "0        Chile    77860932152.000000000    70979923960.000000000   \n",
       "1        China  1211350000000.000000000  1339400000000.000000000   \n",
       "2      Germany  1949950000000.000000000  1950650000000.000000000   \n",
       "3       Mexico   683648000000.000000000   724704000000.000000000   \n",
       "4          USA 10300000000000.000000000 10600000000000.000000000   \n",
       "5     Zimbabwe     6689957600.000000000     6777384700.000000000   \n",
       "\n",
       "Year                     2002                     2003  \\\n",
       "0       69736811435.000000000    75643459840.000000000   \n",
       "1     1470550000000.000000000  1660290000000.000000000   \n",
       "2     2079140000000.000000000  2505730000000.000000000   \n",
       "3      741560000000.000000000   713284000000.000000000   \n",
       "4    11000000000000.000000000 11500000000000.000000000   \n",
       "5        6342116400.000000000     5727591800.000000000   \n",
       "\n",
       "Year                     2004                     2005  \\\n",
       "0       99210392858.000000000   122965000000.000000000   \n",
       "1     1955350000000.000000000  2285970000000.000000000   \n",
       "2     2819250000000.000000000  2861410000000.000000000   \n",
       "3      770268000000.000000000   866346000000.000000000   \n",
       "4    12300000000000.000000000 13100000000000.000000000   \n",
       "5        5805598400.000000000     5755215200.000000000   \n",
       "\n",
       "Year                     2006                     2007  \\\n",
       "0      154788000000.000000000   173606000000.000000000   \n",
       "1     2752130000000.000000000  3552180000000.000000000   \n",
       "2     3002450000000.000000000  3439950000000.000000000   \n",
       "3      965281000000.000000000  1043470000000.000000000   \n",
       "4    13900000000000.000000000 14500000000000.000000000   \n",
       "5        5443896500.000000000     5291950100.000000000   \n",
       "\n",
       "Year                     2008                     2009  \\\n",
       "0      179638000000.000000000   172389000000.000000000   \n",
       "1     4598210000000.000000000  5109950000000.000000000   \n",
       "2     3752370000000.000000000  3418010000000.000000000   \n",
       "3     1101280000000.000000000   894949000000.000000000   \n",
       "4    14700000000000.000000000 14400000000000.000000000   \n",
       "5        4415702800.000000000     8621573608.000000000   \n",
       "\n",
       "Year                     2010                     2011  \\\n",
       "0      218538000000.000000000   252252000000.000000000   \n",
       "1     6100620000000.000000000  7572550000000.000000000   \n",
       "2     3417090000000.000000000  3757700000000.000000000   \n",
       "3     1051130000000.000000000  1171190000000.000000000   \n",
       "4    15000000000000.000000000 15500000000000.000000000   \n",
       "5       10141859710.000000000    12098450749.000000000   \n",
       "\n",
       "Year                     2012                     2013  \\\n",
       "0      267122000000.000000000   278384000000.000000000   \n",
       "1     8560550000000.000000000  9607220000000.000000000   \n",
       "2     3543980000000.000000000  3752510000000.000000000   \n",
       "3     1186600000000.000000000  1261980000000.000000000   \n",
       "4    16200000000000.000000000 16700000000000.000000000   \n",
       "5       14242490252.000000000    15451768659.000000000   \n",
       "\n",
       "Year                     2014                     2015  \n",
       "0      260990000000.000000000   242518000000.000000000  \n",
       "1    10482400000000.000000000 11064700000000.000000000  \n",
       "2     3890610000000.000000000  3375610000000.000000000  \n",
       "3     1298460000000.000000000  1152260000000.000000000  \n",
       "4    17400000000000.000000000 18100000000000.000000000  \n",
       "5       15891049236.000000000    16304667807.000000000  "
      ]
     },
     "execution_count": 15,
     "metadata": {},
     "output_type": "execute_result"
    }
   ],
   "source": [
    "w1 = df.pivot(columns='Year', \n",
    "         index='Country', \n",
    "         values='GDP').reset_index() \n",
    "\n",
    "w1"
   ]
  },
  {
   "cell_type": "markdown",
   "metadata": {},
   "source": [
    "## Transform and Cleansing the data "
   ]
  },
  {
   "cell_type": "markdown",
   "metadata": {},
   "source": [
    "### Preventing scientific notation due GDP column large numbers"
   ]
  },
  {
   "cell_type": "code",
   "execution_count": 14,
   "metadata": {},
   "outputs": [],
   "source": [
    "pd.set_option('display.float_format', lambda x: '%.9f' % x)\n",
    "#pd.reset_option('display')"
   ]
  },
  {
   "cell_type": "markdown",
   "metadata": {},
   "source": [
    "### Changing column name and column value for better readability"
   ]
  },
  {
   "cell_type": "code",
   "execution_count": 22,
   "metadata": {},
   "outputs": [],
   "source": [
    "df.rename(columns={\n",
    "    'Life expectancy at birth (years)': 'Life_Expectancy'},\n",
    "    inplace=True)"
   ]
  },
  {
   "cell_type": "code",
   "execution_count": 23,
   "metadata": {},
   "outputs": [],
   "source": [
    "# Applying the condition\n",
    "df['Country'].mask(df['Country'] == 'United States of America', 'USA', inplace=True)"
   ]
  },
  {
   "cell_type": "markdown",
   "metadata": {},
   "source": [
    "## Visualizations"
   ]
  },
  {
   "cell_type": "markdown",
   "metadata": {},
   "source": [
    "#### 🖱️ 👨‍💻 Note you can interact with the plotly graphs by zooming in/out, by clicking/selecting the legend values or drawing a box selection 👨‍💻 🖱️\n"
   ]
  },
  {
   "cell_type": "markdown",
   "metadata": {},
   "source": [
    "### Life expectancy / GDP growth & correlation over time in the six nations (Animated Charts)\n"
   ]
  },
  {
   "cell_type": "code",
   "execution_count": 24,
   "metadata": {},
   "outputs": [
    {
     "data": {
      "text/html": [
       "        <script type=\"text/javascript\">\n",
       "        window.PlotlyConfig = {MathJaxConfig: 'local'};\n",
       "        if (window.MathJax) {MathJax.Hub.Config({SVG: {font: \"STIX-Web\"}});}\n",
       "        if (typeof require !== 'undefined') {\n",
       "        require.undef(\"plotly\");\n",
       "        requirejs.config({\n",
       "            paths: {\n",
       "                'plotly': ['https://cdn.plot.ly/plotly-2.9.0.min']\n",
       "            }\n",
       "        });\n",
       "        require(['plotly'], function(Plotly) {\n",
       "            window._Plotly = Plotly;\n",
       "        });\n",
       "        }\n",
       "        </script>\n",
       "        "
      ]
     },
     "metadata": {},
     "output_type": "display_data"
    },
    {
     "data": {
      "text/html": [
       "<div>                            <div id=\"f8aa5310-9ad8-420d-995c-7cea68bba96a\" class=\"plotly-graph-div\" style=\"height:525px; width:100%;\"></div>            <script type=\"text/javascript\">                require([\"plotly\"], function(Plotly) {                    window.PLOTLYENV=window.PLOTLYENV || {};                                    if (document.getElementById(\"f8aa5310-9ad8-420d-995c-7cea68bba96a\")) {                    Plotly.newPlot(                        \"f8aa5310-9ad8-420d-995c-7cea68bba96a\",                        [{\"hovertemplate\":\"<b>%{hovertext}</b><br><br>Country=%{text}<br>Year=2000<br>GDP=%{x}<br>Life_Expectancy=%{marker.size}<extra></extra>\",\"hovertext\":[\"Chile\"],\"ids\":[\"Chile\"],\"legendgroup\":\"Chile\",\"marker\":{\"color\":\"firebrick\",\"size\":[77.3],\"sizemode\":\"area\",\"sizeref\":0.1296,\"symbol\":\"circle\"},\"mode\":\"markers+text\",\"name\":\"Chile\",\"orientation\":\"v\",\"showlegend\":true,\"text\":[\"Chile\"],\"x\":[77860932152.0],\"xaxis\":\"x\",\"y\":[77.3],\"yaxis\":\"y\",\"type\":\"scatter\",\"textposition\":\"bottom center\"},{\"hovertemplate\":\"<b>%{hovertext}</b><br><br>Country=%{text}<br>Year=2000<br>GDP=%{x}<br>Life_Expectancy=%{marker.size}<extra></extra>\",\"hovertext\":[\"China\"],\"ids\":[\"China\"],\"legendgroup\":\"China\",\"marker\":{\"color\":\"crimson\",\"size\":[71.7],\"sizemode\":\"area\",\"sizeref\":0.1296,\"symbol\":\"circle\"},\"mode\":\"markers+text\",\"name\":\"China\",\"orientation\":\"v\",\"showlegend\":true,\"text\":[\"China\"],\"x\":[1211350000000.0],\"xaxis\":\"x\",\"y\":[71.7],\"yaxis\":\"y\",\"type\":\"scatter\",\"textposition\":\"bottom center\"},{\"hovertemplate\":\"<b>%{hovertext}</b><br><br>Country=%{text}<br>Year=2000<br>GDP=%{x}<br>Life_Expectancy=%{marker.size}<extra></extra>\",\"hovertext\":[\"Germany\"],\"ids\":[\"Germany\"],\"legendgroup\":\"Germany\",\"marker\":{\"color\":\"black\",\"size\":[78.0],\"sizemode\":\"area\",\"sizeref\":0.1296,\"symbol\":\"circle\"},\"mode\":\"markers+text\",\"name\":\"Germany\",\"orientation\":\"v\",\"showlegend\":true,\"text\":[\"Germany\"],\"x\":[1949950000000.0],\"xaxis\":\"x\",\"y\":[78.0],\"yaxis\":\"y\",\"type\":\"scatter\",\"textposition\":\"bottom center\"},{\"hovertemplate\":\"<b>%{hovertext}</b><br><br>Country=%{text}<br>Year=2000<br>GDP=%{x}<br>Life_Expectancy=%{marker.size}<extra></extra>\",\"hovertext\":[\"Mexico\"],\"ids\":[\"Mexico\"],\"legendgroup\":\"Mexico\",\"marker\":{\"color\":\"green\",\"size\":[74.8],\"sizemode\":\"area\",\"sizeref\":0.1296,\"symbol\":\"circle\"},\"mode\":\"markers+text\",\"name\":\"Mexico\",\"orientation\":\"v\",\"showlegend\":true,\"text\":[\"Mexico\"],\"x\":[683648000000.0],\"xaxis\":\"x\",\"y\":[74.8],\"yaxis\":\"y\",\"type\":\"scatter\",\"textposition\":\"bottom center\"},{\"hovertemplate\":\"<b>%{hovertext}</b><br><br>Country=%{text}<br>Year=2000<br>GDP=%{x}<br>Life_Expectancy=%{marker.size}<extra></extra>\",\"hovertext\":[\"USA\"],\"ids\":[\"USA\"],\"legendgroup\":\"USA\",\"marker\":{\"color\":\"midnightblue\",\"size\":[76.8],\"sizemode\":\"area\",\"sizeref\":0.1296,\"symbol\":\"circle\"},\"mode\":\"markers+text\",\"name\":\"USA\",\"orientation\":\"v\",\"showlegend\":true,\"text\":[\"USA\"],\"x\":[10300000000000.0],\"xaxis\":\"x\",\"y\":[76.8],\"yaxis\":\"y\",\"type\":\"scatter\",\"textposition\":\"bottom center\"},{\"hovertemplate\":\"<b>%{hovertext}</b><br><br>Country=%{text}<br>Year=2000<br>GDP=%{x}<br>Life_Expectancy=%{marker.size}<extra></extra>\",\"hovertext\":[\"Zimbabwe\"],\"ids\":[\"Zimbabwe\"],\"legendgroup\":\"Zimbabwe\",\"marker\":{\"color\":\"black\",\"size\":[46.0],\"sizemode\":\"area\",\"sizeref\":0.1296,\"symbol\":\"circle\"},\"mode\":\"markers+text\",\"name\":\"Zimbabwe\",\"orientation\":\"v\",\"showlegend\":true,\"text\":[\"Zimbabwe\"],\"x\":[6689957600.0],\"xaxis\":\"x\",\"y\":[46.0],\"yaxis\":\"y\",\"type\":\"scatter\",\"textposition\":\"bottom center\"}],                        {\"template\":{\"data\":{\"bar\":[{\"error_x\":{\"color\":\"#2a3f5f\"},\"error_y\":{\"color\":\"#2a3f5f\"},\"marker\":{\"line\":{\"color\":\"#E5ECF6\",\"width\":0.5},\"pattern\":{\"fillmode\":\"overlay\",\"size\":10,\"solidity\":0.2}},\"type\":\"bar\"}],\"barpolar\":[{\"marker\":{\"line\":{\"color\":\"#E5ECF6\",\"width\":0.5},\"pattern\":{\"fillmode\":\"overlay\",\"size\":10,\"solidity\":0.2}},\"type\":\"barpolar\"}],\"carpet\":[{\"aaxis\":{\"endlinecolor\":\"#2a3f5f\",\"gridcolor\":\"white\",\"linecolor\":\"white\",\"minorgridcolor\":\"white\",\"startlinecolor\":\"#2a3f5f\"},\"baxis\":{\"endlinecolor\":\"#2a3f5f\",\"gridcolor\":\"white\",\"linecolor\":\"white\",\"minorgridcolor\":\"white\",\"startlinecolor\":\"#2a3f5f\"},\"type\":\"carpet\"}],\"choropleth\":[{\"colorbar\":{\"outlinewidth\":0,\"ticks\":\"\"},\"type\":\"choropleth\"}],\"contour\":[{\"colorbar\":{\"outlinewidth\":0,\"ticks\":\"\"},\"colorscale\":[[0.0,\"#0d0887\"],[0.1111111111111111,\"#46039f\"],[0.2222222222222222,\"#7201a8\"],[0.3333333333333333,\"#9c179e\"],[0.4444444444444444,\"#bd3786\"],[0.5555555555555556,\"#d8576b\"],[0.6666666666666666,\"#ed7953\"],[0.7777777777777778,\"#fb9f3a\"],[0.8888888888888888,\"#fdca26\"],[1.0,\"#f0f921\"]],\"type\":\"contour\"}],\"contourcarpet\":[{\"colorbar\":{\"outlinewidth\":0,\"ticks\":\"\"},\"type\":\"contourcarpet\"}],\"heatmap\":[{\"colorbar\":{\"outlinewidth\":0,\"ticks\":\"\"},\"colorscale\":[[0.0,\"#0d0887\"],[0.1111111111111111,\"#46039f\"],[0.2222222222222222,\"#7201a8\"],[0.3333333333333333,\"#9c179e\"],[0.4444444444444444,\"#bd3786\"],[0.5555555555555556,\"#d8576b\"],[0.6666666666666666,\"#ed7953\"],[0.7777777777777778,\"#fb9f3a\"],[0.8888888888888888,\"#fdca26\"],[1.0,\"#f0f921\"]],\"type\":\"heatmap\"}],\"heatmapgl\":[{\"colorbar\":{\"outlinewidth\":0,\"ticks\":\"\"},\"colorscale\":[[0.0,\"#0d0887\"],[0.1111111111111111,\"#46039f\"],[0.2222222222222222,\"#7201a8\"],[0.3333333333333333,\"#9c179e\"],[0.4444444444444444,\"#bd3786\"],[0.5555555555555556,\"#d8576b\"],[0.6666666666666666,\"#ed7953\"],[0.7777777777777778,\"#fb9f3a\"],[0.8888888888888888,\"#fdca26\"],[1.0,\"#f0f921\"]],\"type\":\"heatmapgl\"}],\"histogram\":[{\"marker\":{\"pattern\":{\"fillmode\":\"overlay\",\"size\":10,\"solidity\":0.2}},\"type\":\"histogram\"}],\"histogram2d\":[{\"colorbar\":{\"outlinewidth\":0,\"ticks\":\"\"},\"colorscale\":[[0.0,\"#0d0887\"],[0.1111111111111111,\"#46039f\"],[0.2222222222222222,\"#7201a8\"],[0.3333333333333333,\"#9c179e\"],[0.4444444444444444,\"#bd3786\"],[0.5555555555555556,\"#d8576b\"],[0.6666666666666666,\"#ed7953\"],[0.7777777777777778,\"#fb9f3a\"],[0.8888888888888888,\"#fdca26\"],[1.0,\"#f0f921\"]],\"type\":\"histogram2d\"}],\"histogram2dcontour\":[{\"colorbar\":{\"outlinewidth\":0,\"ticks\":\"\"},\"colorscale\":[[0.0,\"#0d0887\"],[0.1111111111111111,\"#46039f\"],[0.2222222222222222,\"#7201a8\"],[0.3333333333333333,\"#9c179e\"],[0.4444444444444444,\"#bd3786\"],[0.5555555555555556,\"#d8576b\"],[0.6666666666666666,\"#ed7953\"],[0.7777777777777778,\"#fb9f3a\"],[0.8888888888888888,\"#fdca26\"],[1.0,\"#f0f921\"]],\"type\":\"histogram2dcontour\"}],\"mesh3d\":[{\"colorbar\":{\"outlinewidth\":0,\"ticks\":\"\"},\"type\":\"mesh3d\"}],\"parcoords\":[{\"line\":{\"colorbar\":{\"outlinewidth\":0,\"ticks\":\"\"}},\"type\":\"parcoords\"}],\"pie\":[{\"automargin\":true,\"type\":\"pie\"}],\"scatter\":[{\"marker\":{\"colorbar\":{\"outlinewidth\":0,\"ticks\":\"\"}},\"type\":\"scatter\"}],\"scatter3d\":[{\"line\":{\"colorbar\":{\"outlinewidth\":0,\"ticks\":\"\"}},\"marker\":{\"colorbar\":{\"outlinewidth\":0,\"ticks\":\"\"}},\"type\":\"scatter3d\"}],\"scattercarpet\":[{\"marker\":{\"colorbar\":{\"outlinewidth\":0,\"ticks\":\"\"}},\"type\":\"scattercarpet\"}],\"scattergeo\":[{\"marker\":{\"colorbar\":{\"outlinewidth\":0,\"ticks\":\"\"}},\"type\":\"scattergeo\"}],\"scattergl\":[{\"marker\":{\"colorbar\":{\"outlinewidth\":0,\"ticks\":\"\"}},\"type\":\"scattergl\"}],\"scattermapbox\":[{\"marker\":{\"colorbar\":{\"outlinewidth\":0,\"ticks\":\"\"}},\"type\":\"scattermapbox\"}],\"scatterpolar\":[{\"marker\":{\"colorbar\":{\"outlinewidth\":0,\"ticks\":\"\"}},\"type\":\"scatterpolar\"}],\"scatterpolargl\":[{\"marker\":{\"colorbar\":{\"outlinewidth\":0,\"ticks\":\"\"}},\"type\":\"scatterpolargl\"}],\"scatterternary\":[{\"marker\":{\"colorbar\":{\"outlinewidth\":0,\"ticks\":\"\"}},\"type\":\"scatterternary\"}],\"surface\":[{\"colorbar\":{\"outlinewidth\":0,\"ticks\":\"\"},\"colorscale\":[[0.0,\"#0d0887\"],[0.1111111111111111,\"#46039f\"],[0.2222222222222222,\"#7201a8\"],[0.3333333333333333,\"#9c179e\"],[0.4444444444444444,\"#bd3786\"],[0.5555555555555556,\"#d8576b\"],[0.6666666666666666,\"#ed7953\"],[0.7777777777777778,\"#fb9f3a\"],[0.8888888888888888,\"#fdca26\"],[1.0,\"#f0f921\"]],\"type\":\"surface\"}],\"table\":[{\"cells\":{\"fill\":{\"color\":\"#EBF0F8\"},\"line\":{\"color\":\"white\"}},\"header\":{\"fill\":{\"color\":\"#C8D4E3\"},\"line\":{\"color\":\"white\"}},\"type\":\"table\"}]},\"layout\":{\"annotationdefaults\":{\"arrowcolor\":\"#2a3f5f\",\"arrowhead\":0,\"arrowwidth\":1},\"autotypenumbers\":\"strict\",\"coloraxis\":{\"colorbar\":{\"outlinewidth\":0,\"ticks\":\"\"}},\"colorscale\":{\"diverging\":[[0,\"#8e0152\"],[0.1,\"#c51b7d\"],[0.2,\"#de77ae\"],[0.3,\"#f1b6da\"],[0.4,\"#fde0ef\"],[0.5,\"#f7f7f7\"],[0.6,\"#e6f5d0\"],[0.7,\"#b8e186\"],[0.8,\"#7fbc41\"],[0.9,\"#4d9221\"],[1,\"#276419\"]],\"sequential\":[[0.0,\"#0d0887\"],[0.1111111111111111,\"#46039f\"],[0.2222222222222222,\"#7201a8\"],[0.3333333333333333,\"#9c179e\"],[0.4444444444444444,\"#bd3786\"],[0.5555555555555556,\"#d8576b\"],[0.6666666666666666,\"#ed7953\"],[0.7777777777777778,\"#fb9f3a\"],[0.8888888888888888,\"#fdca26\"],[1.0,\"#f0f921\"]],\"sequentialminus\":[[0.0,\"#0d0887\"],[0.1111111111111111,\"#46039f\"],[0.2222222222222222,\"#7201a8\"],[0.3333333333333333,\"#9c179e\"],[0.4444444444444444,\"#bd3786\"],[0.5555555555555556,\"#d8576b\"],[0.6666666666666666,\"#ed7953\"],[0.7777777777777778,\"#fb9f3a\"],[0.8888888888888888,\"#fdca26\"],[1.0,\"#f0f921\"]]},\"colorway\":[\"#636efa\",\"#EF553B\",\"#00cc96\",\"#ab63fa\",\"#FFA15A\",\"#19d3f3\",\"#FF6692\",\"#B6E880\",\"#FF97FF\",\"#FECB52\"],\"font\":{\"color\":\"#2a3f5f\"},\"geo\":{\"bgcolor\":\"white\",\"lakecolor\":\"white\",\"landcolor\":\"#E5ECF6\",\"showlakes\":true,\"showland\":true,\"subunitcolor\":\"white\"},\"hoverlabel\":{\"align\":\"left\"},\"hovermode\":\"closest\",\"mapbox\":{\"style\":\"light\"},\"paper_bgcolor\":\"white\",\"plot_bgcolor\":\"#E5ECF6\",\"polar\":{\"angularaxis\":{\"gridcolor\":\"white\",\"linecolor\":\"white\",\"ticks\":\"\"},\"bgcolor\":\"#E5ECF6\",\"radialaxis\":{\"gridcolor\":\"white\",\"linecolor\":\"white\",\"ticks\":\"\"}},\"scene\":{\"xaxis\":{\"backgroundcolor\":\"#E5ECF6\",\"gridcolor\":\"white\",\"gridwidth\":2,\"linecolor\":\"white\",\"showbackground\":true,\"ticks\":\"\",\"zerolinecolor\":\"white\"},\"yaxis\":{\"backgroundcolor\":\"#E5ECF6\",\"gridcolor\":\"white\",\"gridwidth\":2,\"linecolor\":\"white\",\"showbackground\":true,\"ticks\":\"\",\"zerolinecolor\":\"white\"},\"zaxis\":{\"backgroundcolor\":\"#E5ECF6\",\"gridcolor\":\"white\",\"gridwidth\":2,\"linecolor\":\"white\",\"showbackground\":true,\"ticks\":\"\",\"zerolinecolor\":\"white\"}},\"shapedefaults\":{\"line\":{\"color\":\"#2a3f5f\"}},\"ternary\":{\"aaxis\":{\"gridcolor\":\"white\",\"linecolor\":\"white\",\"ticks\":\"\"},\"baxis\":{\"gridcolor\":\"white\",\"linecolor\":\"white\",\"ticks\":\"\"},\"bgcolor\":\"#E5ECF6\",\"caxis\":{\"gridcolor\":\"white\",\"linecolor\":\"white\",\"ticks\":\"\"}},\"title\":{\"x\":0.05},\"xaxis\":{\"automargin\":true,\"gridcolor\":\"white\",\"linecolor\":\"white\",\"ticks\":\"\",\"title\":{\"standoff\":15},\"zerolinecolor\":\"white\",\"zerolinewidth\":2},\"yaxis\":{\"automargin\":true,\"gridcolor\":\"white\",\"linecolor\":\"white\",\"ticks\":\"\",\"title\":{\"standoff\":15},\"zerolinecolor\":\"white\",\"zerolinewidth\":2}}},\"xaxis\":{\"anchor\":\"y\",\"domain\":[0.0,1.0],\"title\":{\"text\":\"GDP\"},\"type\":\"log\",\"range\":[9.343969839740234,13.354588587877238],\"tickmode\":\"linear\",\"tick0\":10000000000,\"dtick\":-0.1},\"yaxis\":{\"anchor\":\"x\",\"domain\":[0.0,1.0],\"title\":{\"text\":\"Life_Expectancy\"},\"range\":[30,90]},\"legend\":{\"title\":{\"text\":\"Country\"},\"tracegroupgap\":0,\"itemsizing\":\"constant\"},\"margin\":{\"t\":60},\"updatemenus\":[{\"buttons\":[{\"args\":[null,{\"frame\":{\"duration\":500,\"redraw\":false},\"mode\":\"immediate\",\"fromcurrent\":true,\"transition\":{\"duration\":500,\"easing\":\"linear\"}}],\"label\":\"&#9654;\",\"method\":\"animate\"},{\"args\":[[null],{\"frame\":{\"duration\":0,\"redraw\":false},\"mode\":\"immediate\",\"fromcurrent\":true,\"transition\":{\"duration\":0,\"easing\":\"linear\"}}],\"label\":\"&#9724;\",\"method\":\"animate\"}],\"direction\":\"left\",\"pad\":{\"r\":10,\"t\":70},\"showactive\":false,\"type\":\"buttons\",\"x\":0.1,\"xanchor\":\"right\",\"y\":0,\"yanchor\":\"top\"}],\"sliders\":[{\"active\":0,\"currentvalue\":{\"prefix\":\"Year=\"},\"len\":0.9,\"pad\":{\"b\":10,\"t\":60},\"steps\":[{\"args\":[[\"2000\"],{\"frame\":{\"duration\":0,\"redraw\":false},\"mode\":\"immediate\",\"fromcurrent\":true,\"transition\":{\"duration\":0,\"easing\":\"linear\"}}],\"label\":\"2000\",\"method\":\"animate\"},{\"args\":[[\"2001\"],{\"frame\":{\"duration\":0,\"redraw\":false},\"mode\":\"immediate\",\"fromcurrent\":true,\"transition\":{\"duration\":0,\"easing\":\"linear\"}}],\"label\":\"2001\",\"method\":\"animate\"},{\"args\":[[\"2002\"],{\"frame\":{\"duration\":0,\"redraw\":false},\"mode\":\"immediate\",\"fromcurrent\":true,\"transition\":{\"duration\":0,\"easing\":\"linear\"}}],\"label\":\"2002\",\"method\":\"animate\"},{\"args\":[[\"2003\"],{\"frame\":{\"duration\":0,\"redraw\":false},\"mode\":\"immediate\",\"fromcurrent\":true,\"transition\":{\"duration\":0,\"easing\":\"linear\"}}],\"label\":\"2003\",\"method\":\"animate\"},{\"args\":[[\"2004\"],{\"frame\":{\"duration\":0,\"redraw\":false},\"mode\":\"immediate\",\"fromcurrent\":true,\"transition\":{\"duration\":0,\"easing\":\"linear\"}}],\"label\":\"2004\",\"method\":\"animate\"},{\"args\":[[\"2005\"],{\"frame\":{\"duration\":0,\"redraw\":false},\"mode\":\"immediate\",\"fromcurrent\":true,\"transition\":{\"duration\":0,\"easing\":\"linear\"}}],\"label\":\"2005\",\"method\":\"animate\"},{\"args\":[[\"2006\"],{\"frame\":{\"duration\":0,\"redraw\":false},\"mode\":\"immediate\",\"fromcurrent\":true,\"transition\":{\"duration\":0,\"easing\":\"linear\"}}],\"label\":\"2006\",\"method\":\"animate\"},{\"args\":[[\"2007\"],{\"frame\":{\"duration\":0,\"redraw\":false},\"mode\":\"immediate\",\"fromcurrent\":true,\"transition\":{\"duration\":0,\"easing\":\"linear\"}}],\"label\":\"2007\",\"method\":\"animate\"},{\"args\":[[\"2008\"],{\"frame\":{\"duration\":0,\"redraw\":false},\"mode\":\"immediate\",\"fromcurrent\":true,\"transition\":{\"duration\":0,\"easing\":\"linear\"}}],\"label\":\"2008\",\"method\":\"animate\"},{\"args\":[[\"2009\"],{\"frame\":{\"duration\":0,\"redraw\":false},\"mode\":\"immediate\",\"fromcurrent\":true,\"transition\":{\"duration\":0,\"easing\":\"linear\"}}],\"label\":\"2009\",\"method\":\"animate\"},{\"args\":[[\"2010\"],{\"frame\":{\"duration\":0,\"redraw\":false},\"mode\":\"immediate\",\"fromcurrent\":true,\"transition\":{\"duration\":0,\"easing\":\"linear\"}}],\"label\":\"2010\",\"method\":\"animate\"},{\"args\":[[\"2011\"],{\"frame\":{\"duration\":0,\"redraw\":false},\"mode\":\"immediate\",\"fromcurrent\":true,\"transition\":{\"duration\":0,\"easing\":\"linear\"}}],\"label\":\"2011\",\"method\":\"animate\"},{\"args\":[[\"2012\"],{\"frame\":{\"duration\":0,\"redraw\":false},\"mode\":\"immediate\",\"fromcurrent\":true,\"transition\":{\"duration\":0,\"easing\":\"linear\"}}],\"label\":\"2012\",\"method\":\"animate\"},{\"args\":[[\"2013\"],{\"frame\":{\"duration\":0,\"redraw\":false},\"mode\":\"immediate\",\"fromcurrent\":true,\"transition\":{\"duration\":0,\"easing\":\"linear\"}}],\"label\":\"2013\",\"method\":\"animate\"},{\"args\":[[\"2014\"],{\"frame\":{\"duration\":0,\"redraw\":false},\"mode\":\"immediate\",\"fromcurrent\":true,\"transition\":{\"duration\":0,\"easing\":\"linear\"}}],\"label\":\"2014\",\"method\":\"animate\"},{\"args\":[[\"2015\"],{\"frame\":{\"duration\":0,\"redraw\":false},\"mode\":\"immediate\",\"fromcurrent\":true,\"transition\":{\"duration\":0,\"easing\":\"linear\"}}],\"label\":\"2015\",\"method\":\"animate\"}],\"x\":0.1,\"xanchor\":\"left\",\"y\":0,\"yanchor\":\"top\"}],\"font\":{\"color\":\"#231F20\",\"size\":12},\"plot_bgcolor\":\"white\",\"showlegend\":false,\"annotations\":[{\"align\":\"left\",\"font\":{\"size\":12},\"showarrow\":false,\"text\":\"Data Source: codeacademy.com\",\"x\":-0.005,\"xanchor\":\"left\",\"xref\":\"paper\",\"y\":-0.145,\"yref\":\"paper\"},{\"align\":\"right\",\"font\":{\"size\":12},\"showarrow\":false,\"text\":\"Author: Felipe Oliveira\",\"x\":1.005,\"xanchor\":\"right\",\"xref\":\"paper\",\"y\":-0.145,\"yref\":\"paper\"},{\"font\":{\"color\":\"#404647\",\"size\":18},\"showarrow\":false,\"text\":\"GDP & LIFE EXPECTANCY GROWTH OVER TIME (2000-2015)\",\"x\":0.32,\"xanchor\":\"left\",\"xref\":\"paper\",\"y\":1.1,\"yref\":\"paper\"}]},                        {\"responsive\": true}                    ).then(function(){\n",
       "                            Plotly.addFrames('f8aa5310-9ad8-420d-995c-7cea68bba96a', [{\"data\":[{\"hovertemplate\":\"<b>%{hovertext}</b><br><br>Country=%{text}<br>Year=2000<br>GDP=%{x}<br>Life_Expectancy=%{marker.size}<extra></extra>\",\"hovertext\":[\"Chile\"],\"ids\":[\"Chile\"],\"legendgroup\":\"Chile\",\"marker\":{\"color\":\"firebrick\",\"size\":[77.3],\"sizemode\":\"area\",\"sizeref\":0.1296,\"symbol\":\"circle\"},\"mode\":\"markers+text\",\"name\":\"Chile\",\"orientation\":\"v\",\"showlegend\":true,\"text\":[\"Chile\"],\"x\":[77860932152.0],\"xaxis\":\"x\",\"y\":[77.3],\"yaxis\":\"y\",\"type\":\"scatter\"},{\"hovertemplate\":\"<b>%{hovertext}</b><br><br>Country=%{text}<br>Year=2000<br>GDP=%{x}<br>Life_Expectancy=%{marker.size}<extra></extra>\",\"hovertext\":[\"China\"],\"ids\":[\"China\"],\"legendgroup\":\"China\",\"marker\":{\"color\":\"crimson\",\"size\":[71.7],\"sizemode\":\"area\",\"sizeref\":0.1296,\"symbol\":\"circle\"},\"mode\":\"markers+text\",\"name\":\"China\",\"orientation\":\"v\",\"showlegend\":true,\"text\":[\"China\"],\"x\":[1211350000000.0],\"xaxis\":\"x\",\"y\":[71.7],\"yaxis\":\"y\",\"type\":\"scatter\"},{\"hovertemplate\":\"<b>%{hovertext}</b><br><br>Country=%{text}<br>Year=2000<br>GDP=%{x}<br>Life_Expectancy=%{marker.size}<extra></extra>\",\"hovertext\":[\"Germany\"],\"ids\":[\"Germany\"],\"legendgroup\":\"Germany\",\"marker\":{\"color\":\"black\",\"size\":[78.0],\"sizemode\":\"area\",\"sizeref\":0.1296,\"symbol\":\"circle\"},\"mode\":\"markers+text\",\"name\":\"Germany\",\"orientation\":\"v\",\"showlegend\":true,\"text\":[\"Germany\"],\"x\":[1949950000000.0],\"xaxis\":\"x\",\"y\":[78.0],\"yaxis\":\"y\",\"type\":\"scatter\"},{\"hovertemplate\":\"<b>%{hovertext}</b><br><br>Country=%{text}<br>Year=2000<br>GDP=%{x}<br>Life_Expectancy=%{marker.size}<extra></extra>\",\"hovertext\":[\"Mexico\"],\"ids\":[\"Mexico\"],\"legendgroup\":\"Mexico\",\"marker\":{\"color\":\"green\",\"size\":[74.8],\"sizemode\":\"area\",\"sizeref\":0.1296,\"symbol\":\"circle\"},\"mode\":\"markers+text\",\"name\":\"Mexico\",\"orientation\":\"v\",\"showlegend\":true,\"text\":[\"Mexico\"],\"x\":[683648000000.0],\"xaxis\":\"x\",\"y\":[74.8],\"yaxis\":\"y\",\"type\":\"scatter\"},{\"hovertemplate\":\"<b>%{hovertext}</b><br><br>Country=%{text}<br>Year=2000<br>GDP=%{x}<br>Life_Expectancy=%{marker.size}<extra></extra>\",\"hovertext\":[\"USA\"],\"ids\":[\"USA\"],\"legendgroup\":\"USA\",\"marker\":{\"color\":\"midnightblue\",\"size\":[76.8],\"sizemode\":\"area\",\"sizeref\":0.1296,\"symbol\":\"circle\"},\"mode\":\"markers+text\",\"name\":\"USA\",\"orientation\":\"v\",\"showlegend\":true,\"text\":[\"USA\"],\"x\":[10300000000000.0],\"xaxis\":\"x\",\"y\":[76.8],\"yaxis\":\"y\",\"type\":\"scatter\"},{\"hovertemplate\":\"<b>%{hovertext}</b><br><br>Country=%{text}<br>Year=2000<br>GDP=%{x}<br>Life_Expectancy=%{marker.size}<extra></extra>\",\"hovertext\":[\"Zimbabwe\"],\"ids\":[\"Zimbabwe\"],\"legendgroup\":\"Zimbabwe\",\"marker\":{\"color\":\"black\",\"size\":[46.0],\"sizemode\":\"area\",\"sizeref\":0.1296,\"symbol\":\"circle\"},\"mode\":\"markers+text\",\"name\":\"Zimbabwe\",\"orientation\":\"v\",\"showlegend\":true,\"text\":[\"Zimbabwe\"],\"x\":[6689957600.0],\"xaxis\":\"x\",\"y\":[46.0],\"yaxis\":\"y\",\"type\":\"scatter\"}],\"name\":\"2000\"},{\"data\":[{\"hovertemplate\":\"<b>%{hovertext}</b><br><br>Country=%{text}<br>Year=2001<br>GDP=%{x}<br>Life_Expectancy=%{marker.size}<extra></extra>\",\"hovertext\":[\"Chile\"],\"ids\":[\"Chile\"],\"legendgroup\":\"Chile\",\"marker\":{\"color\":\"firebrick\",\"size\":[77.3],\"sizemode\":\"area\",\"sizeref\":0.1296,\"symbol\":\"circle\"},\"mode\":\"markers+text\",\"name\":\"Chile\",\"orientation\":\"v\",\"showlegend\":true,\"text\":[\"Chile\"],\"x\":[70979923960.0],\"xaxis\":\"x\",\"y\":[77.3],\"yaxis\":\"y\",\"type\":\"scatter\"},{\"hovertemplate\":\"<b>%{hovertext}</b><br><br>Country=%{text}<br>Year=2001<br>GDP=%{x}<br>Life_Expectancy=%{marker.size}<extra></extra>\",\"hovertext\":[\"China\"],\"ids\":[\"China\"],\"legendgroup\":\"China\",\"marker\":{\"color\":\"crimson\",\"size\":[72.2],\"sizemode\":\"area\",\"sizeref\":0.1296,\"symbol\":\"circle\"},\"mode\":\"markers+text\",\"name\":\"China\",\"orientation\":\"v\",\"showlegend\":true,\"text\":[\"China\"],\"x\":[1339400000000.0],\"xaxis\":\"x\",\"y\":[72.2],\"yaxis\":\"y\",\"type\":\"scatter\"},{\"hovertemplate\":\"<b>%{hovertext}</b><br><br>Country=%{text}<br>Year=2001<br>GDP=%{x}<br>Life_Expectancy=%{marker.size}<extra></extra>\",\"hovertext\":[\"Germany\"],\"ids\":[\"Germany\"],\"legendgroup\":\"Germany\",\"marker\":{\"color\":\"black\",\"size\":[78.3],\"sizemode\":\"area\",\"sizeref\":0.1296,\"symbol\":\"circle\"},\"mode\":\"markers+text\",\"name\":\"Germany\",\"orientation\":\"v\",\"showlegend\":true,\"text\":[\"Germany\"],\"x\":[1950650000000.0],\"xaxis\":\"x\",\"y\":[78.3],\"yaxis\":\"y\",\"type\":\"scatter\"},{\"hovertemplate\":\"<b>%{hovertext}</b><br><br>Country=%{text}<br>Year=2001<br>GDP=%{x}<br>Life_Expectancy=%{marker.size}<extra></extra>\",\"hovertext\":[\"Mexico\"],\"ids\":[\"Mexico\"],\"legendgroup\":\"Mexico\",\"marker\":{\"color\":\"green\",\"size\":[75.0],\"sizemode\":\"area\",\"sizeref\":0.1296,\"symbol\":\"circle\"},\"mode\":\"markers+text\",\"name\":\"Mexico\",\"orientation\":\"v\",\"showlegend\":true,\"text\":[\"Mexico\"],\"x\":[724704000000.0],\"xaxis\":\"x\",\"y\":[75.0],\"yaxis\":\"y\",\"type\":\"scatter\"},{\"hovertemplate\":\"<b>%{hovertext}</b><br><br>Country=%{text}<br>Year=2001<br>GDP=%{x}<br>Life_Expectancy=%{marker.size}<extra></extra>\",\"hovertext\":[\"USA\"],\"ids\":[\"USA\"],\"legendgroup\":\"USA\",\"marker\":{\"color\":\"midnightblue\",\"size\":[76.9],\"sizemode\":\"area\",\"sizeref\":0.1296,\"symbol\":\"circle\"},\"mode\":\"markers+text\",\"name\":\"USA\",\"orientation\":\"v\",\"showlegend\":true,\"text\":[\"USA\"],\"x\":[10600000000000.0],\"xaxis\":\"x\",\"y\":[76.9],\"yaxis\":\"y\",\"type\":\"scatter\"},{\"hovertemplate\":\"<b>%{hovertext}</b><br><br>Country=%{text}<br>Year=2001<br>GDP=%{x}<br>Life_Expectancy=%{marker.size}<extra></extra>\",\"hovertext\":[\"Zimbabwe\"],\"ids\":[\"Zimbabwe\"],\"legendgroup\":\"Zimbabwe\",\"marker\":{\"color\":\"black\",\"size\":[45.3],\"sizemode\":\"area\",\"sizeref\":0.1296,\"symbol\":\"circle\"},\"mode\":\"markers+text\",\"name\":\"Zimbabwe\",\"orientation\":\"v\",\"showlegend\":true,\"text\":[\"Zimbabwe\"],\"x\":[6777384700.0],\"xaxis\":\"x\",\"y\":[45.3],\"yaxis\":\"y\",\"type\":\"scatter\"}],\"name\":\"2001\"},{\"data\":[{\"hovertemplate\":\"<b>%{hovertext}</b><br><br>Country=%{text}<br>Year=2002<br>GDP=%{x}<br>Life_Expectancy=%{marker.size}<extra></extra>\",\"hovertext\":[\"Chile\"],\"ids\":[\"Chile\"],\"legendgroup\":\"Chile\",\"marker\":{\"color\":\"firebrick\",\"size\":[77.8],\"sizemode\":\"area\",\"sizeref\":0.1296,\"symbol\":\"circle\"},\"mode\":\"markers+text\",\"name\":\"Chile\",\"orientation\":\"v\",\"showlegend\":true,\"text\":[\"Chile\"],\"x\":[69736811435.0],\"xaxis\":\"x\",\"y\":[77.8],\"yaxis\":\"y\",\"type\":\"scatter\"},{\"hovertemplate\":\"<b>%{hovertext}</b><br><br>Country=%{text}<br>Year=2002<br>GDP=%{x}<br>Life_Expectancy=%{marker.size}<extra></extra>\",\"hovertext\":[\"China\"],\"ids\":[\"China\"],\"legendgroup\":\"China\",\"marker\":{\"color\":\"crimson\",\"size\":[72.7],\"sizemode\":\"area\",\"sizeref\":0.1296,\"symbol\":\"circle\"},\"mode\":\"markers+text\",\"name\":\"China\",\"orientation\":\"v\",\"showlegend\":true,\"text\":[\"China\"],\"x\":[1470550000000.0],\"xaxis\":\"x\",\"y\":[72.7],\"yaxis\":\"y\",\"type\":\"scatter\"},{\"hovertemplate\":\"<b>%{hovertext}</b><br><br>Country=%{text}<br>Year=2002<br>GDP=%{x}<br>Life_Expectancy=%{marker.size}<extra></extra>\",\"hovertext\":[\"Germany\"],\"ids\":[\"Germany\"],\"legendgroup\":\"Germany\",\"marker\":{\"color\":\"black\",\"size\":[78.4],\"sizemode\":\"area\",\"sizeref\":0.1296,\"symbol\":\"circle\"},\"mode\":\"markers+text\",\"name\":\"Germany\",\"orientation\":\"v\",\"showlegend\":true,\"text\":[\"Germany\"],\"x\":[2079140000000.0],\"xaxis\":\"x\",\"y\":[78.4],\"yaxis\":\"y\",\"type\":\"scatter\"},{\"hovertemplate\":\"<b>%{hovertext}</b><br><br>Country=%{text}<br>Year=2002<br>GDP=%{x}<br>Life_Expectancy=%{marker.size}<extra></extra>\",\"hovertext\":[\"Mexico\"],\"ids\":[\"Mexico\"],\"legendgroup\":\"Mexico\",\"marker\":{\"color\":\"green\",\"size\":[75.0],\"sizemode\":\"area\",\"sizeref\":0.1296,\"symbol\":\"circle\"},\"mode\":\"markers+text\",\"name\":\"Mexico\",\"orientation\":\"v\",\"showlegend\":true,\"text\":[\"Mexico\"],\"x\":[741560000000.0],\"xaxis\":\"x\",\"y\":[75.0],\"yaxis\":\"y\",\"type\":\"scatter\"},{\"hovertemplate\":\"<b>%{hovertext}</b><br><br>Country=%{text}<br>Year=2002<br>GDP=%{x}<br>Life_Expectancy=%{marker.size}<extra></extra>\",\"hovertext\":[\"USA\"],\"ids\":[\"USA\"],\"legendgroup\":\"USA\",\"marker\":{\"color\":\"midnightblue\",\"size\":[77.0],\"sizemode\":\"area\",\"sizeref\":0.1296,\"symbol\":\"circle\"},\"mode\":\"markers+text\",\"name\":\"USA\",\"orientation\":\"v\",\"showlegend\":true,\"text\":[\"USA\"],\"x\":[11000000000000.0],\"xaxis\":\"x\",\"y\":[77.0],\"yaxis\":\"y\",\"type\":\"scatter\"},{\"hovertemplate\":\"<b>%{hovertext}</b><br><br>Country=%{text}<br>Year=2002<br>GDP=%{x}<br>Life_Expectancy=%{marker.size}<extra></extra>\",\"hovertext\":[\"Zimbabwe\"],\"ids\":[\"Zimbabwe\"],\"legendgroup\":\"Zimbabwe\",\"marker\":{\"color\":\"black\",\"size\":[44.8],\"sizemode\":\"area\",\"sizeref\":0.1296,\"symbol\":\"circle\"},\"mode\":\"markers+text\",\"name\":\"Zimbabwe\",\"orientation\":\"v\",\"showlegend\":true,\"text\":[\"Zimbabwe\"],\"x\":[6342116400.0],\"xaxis\":\"x\",\"y\":[44.8],\"yaxis\":\"y\",\"type\":\"scatter\"}],\"name\":\"2002\"},{\"data\":[{\"hovertemplate\":\"<b>%{hovertext}</b><br><br>Country=%{text}<br>Year=2003<br>GDP=%{x}<br>Life_Expectancy=%{marker.size}<extra></extra>\",\"hovertext\":[\"Chile\"],\"ids\":[\"Chile\"],\"legendgroup\":\"Chile\",\"marker\":{\"color\":\"firebrick\",\"size\":[77.9],\"sizemode\":\"area\",\"sizeref\":0.1296,\"symbol\":\"circle\"},\"mode\":\"markers+text\",\"name\":\"Chile\",\"orientation\":\"v\",\"showlegend\":true,\"text\":[\"Chile\"],\"x\":[75643459840.0],\"xaxis\":\"x\",\"y\":[77.9],\"yaxis\":\"y\",\"type\":\"scatter\"},{\"hovertemplate\":\"<b>%{hovertext}</b><br><br>Country=%{text}<br>Year=2003<br>GDP=%{x}<br>Life_Expectancy=%{marker.size}<extra></extra>\",\"hovertext\":[\"China\"],\"ids\":[\"China\"],\"legendgroup\":\"China\",\"marker\":{\"color\":\"crimson\",\"size\":[73.1],\"sizemode\":\"area\",\"sizeref\":0.1296,\"symbol\":\"circle\"},\"mode\":\"markers+text\",\"name\":\"China\",\"orientation\":\"v\",\"showlegend\":true,\"text\":[\"China\"],\"x\":[1660290000000.0],\"xaxis\":\"x\",\"y\":[73.1],\"yaxis\":\"y\",\"type\":\"scatter\"},{\"hovertemplate\":\"<b>%{hovertext}</b><br><br>Country=%{text}<br>Year=2003<br>GDP=%{x}<br>Life_Expectancy=%{marker.size}<extra></extra>\",\"hovertext\":[\"Germany\"],\"ids\":[\"Germany\"],\"legendgroup\":\"Germany\",\"marker\":{\"color\":\"black\",\"size\":[78.5],\"sizemode\":\"area\",\"sizeref\":0.1296,\"symbol\":\"circle\"},\"mode\":\"markers+text\",\"name\":\"Germany\",\"orientation\":\"v\",\"showlegend\":true,\"text\":[\"Germany\"],\"x\":[2505730000000.0],\"xaxis\":\"x\",\"y\":[78.5],\"yaxis\":\"y\",\"type\":\"scatter\"},{\"hovertemplate\":\"<b>%{hovertext}</b><br><br>Country=%{text}<br>Year=2003<br>GDP=%{x}<br>Life_Expectancy=%{marker.size}<extra></extra>\",\"hovertext\":[\"Mexico\"],\"ids\":[\"Mexico\"],\"legendgroup\":\"Mexico\",\"marker\":{\"color\":\"green\",\"size\":[75.0],\"sizemode\":\"area\",\"sizeref\":0.1296,\"symbol\":\"circle\"},\"mode\":\"markers+text\",\"name\":\"Mexico\",\"orientation\":\"v\",\"showlegend\":true,\"text\":[\"Mexico\"],\"x\":[713284000000.0],\"xaxis\":\"x\",\"y\":[75.0],\"yaxis\":\"y\",\"type\":\"scatter\"},{\"hovertemplate\":\"<b>%{hovertext}</b><br><br>Country=%{text}<br>Year=2003<br>GDP=%{x}<br>Life_Expectancy=%{marker.size}<extra></extra>\",\"hovertext\":[\"USA\"],\"ids\":[\"USA\"],\"legendgroup\":\"USA\",\"marker\":{\"color\":\"midnightblue\",\"size\":[77.2],\"sizemode\":\"area\",\"sizeref\":0.1296,\"symbol\":\"circle\"},\"mode\":\"markers+text\",\"name\":\"USA\",\"orientation\":\"v\",\"showlegend\":true,\"text\":[\"USA\"],\"x\":[11500000000000.0],\"xaxis\":\"x\",\"y\":[77.2],\"yaxis\":\"y\",\"type\":\"scatter\"},{\"hovertemplate\":\"<b>%{hovertext}</b><br><br>Country=%{text}<br>Year=2003<br>GDP=%{x}<br>Life_Expectancy=%{marker.size}<extra></extra>\",\"hovertext\":[\"Zimbabwe\"],\"ids\":[\"Zimbabwe\"],\"legendgroup\":\"Zimbabwe\",\"marker\":{\"color\":\"black\",\"size\":[44.5],\"sizemode\":\"area\",\"sizeref\":0.1296,\"symbol\":\"circle\"},\"mode\":\"markers+text\",\"name\":\"Zimbabwe\",\"orientation\":\"v\",\"showlegend\":true,\"text\":[\"Zimbabwe\"],\"x\":[5727591800.0],\"xaxis\":\"x\",\"y\":[44.5],\"yaxis\":\"y\",\"type\":\"scatter\"}],\"name\":\"2003\"},{\"data\":[{\"hovertemplate\":\"<b>%{hovertext}</b><br><br>Country=%{text}<br>Year=2004<br>GDP=%{x}<br>Life_Expectancy=%{marker.size}<extra></extra>\",\"hovertext\":[\"Chile\"],\"ids\":[\"Chile\"],\"legendgroup\":\"Chile\",\"marker\":{\"color\":\"firebrick\",\"size\":[78.0],\"sizemode\":\"area\",\"sizeref\":0.1296,\"symbol\":\"circle\"},\"mode\":\"markers+text\",\"name\":\"Chile\",\"orientation\":\"v\",\"showlegend\":true,\"text\":[\"Chile\"],\"x\":[99210392858.0],\"xaxis\":\"x\",\"y\":[78.0],\"yaxis\":\"y\",\"type\":\"scatter\"},{\"hovertemplate\":\"<b>%{hovertext}</b><br><br>Country=%{text}<br>Year=2004<br>GDP=%{x}<br>Life_Expectancy=%{marker.size}<extra></extra>\",\"hovertext\":[\"China\"],\"ids\":[\"China\"],\"legendgroup\":\"China\",\"marker\":{\"color\":\"crimson\",\"size\":[73.5],\"sizemode\":\"area\",\"sizeref\":0.1296,\"symbol\":\"circle\"},\"mode\":\"markers+text\",\"name\":\"China\",\"orientation\":\"v\",\"showlegend\":true,\"text\":[\"China\"],\"x\":[1955350000000.0],\"xaxis\":\"x\",\"y\":[73.5],\"yaxis\":\"y\",\"type\":\"scatter\"},{\"hovertemplate\":\"<b>%{hovertext}</b><br><br>Country=%{text}<br>Year=2004<br>GDP=%{x}<br>Life_Expectancy=%{marker.size}<extra></extra>\",\"hovertext\":[\"Germany\"],\"ids\":[\"Germany\"],\"legendgroup\":\"Germany\",\"marker\":{\"color\":\"black\",\"size\":[79.1],\"sizemode\":\"area\",\"sizeref\":0.1296,\"symbol\":\"circle\"},\"mode\":\"markers+text\",\"name\":\"Germany\",\"orientation\":\"v\",\"showlegend\":true,\"text\":[\"Germany\"],\"x\":[2819250000000.0],\"xaxis\":\"x\",\"y\":[79.1],\"yaxis\":\"y\",\"type\":\"scatter\"},{\"hovertemplate\":\"<b>%{hovertext}</b><br><br>Country=%{text}<br>Year=2004<br>GDP=%{x}<br>Life_Expectancy=%{marker.size}<extra></extra>\",\"hovertext\":[\"Mexico\"],\"ids\":[\"Mexico\"],\"legendgroup\":\"Mexico\",\"marker\":{\"color\":\"green\",\"size\":[75.4],\"sizemode\":\"area\",\"sizeref\":0.1296,\"symbol\":\"circle\"},\"mode\":\"markers+text\",\"name\":\"Mexico\",\"orientation\":\"v\",\"showlegend\":true,\"text\":[\"Mexico\"],\"x\":[770268000000.0],\"xaxis\":\"x\",\"y\":[75.4],\"yaxis\":\"y\",\"type\":\"scatter\"},{\"hovertemplate\":\"<b>%{hovertext}</b><br><br>Country=%{text}<br>Year=2004<br>GDP=%{x}<br>Life_Expectancy=%{marker.size}<extra></extra>\",\"hovertext\":[\"USA\"],\"ids\":[\"USA\"],\"legendgroup\":\"USA\",\"marker\":{\"color\":\"midnightblue\",\"size\":[77.5],\"sizemode\":\"area\",\"sizeref\":0.1296,\"symbol\":\"circle\"},\"mode\":\"markers+text\",\"name\":\"USA\",\"orientation\":\"v\",\"showlegend\":true,\"text\":[\"USA\"],\"x\":[12300000000000.0],\"xaxis\":\"x\",\"y\":[77.5],\"yaxis\":\"y\",\"type\":\"scatter\"},{\"hovertemplate\":\"<b>%{hovertext}</b><br><br>Country=%{text}<br>Year=2004<br>GDP=%{x}<br>Life_Expectancy=%{marker.size}<extra></extra>\",\"hovertext\":[\"Zimbabwe\"],\"ids\":[\"Zimbabwe\"],\"legendgroup\":\"Zimbabwe\",\"marker\":{\"color\":\"black\",\"size\":[44.3],\"sizemode\":\"area\",\"sizeref\":0.1296,\"symbol\":\"circle\"},\"mode\":\"markers+text\",\"name\":\"Zimbabwe\",\"orientation\":\"v\",\"showlegend\":true,\"text\":[\"Zimbabwe\"],\"x\":[5805598400.0],\"xaxis\":\"x\",\"y\":[44.3],\"yaxis\":\"y\",\"type\":\"scatter\"}],\"name\":\"2004\"},{\"data\":[{\"hovertemplate\":\"<b>%{hovertext}</b><br><br>Country=%{text}<br>Year=2005<br>GDP=%{x}<br>Life_Expectancy=%{marker.size}<extra></extra>\",\"hovertext\":[\"Chile\"],\"ids\":[\"Chile\"],\"legendgroup\":\"Chile\",\"marker\":{\"color\":\"firebrick\",\"size\":[78.4],\"sizemode\":\"area\",\"sizeref\":0.1296,\"symbol\":\"circle\"},\"mode\":\"markers+text\",\"name\":\"Chile\",\"orientation\":\"v\",\"showlegend\":true,\"text\":[\"Chile\"],\"x\":[122965000000.0],\"xaxis\":\"x\",\"y\":[78.4],\"yaxis\":\"y\",\"type\":\"scatter\"},{\"hovertemplate\":\"<b>%{hovertext}</b><br><br>Country=%{text}<br>Year=2005<br>GDP=%{x}<br>Life_Expectancy=%{marker.size}<extra></extra>\",\"hovertext\":[\"China\"],\"ids\":[\"China\"],\"legendgroup\":\"China\",\"marker\":{\"color\":\"crimson\",\"size\":[73.9],\"sizemode\":\"area\",\"sizeref\":0.1296,\"symbol\":\"circle\"},\"mode\":\"markers+text\",\"name\":\"China\",\"orientation\":\"v\",\"showlegend\":true,\"text\":[\"China\"],\"x\":[2285970000000.0],\"xaxis\":\"x\",\"y\":[73.9],\"yaxis\":\"y\",\"type\":\"scatter\"},{\"hovertemplate\":\"<b>%{hovertext}</b><br><br>Country=%{text}<br>Year=2005<br>GDP=%{x}<br>Life_Expectancy=%{marker.size}<extra></extra>\",\"hovertext\":[\"Germany\"],\"ids\":[\"Germany\"],\"legendgroup\":\"Germany\",\"marker\":{\"color\":\"black\",\"size\":[79.2],\"sizemode\":\"area\",\"sizeref\":0.1296,\"symbol\":\"circle\"},\"mode\":\"markers+text\",\"name\":\"Germany\",\"orientation\":\"v\",\"showlegend\":true,\"text\":[\"Germany\"],\"x\":[2861410000000.0],\"xaxis\":\"x\",\"y\":[79.2],\"yaxis\":\"y\",\"type\":\"scatter\"},{\"hovertemplate\":\"<b>%{hovertext}</b><br><br>Country=%{text}<br>Year=2005<br>GDP=%{x}<br>Life_Expectancy=%{marker.size}<extra></extra>\",\"hovertext\":[\"Mexico\"],\"ids\":[\"Mexico\"],\"legendgroup\":\"Mexico\",\"marker\":{\"color\":\"green\",\"size\":[75.3],\"sizemode\":\"area\",\"sizeref\":0.1296,\"symbol\":\"circle\"},\"mode\":\"markers+text\",\"name\":\"Mexico\",\"orientation\":\"v\",\"showlegend\":true,\"text\":[\"Mexico\"],\"x\":[866346000000.0],\"xaxis\":\"x\",\"y\":[75.3],\"yaxis\":\"y\",\"type\":\"scatter\"},{\"hovertemplate\":\"<b>%{hovertext}</b><br><br>Country=%{text}<br>Year=2005<br>GDP=%{x}<br>Life_Expectancy=%{marker.size}<extra></extra>\",\"hovertext\":[\"USA\"],\"ids\":[\"USA\"],\"legendgroup\":\"USA\",\"marker\":{\"color\":\"midnightblue\",\"size\":[77.5],\"sizemode\":\"area\",\"sizeref\":0.1296,\"symbol\":\"circle\"},\"mode\":\"markers+text\",\"name\":\"USA\",\"orientation\":\"v\",\"showlegend\":true,\"text\":[\"USA\"],\"x\":[13100000000000.0],\"xaxis\":\"x\",\"y\":[77.5],\"yaxis\":\"y\",\"type\":\"scatter\"},{\"hovertemplate\":\"<b>%{hovertext}</b><br><br>Country=%{text}<br>Year=2005<br>GDP=%{x}<br>Life_Expectancy=%{marker.size}<extra></extra>\",\"hovertext\":[\"Zimbabwe\"],\"ids\":[\"Zimbabwe\"],\"legendgroup\":\"Zimbabwe\",\"marker\":{\"color\":\"black\",\"size\":[44.6],\"sizemode\":\"area\",\"sizeref\":0.1296,\"symbol\":\"circle\"},\"mode\":\"markers+text\",\"name\":\"Zimbabwe\",\"orientation\":\"v\",\"showlegend\":true,\"text\":[\"Zimbabwe\"],\"x\":[5755215200.0],\"xaxis\":\"x\",\"y\":[44.6],\"yaxis\":\"y\",\"type\":\"scatter\"}],\"name\":\"2005\"},{\"data\":[{\"hovertemplate\":\"<b>%{hovertext}</b><br><br>Country=%{text}<br>Year=2006<br>GDP=%{x}<br>Life_Expectancy=%{marker.size}<extra></extra>\",\"hovertext\":[\"Chile\"],\"ids\":[\"Chile\"],\"legendgroup\":\"Chile\",\"marker\":{\"color\":\"firebrick\",\"size\":[78.9],\"sizemode\":\"area\",\"sizeref\":0.1296,\"symbol\":\"circle\"},\"mode\":\"markers+text\",\"name\":\"Chile\",\"orientation\":\"v\",\"showlegend\":true,\"text\":[\"Chile\"],\"x\":[154788000000.0],\"xaxis\":\"x\",\"y\":[78.9],\"yaxis\":\"y\",\"type\":\"scatter\"},{\"hovertemplate\":\"<b>%{hovertext}</b><br><br>Country=%{text}<br>Year=2006<br>GDP=%{x}<br>Life_Expectancy=%{marker.size}<extra></extra>\",\"hovertext\":[\"China\"],\"ids\":[\"China\"],\"legendgroup\":\"China\",\"marker\":{\"color\":\"crimson\",\"size\":[74.2],\"sizemode\":\"area\",\"sizeref\":0.1296,\"symbol\":\"circle\"},\"mode\":\"markers+text\",\"name\":\"China\",\"orientation\":\"v\",\"showlegend\":true,\"text\":[\"China\"],\"x\":[2752130000000.0],\"xaxis\":\"x\",\"y\":[74.2],\"yaxis\":\"y\",\"type\":\"scatter\"},{\"hovertemplate\":\"<b>%{hovertext}</b><br><br>Country=%{text}<br>Year=2006<br>GDP=%{x}<br>Life_Expectancy=%{marker.size}<extra></extra>\",\"hovertext\":[\"Germany\"],\"ids\":[\"Germany\"],\"legendgroup\":\"Germany\",\"marker\":{\"color\":\"black\",\"size\":[79.6],\"sizemode\":\"area\",\"sizeref\":0.1296,\"symbol\":\"circle\"},\"mode\":\"markers+text\",\"name\":\"Germany\",\"orientation\":\"v\",\"showlegend\":true,\"text\":[\"Germany\"],\"x\":[3002450000000.0],\"xaxis\":\"x\",\"y\":[79.6],\"yaxis\":\"y\",\"type\":\"scatter\"},{\"hovertemplate\":\"<b>%{hovertext}</b><br><br>Country=%{text}<br>Year=2006<br>GDP=%{x}<br>Life_Expectancy=%{marker.size}<extra></extra>\",\"hovertext\":[\"Mexico\"],\"ids\":[\"Mexico\"],\"legendgroup\":\"Mexico\",\"marker\":{\"color\":\"green\",\"size\":[75.8],\"sizemode\":\"area\",\"sizeref\":0.1296,\"symbol\":\"circle\"},\"mode\":\"markers+text\",\"name\":\"Mexico\",\"orientation\":\"v\",\"showlegend\":true,\"text\":[\"Mexico\"],\"x\":[965281000000.0],\"xaxis\":\"x\",\"y\":[75.8],\"yaxis\":\"y\",\"type\":\"scatter\"},{\"hovertemplate\":\"<b>%{hovertext}</b><br><br>Country=%{text}<br>Year=2006<br>GDP=%{x}<br>Life_Expectancy=%{marker.size}<extra></extra>\",\"hovertext\":[\"USA\"],\"ids\":[\"USA\"],\"legendgroup\":\"USA\",\"marker\":{\"color\":\"midnightblue\",\"size\":[77.8],\"sizemode\":\"area\",\"sizeref\":0.1296,\"symbol\":\"circle\"},\"mode\":\"markers+text\",\"name\":\"USA\",\"orientation\":\"v\",\"showlegend\":true,\"text\":[\"USA\"],\"x\":[13900000000000.0],\"xaxis\":\"x\",\"y\":[77.8],\"yaxis\":\"y\",\"type\":\"scatter\"},{\"hovertemplate\":\"<b>%{hovertext}</b><br><br>Country=%{text}<br>Year=2006<br>GDP=%{x}<br>Life_Expectancy=%{marker.size}<extra></extra>\",\"hovertext\":[\"Zimbabwe\"],\"ids\":[\"Zimbabwe\"],\"legendgroup\":\"Zimbabwe\",\"marker\":{\"color\":\"black\",\"size\":[45.4],\"sizemode\":\"area\",\"sizeref\":0.1296,\"symbol\":\"circle\"},\"mode\":\"markers+text\",\"name\":\"Zimbabwe\",\"orientation\":\"v\",\"showlegend\":true,\"text\":[\"Zimbabwe\"],\"x\":[5443896500.0],\"xaxis\":\"x\",\"y\":[45.4],\"yaxis\":\"y\",\"type\":\"scatter\"}],\"name\":\"2006\"},{\"data\":[{\"hovertemplate\":\"<b>%{hovertext}</b><br><br>Country=%{text}<br>Year=2007<br>GDP=%{x}<br>Life_Expectancy=%{marker.size}<extra></extra>\",\"hovertext\":[\"Chile\"],\"ids\":[\"Chile\"],\"legendgroup\":\"Chile\",\"marker\":{\"color\":\"firebrick\",\"size\":[78.9],\"sizemode\":\"area\",\"sizeref\":0.1296,\"symbol\":\"circle\"},\"mode\":\"markers+text\",\"name\":\"Chile\",\"orientation\":\"v\",\"showlegend\":true,\"text\":[\"Chile\"],\"x\":[173606000000.0],\"xaxis\":\"x\",\"y\":[78.9],\"yaxis\":\"y\",\"type\":\"scatter\"},{\"hovertemplate\":\"<b>%{hovertext}</b><br><br>Country=%{text}<br>Year=2007<br>GDP=%{x}<br>Life_Expectancy=%{marker.size}<extra></extra>\",\"hovertext\":[\"China\"],\"ids\":[\"China\"],\"legendgroup\":\"China\",\"marker\":{\"color\":\"crimson\",\"size\":[74.4],\"sizemode\":\"area\",\"sizeref\":0.1296,\"symbol\":\"circle\"},\"mode\":\"markers+text\",\"name\":\"China\",\"orientation\":\"v\",\"showlegend\":true,\"text\":[\"China\"],\"x\":[3552180000000.0],\"xaxis\":\"x\",\"y\":[74.4],\"yaxis\":\"y\",\"type\":\"scatter\"},{\"hovertemplate\":\"<b>%{hovertext}</b><br><br>Country=%{text}<br>Year=2007<br>GDP=%{x}<br>Life_Expectancy=%{marker.size}<extra></extra>\",\"hovertext\":[\"Germany\"],\"ids\":[\"Germany\"],\"legendgroup\":\"Germany\",\"marker\":{\"color\":\"black\",\"size\":[79.8],\"sizemode\":\"area\",\"sizeref\":0.1296,\"symbol\":\"circle\"},\"mode\":\"markers+text\",\"name\":\"Germany\",\"orientation\":\"v\",\"showlegend\":true,\"text\":[\"Germany\"],\"x\":[3439950000000.0],\"xaxis\":\"x\",\"y\":[79.8],\"yaxis\":\"y\",\"type\":\"scatter\"},{\"hovertemplate\":\"<b>%{hovertext}</b><br><br>Country=%{text}<br>Year=2007<br>GDP=%{x}<br>Life_Expectancy=%{marker.size}<extra></extra>\",\"hovertext\":[\"Mexico\"],\"ids\":[\"Mexico\"],\"legendgroup\":\"Mexico\",\"marker\":{\"color\":\"green\",\"size\":[76.0],\"sizemode\":\"area\",\"sizeref\":0.1296,\"symbol\":\"circle\"},\"mode\":\"markers+text\",\"name\":\"Mexico\",\"orientation\":\"v\",\"showlegend\":true,\"text\":[\"Mexico\"],\"x\":[1043470000000.0],\"xaxis\":\"x\",\"y\":[76.0],\"yaxis\":\"y\",\"type\":\"scatter\"},{\"hovertemplate\":\"<b>%{hovertext}</b><br><br>Country=%{text}<br>Year=2007<br>GDP=%{x}<br>Life_Expectancy=%{marker.size}<extra></extra>\",\"hovertext\":[\"USA\"],\"ids\":[\"USA\"],\"legendgroup\":\"USA\",\"marker\":{\"color\":\"midnightblue\",\"size\":[78.1],\"sizemode\":\"area\",\"sizeref\":0.1296,\"symbol\":\"circle\"},\"mode\":\"markers+text\",\"name\":\"USA\",\"orientation\":\"v\",\"showlegend\":true,\"text\":[\"USA\"],\"x\":[14500000000000.0],\"xaxis\":\"x\",\"y\":[78.1],\"yaxis\":\"y\",\"type\":\"scatter\"},{\"hovertemplate\":\"<b>%{hovertext}</b><br><br>Country=%{text}<br>Year=2007<br>GDP=%{x}<br>Life_Expectancy=%{marker.size}<extra></extra>\",\"hovertext\":[\"Zimbabwe\"],\"ids\":[\"Zimbabwe\"],\"legendgroup\":\"Zimbabwe\",\"marker\":{\"color\":\"black\",\"size\":[46.6],\"sizemode\":\"area\",\"sizeref\":0.1296,\"symbol\":\"circle\"},\"mode\":\"markers+text\",\"name\":\"Zimbabwe\",\"orientation\":\"v\",\"showlegend\":true,\"text\":[\"Zimbabwe\"],\"x\":[5291950100.0],\"xaxis\":\"x\",\"y\":[46.6],\"yaxis\":\"y\",\"type\":\"scatter\"}],\"name\":\"2007\"},{\"data\":[{\"hovertemplate\":\"<b>%{hovertext}</b><br><br>Country=%{text}<br>Year=2008<br>GDP=%{x}<br>Life_Expectancy=%{marker.size}<extra></extra>\",\"hovertext\":[\"Chile\"],\"ids\":[\"Chile\"],\"legendgroup\":\"Chile\",\"marker\":{\"color\":\"firebrick\",\"size\":[79.6],\"sizemode\":\"area\",\"sizeref\":0.1296,\"symbol\":\"circle\"},\"mode\":\"markers+text\",\"name\":\"Chile\",\"orientation\":\"v\",\"showlegend\":true,\"text\":[\"Chile\"],\"x\":[179638000000.0],\"xaxis\":\"x\",\"y\":[79.6],\"yaxis\":\"y\",\"type\":\"scatter\"},{\"hovertemplate\":\"<b>%{hovertext}</b><br><br>Country=%{text}<br>Year=2008<br>GDP=%{x}<br>Life_Expectancy=%{marker.size}<extra></extra>\",\"hovertext\":[\"China\"],\"ids\":[\"China\"],\"legendgroup\":\"China\",\"marker\":{\"color\":\"crimson\",\"size\":[74.5],\"sizemode\":\"area\",\"sizeref\":0.1296,\"symbol\":\"circle\"},\"mode\":\"markers+text\",\"name\":\"China\",\"orientation\":\"v\",\"showlegend\":true,\"text\":[\"China\"],\"x\":[4598210000000.0],\"xaxis\":\"x\",\"y\":[74.5],\"yaxis\":\"y\",\"type\":\"scatter\"},{\"hovertemplate\":\"<b>%{hovertext}</b><br><br>Country=%{text}<br>Year=2008<br>GDP=%{x}<br>Life_Expectancy=%{marker.size}<extra></extra>\",\"hovertext\":[\"Germany\"],\"ids\":[\"Germany\"],\"legendgroup\":\"Germany\",\"marker\":{\"color\":\"black\",\"size\":[79.9],\"sizemode\":\"area\",\"sizeref\":0.1296,\"symbol\":\"circle\"},\"mode\":\"markers+text\",\"name\":\"Germany\",\"orientation\":\"v\",\"showlegend\":true,\"text\":[\"Germany\"],\"x\":[3752370000000.0],\"xaxis\":\"x\",\"y\":[79.9],\"yaxis\":\"y\",\"type\":\"scatter\"},{\"hovertemplate\":\"<b>%{hovertext}</b><br><br>Country=%{text}<br>Year=2008<br>GDP=%{x}<br>Life_Expectancy=%{marker.size}<extra></extra>\",\"hovertext\":[\"Mexico\"],\"ids\":[\"Mexico\"],\"legendgroup\":\"Mexico\",\"marker\":{\"color\":\"green\",\"size\":[75.6],\"sizemode\":\"area\",\"sizeref\":0.1296,\"symbol\":\"circle\"},\"mode\":\"markers+text\",\"name\":\"Mexico\",\"orientation\":\"v\",\"showlegend\":true,\"text\":[\"Mexico\"],\"x\":[1101280000000.0],\"xaxis\":\"x\",\"y\":[75.6],\"yaxis\":\"y\",\"type\":\"scatter\"},{\"hovertemplate\":\"<b>%{hovertext}</b><br><br>Country=%{text}<br>Year=2008<br>GDP=%{x}<br>Life_Expectancy=%{marker.size}<extra></extra>\",\"hovertext\":[\"USA\"],\"ids\":[\"USA\"],\"legendgroup\":\"USA\",\"marker\":{\"color\":\"midnightblue\",\"size\":[78.2],\"sizemode\":\"area\",\"sizeref\":0.1296,\"symbol\":\"circle\"},\"mode\":\"markers+text\",\"name\":\"USA\",\"orientation\":\"v\",\"showlegend\":true,\"text\":[\"USA\"],\"x\":[14700000000000.0],\"xaxis\":\"x\",\"y\":[78.2],\"yaxis\":\"y\",\"type\":\"scatter\"},{\"hovertemplate\":\"<b>%{hovertext}</b><br><br>Country=%{text}<br>Year=2008<br>GDP=%{x}<br>Life_Expectancy=%{marker.size}<extra></extra>\",\"hovertext\":[\"Zimbabwe\"],\"ids\":[\"Zimbabwe\"],\"legendgroup\":\"Zimbabwe\",\"marker\":{\"color\":\"black\",\"size\":[48.2],\"sizemode\":\"area\",\"sizeref\":0.1296,\"symbol\":\"circle\"},\"mode\":\"markers+text\",\"name\":\"Zimbabwe\",\"orientation\":\"v\",\"showlegend\":true,\"text\":[\"Zimbabwe\"],\"x\":[4415702800.0],\"xaxis\":\"x\",\"y\":[48.2],\"yaxis\":\"y\",\"type\":\"scatter\"}],\"name\":\"2008\"},{\"data\":[{\"hovertemplate\":\"<b>%{hovertext}</b><br><br>Country=%{text}<br>Year=2009<br>GDP=%{x}<br>Life_Expectancy=%{marker.size}<extra></extra>\",\"hovertext\":[\"Chile\"],\"ids\":[\"Chile\"],\"legendgroup\":\"Chile\",\"marker\":{\"color\":\"firebrick\",\"size\":[79.3],\"sizemode\":\"area\",\"sizeref\":0.1296,\"symbol\":\"circle\"},\"mode\":\"markers+text\",\"name\":\"Chile\",\"orientation\":\"v\",\"showlegend\":true,\"text\":[\"Chile\"],\"x\":[172389000000.0],\"xaxis\":\"x\",\"y\":[79.3],\"yaxis\":\"y\",\"type\":\"scatter\"},{\"hovertemplate\":\"<b>%{hovertext}</b><br><br>Country=%{text}<br>Year=2009<br>GDP=%{x}<br>Life_Expectancy=%{marker.size}<extra></extra>\",\"hovertext\":[\"China\"],\"ids\":[\"China\"],\"legendgroup\":\"China\",\"marker\":{\"color\":\"crimson\",\"size\":[74.9],\"sizemode\":\"area\",\"sizeref\":0.1296,\"symbol\":\"circle\"},\"mode\":\"markers+text\",\"name\":\"China\",\"orientation\":\"v\",\"showlegend\":true,\"text\":[\"China\"],\"x\":[5109950000000.0],\"xaxis\":\"x\",\"y\":[74.9],\"yaxis\":\"y\",\"type\":\"scatter\"},{\"hovertemplate\":\"<b>%{hovertext}</b><br><br>Country=%{text}<br>Year=2009<br>GDP=%{x}<br>Life_Expectancy=%{marker.size}<extra></extra>\",\"hovertext\":[\"Germany\"],\"ids\":[\"Germany\"],\"legendgroup\":\"Germany\",\"marker\":{\"color\":\"black\",\"size\":[80.0],\"sizemode\":\"area\",\"sizeref\":0.1296,\"symbol\":\"circle\"},\"mode\":\"markers+text\",\"name\":\"Germany\",\"orientation\":\"v\",\"showlegend\":true,\"text\":[\"Germany\"],\"x\":[3418010000000.0],\"xaxis\":\"x\",\"y\":[80.0],\"yaxis\":\"y\",\"type\":\"scatter\"},{\"hovertemplate\":\"<b>%{hovertext}</b><br><br>Country=%{text}<br>Year=2009<br>GDP=%{x}<br>Life_Expectancy=%{marker.size}<extra></extra>\",\"hovertext\":[\"Mexico\"],\"ids\":[\"Mexico\"],\"legendgroup\":\"Mexico\",\"marker\":{\"color\":\"green\",\"size\":[75.7],\"sizemode\":\"area\",\"sizeref\":0.1296,\"symbol\":\"circle\"},\"mode\":\"markers+text\",\"name\":\"Mexico\",\"orientation\":\"v\",\"showlegend\":true,\"text\":[\"Mexico\"],\"x\":[894949000000.0],\"xaxis\":\"x\",\"y\":[75.7],\"yaxis\":\"y\",\"type\":\"scatter\"},{\"hovertemplate\":\"<b>%{hovertext}</b><br><br>Country=%{text}<br>Year=2009<br>GDP=%{x}<br>Life_Expectancy=%{marker.size}<extra></extra>\",\"hovertext\":[\"USA\"],\"ids\":[\"USA\"],\"legendgroup\":\"USA\",\"marker\":{\"color\":\"midnightblue\",\"size\":[78.5],\"sizemode\":\"area\",\"sizeref\":0.1296,\"symbol\":\"circle\"},\"mode\":\"markers+text\",\"name\":\"USA\",\"orientation\":\"v\",\"showlegend\":true,\"text\":[\"USA\"],\"x\":[14400000000000.0],\"xaxis\":\"x\",\"y\":[78.5],\"yaxis\":\"y\",\"type\":\"scatter\"},{\"hovertemplate\":\"<b>%{hovertext}</b><br><br>Country=%{text}<br>Year=2009<br>GDP=%{x}<br>Life_Expectancy=%{marker.size}<extra></extra>\",\"hovertext\":[\"Zimbabwe\"],\"ids\":[\"Zimbabwe\"],\"legendgroup\":\"Zimbabwe\",\"marker\":{\"color\":\"black\",\"size\":[50.0],\"sizemode\":\"area\",\"sizeref\":0.1296,\"symbol\":\"circle\"},\"mode\":\"markers+text\",\"name\":\"Zimbabwe\",\"orientation\":\"v\",\"showlegend\":true,\"text\":[\"Zimbabwe\"],\"x\":[8621573608.0],\"xaxis\":\"x\",\"y\":[50.0],\"yaxis\":\"y\",\"type\":\"scatter\"}],\"name\":\"2009\"},{\"data\":[{\"hovertemplate\":\"<b>%{hovertext}</b><br><br>Country=%{text}<br>Year=2010<br>GDP=%{x}<br>Life_Expectancy=%{marker.size}<extra></extra>\",\"hovertext\":[\"Chile\"],\"ids\":[\"Chile\"],\"legendgroup\":\"Chile\",\"marker\":{\"color\":\"firebrick\",\"size\":[79.1],\"sizemode\":\"area\",\"sizeref\":0.1296,\"symbol\":\"circle\"},\"mode\":\"markers+text\",\"name\":\"Chile\",\"orientation\":\"v\",\"showlegend\":true,\"text\":[\"Chile\"],\"x\":[218538000000.0],\"xaxis\":\"x\",\"y\":[79.1],\"yaxis\":\"y\",\"type\":\"scatter\"},{\"hovertemplate\":\"<b>%{hovertext}</b><br><br>Country=%{text}<br>Year=2010<br>GDP=%{x}<br>Life_Expectancy=%{marker.size}<extra></extra>\",\"hovertext\":[\"China\"],\"ids\":[\"China\"],\"legendgroup\":\"China\",\"marker\":{\"color\":\"crimson\",\"size\":[75.0],\"sizemode\":\"area\",\"sizeref\":0.1296,\"symbol\":\"circle\"},\"mode\":\"markers+text\",\"name\":\"China\",\"orientation\":\"v\",\"showlegend\":true,\"text\":[\"China\"],\"x\":[6100620000000.0],\"xaxis\":\"x\",\"y\":[75.0],\"yaxis\":\"y\",\"type\":\"scatter\"},{\"hovertemplate\":\"<b>%{hovertext}</b><br><br>Country=%{text}<br>Year=2010<br>GDP=%{x}<br>Life_Expectancy=%{marker.size}<extra></extra>\",\"hovertext\":[\"Germany\"],\"ids\":[\"Germany\"],\"legendgroup\":\"Germany\",\"marker\":{\"color\":\"black\",\"size\":[80.1],\"sizemode\":\"area\",\"sizeref\":0.1296,\"symbol\":\"circle\"},\"mode\":\"markers+text\",\"name\":\"Germany\",\"orientation\":\"v\",\"showlegend\":true,\"text\":[\"Germany\"],\"x\":[3417090000000.0],\"xaxis\":\"x\",\"y\":[80.1],\"yaxis\":\"y\",\"type\":\"scatter\"},{\"hovertemplate\":\"<b>%{hovertext}</b><br><br>Country=%{text}<br>Year=2010<br>GDP=%{x}<br>Life_Expectancy=%{marker.size}<extra></extra>\",\"hovertext\":[\"Mexico\"],\"ids\":[\"Mexico\"],\"legendgroup\":\"Mexico\",\"marker\":{\"color\":\"green\",\"size\":[75.6],\"sizemode\":\"area\",\"sizeref\":0.1296,\"symbol\":\"circle\"},\"mode\":\"markers+text\",\"name\":\"Mexico\",\"orientation\":\"v\",\"showlegend\":true,\"text\":[\"Mexico\"],\"x\":[1051130000000.0],\"xaxis\":\"x\",\"y\":[75.6],\"yaxis\":\"y\",\"type\":\"scatter\"},{\"hovertemplate\":\"<b>%{hovertext}</b><br><br>Country=%{text}<br>Year=2010<br>GDP=%{x}<br>Life_Expectancy=%{marker.size}<extra></extra>\",\"hovertext\":[\"USA\"],\"ids\":[\"USA\"],\"legendgroup\":\"USA\",\"marker\":{\"color\":\"midnightblue\",\"size\":[78.7],\"sizemode\":\"area\",\"sizeref\":0.1296,\"symbol\":\"circle\"},\"mode\":\"markers+text\",\"name\":\"USA\",\"orientation\":\"v\",\"showlegend\":true,\"text\":[\"USA\"],\"x\":[15000000000000.0],\"xaxis\":\"x\",\"y\":[78.7],\"yaxis\":\"y\",\"type\":\"scatter\"},{\"hovertemplate\":\"<b>%{hovertext}</b><br><br>Country=%{text}<br>Year=2010<br>GDP=%{x}<br>Life_Expectancy=%{marker.size}<extra></extra>\",\"hovertext\":[\"Zimbabwe\"],\"ids\":[\"Zimbabwe\"],\"legendgroup\":\"Zimbabwe\",\"marker\":{\"color\":\"black\",\"size\":[52.4],\"sizemode\":\"area\",\"sizeref\":0.1296,\"symbol\":\"circle\"},\"mode\":\"markers+text\",\"name\":\"Zimbabwe\",\"orientation\":\"v\",\"showlegend\":true,\"text\":[\"Zimbabwe\"],\"x\":[10141859710.0],\"xaxis\":\"x\",\"y\":[52.4],\"yaxis\":\"y\",\"type\":\"scatter\"}],\"name\":\"2010\"},{\"data\":[{\"hovertemplate\":\"<b>%{hovertext}</b><br><br>Country=%{text}<br>Year=2011<br>GDP=%{x}<br>Life_Expectancy=%{marker.size}<extra></extra>\",\"hovertext\":[\"Chile\"],\"ids\":[\"Chile\"],\"legendgroup\":\"Chile\",\"marker\":{\"color\":\"firebrick\",\"size\":[79.8],\"sizemode\":\"area\",\"sizeref\":0.1296,\"symbol\":\"circle\"},\"mode\":\"markers+text\",\"name\":\"Chile\",\"orientation\":\"v\",\"showlegend\":true,\"text\":[\"Chile\"],\"x\":[252252000000.0],\"xaxis\":\"x\",\"y\":[79.8],\"yaxis\":\"y\",\"type\":\"scatter\"},{\"hovertemplate\":\"<b>%{hovertext}</b><br><br>Country=%{text}<br>Year=2011<br>GDP=%{x}<br>Life_Expectancy=%{marker.size}<extra></extra>\",\"hovertext\":[\"China\"],\"ids\":[\"China\"],\"legendgroup\":\"China\",\"marker\":{\"color\":\"crimson\",\"size\":[75.2],\"sizemode\":\"area\",\"sizeref\":0.1296,\"symbol\":\"circle\"},\"mode\":\"markers+text\",\"name\":\"China\",\"orientation\":\"v\",\"showlegend\":true,\"text\":[\"China\"],\"x\":[7572550000000.0],\"xaxis\":\"x\",\"y\":[75.2],\"yaxis\":\"y\",\"type\":\"scatter\"},{\"hovertemplate\":\"<b>%{hovertext}</b><br><br>Country=%{text}<br>Year=2011<br>GDP=%{x}<br>Life_Expectancy=%{marker.size}<extra></extra>\",\"hovertext\":[\"Germany\"],\"ids\":[\"Germany\"],\"legendgroup\":\"Germany\",\"marker\":{\"color\":\"black\",\"size\":[80.5],\"sizemode\":\"area\",\"sizeref\":0.1296,\"symbol\":\"circle\"},\"mode\":\"markers+text\",\"name\":\"Germany\",\"orientation\":\"v\",\"showlegend\":true,\"text\":[\"Germany\"],\"x\":[3757700000000.0],\"xaxis\":\"x\",\"y\":[80.5],\"yaxis\":\"y\",\"type\":\"scatter\"},{\"hovertemplate\":\"<b>%{hovertext}</b><br><br>Country=%{text}<br>Year=2011<br>GDP=%{x}<br>Life_Expectancy=%{marker.size}<extra></extra>\",\"hovertext\":[\"Mexico\"],\"ids\":[\"Mexico\"],\"legendgroup\":\"Mexico\",\"marker\":{\"color\":\"green\",\"size\":[76.1],\"sizemode\":\"area\",\"sizeref\":0.1296,\"symbol\":\"circle\"},\"mode\":\"markers+text\",\"name\":\"Mexico\",\"orientation\":\"v\",\"showlegend\":true,\"text\":[\"Mexico\"],\"x\":[1171190000000.0],\"xaxis\":\"x\",\"y\":[76.1],\"yaxis\":\"y\",\"type\":\"scatter\"},{\"hovertemplate\":\"<b>%{hovertext}</b><br><br>Country=%{text}<br>Year=2011<br>GDP=%{x}<br>Life_Expectancy=%{marker.size}<extra></extra>\",\"hovertext\":[\"USA\"],\"ids\":[\"USA\"],\"legendgroup\":\"USA\",\"marker\":{\"color\":\"midnightblue\",\"size\":[78.7],\"sizemode\":\"area\",\"sizeref\":0.1296,\"symbol\":\"circle\"},\"mode\":\"markers+text\",\"name\":\"USA\",\"orientation\":\"v\",\"showlegend\":true,\"text\":[\"USA\"],\"x\":[15500000000000.0],\"xaxis\":\"x\",\"y\":[78.7],\"yaxis\":\"y\",\"type\":\"scatter\"},{\"hovertemplate\":\"<b>%{hovertext}</b><br><br>Country=%{text}<br>Year=2011<br>GDP=%{x}<br>Life_Expectancy=%{marker.size}<extra></extra>\",\"hovertext\":[\"Zimbabwe\"],\"ids\":[\"Zimbabwe\"],\"legendgroup\":\"Zimbabwe\",\"marker\":{\"color\":\"black\",\"size\":[54.9],\"sizemode\":\"area\",\"sizeref\":0.1296,\"symbol\":\"circle\"},\"mode\":\"markers+text\",\"name\":\"Zimbabwe\",\"orientation\":\"v\",\"showlegend\":true,\"text\":[\"Zimbabwe\"],\"x\":[12098450749.0],\"xaxis\":\"x\",\"y\":[54.9],\"yaxis\":\"y\",\"type\":\"scatter\"}],\"name\":\"2011\"},{\"data\":[{\"hovertemplate\":\"<b>%{hovertext}</b><br><br>Country=%{text}<br>Year=2012<br>GDP=%{x}<br>Life_Expectancy=%{marker.size}<extra></extra>\",\"hovertext\":[\"Chile\"],\"ids\":[\"Chile\"],\"legendgroup\":\"Chile\",\"marker\":{\"color\":\"firebrick\",\"size\":[79.9],\"sizemode\":\"area\",\"sizeref\":0.1296,\"symbol\":\"circle\"},\"mode\":\"markers+text\",\"name\":\"Chile\",\"orientation\":\"v\",\"showlegend\":true,\"text\":[\"Chile\"],\"x\":[267122000000.0],\"xaxis\":\"x\",\"y\":[79.9],\"yaxis\":\"y\",\"type\":\"scatter\"},{\"hovertemplate\":\"<b>%{hovertext}</b><br><br>Country=%{text}<br>Year=2012<br>GDP=%{x}<br>Life_Expectancy=%{marker.size}<extra></extra>\",\"hovertext\":[\"China\"],\"ids\":[\"China\"],\"legendgroup\":\"China\",\"marker\":{\"color\":\"crimson\",\"size\":[75.4],\"sizemode\":\"area\",\"sizeref\":0.1296,\"symbol\":\"circle\"},\"mode\":\"markers+text\",\"name\":\"China\",\"orientation\":\"v\",\"showlegend\":true,\"text\":[\"China\"],\"x\":[8560550000000.0],\"xaxis\":\"x\",\"y\":[75.4],\"yaxis\":\"y\",\"type\":\"scatter\"},{\"hovertemplate\":\"<b>%{hovertext}</b><br><br>Country=%{text}<br>Year=2012<br>GDP=%{x}<br>Life_Expectancy=%{marker.size}<extra></extra>\",\"hovertext\":[\"Germany\"],\"ids\":[\"Germany\"],\"legendgroup\":\"Germany\",\"marker\":{\"color\":\"black\",\"size\":[80.6],\"sizemode\":\"area\",\"sizeref\":0.1296,\"symbol\":\"circle\"},\"mode\":\"markers+text\",\"name\":\"Germany\",\"orientation\":\"v\",\"showlegend\":true,\"text\":[\"Germany\"],\"x\":[3543980000000.0],\"xaxis\":\"x\",\"y\":[80.6],\"yaxis\":\"y\",\"type\":\"scatter\"},{\"hovertemplate\":\"<b>%{hovertext}</b><br><br>Country=%{text}<br>Year=2012<br>GDP=%{x}<br>Life_Expectancy=%{marker.size}<extra></extra>\",\"hovertext\":[\"Mexico\"],\"ids\":[\"Mexico\"],\"legendgroup\":\"Mexico\",\"marker\":{\"color\":\"green\",\"size\":[76.3],\"sizemode\":\"area\",\"sizeref\":0.1296,\"symbol\":\"circle\"},\"mode\":\"markers+text\",\"name\":\"Mexico\",\"orientation\":\"v\",\"showlegend\":true,\"text\":[\"Mexico\"],\"x\":[1186600000000.0],\"xaxis\":\"x\",\"y\":[76.3],\"yaxis\":\"y\",\"type\":\"scatter\"},{\"hovertemplate\":\"<b>%{hovertext}</b><br><br>Country=%{text}<br>Year=2012<br>GDP=%{x}<br>Life_Expectancy=%{marker.size}<extra></extra>\",\"hovertext\":[\"USA\"],\"ids\":[\"USA\"],\"legendgroup\":\"USA\",\"marker\":{\"color\":\"midnightblue\",\"size\":[78.8],\"sizemode\":\"area\",\"sizeref\":0.1296,\"symbol\":\"circle\"},\"mode\":\"markers+text\",\"name\":\"USA\",\"orientation\":\"v\",\"showlegend\":true,\"text\":[\"USA\"],\"x\":[16200000000000.0],\"xaxis\":\"x\",\"y\":[78.8],\"yaxis\":\"y\",\"type\":\"scatter\"},{\"hovertemplate\":\"<b>%{hovertext}</b><br><br>Country=%{text}<br>Year=2012<br>GDP=%{x}<br>Life_Expectancy=%{marker.size}<extra></extra>\",\"hovertext\":[\"Zimbabwe\"],\"ids\":[\"Zimbabwe\"],\"legendgroup\":\"Zimbabwe\",\"marker\":{\"color\":\"black\",\"size\":[56.6],\"sizemode\":\"area\",\"sizeref\":0.1296,\"symbol\":\"circle\"},\"mode\":\"markers+text\",\"name\":\"Zimbabwe\",\"orientation\":\"v\",\"showlegend\":true,\"text\":[\"Zimbabwe\"],\"x\":[14242490252.0],\"xaxis\":\"x\",\"y\":[56.6],\"yaxis\":\"y\",\"type\":\"scatter\"}],\"name\":\"2012\"},{\"data\":[{\"hovertemplate\":\"<b>%{hovertext}</b><br><br>Country=%{text}<br>Year=2013<br>GDP=%{x}<br>Life_Expectancy=%{marker.size}<extra></extra>\",\"hovertext\":[\"Chile\"],\"ids\":[\"Chile\"],\"legendgroup\":\"Chile\",\"marker\":{\"color\":\"firebrick\",\"size\":[80.1],\"sizemode\":\"area\",\"sizeref\":0.1296,\"symbol\":\"circle\"},\"mode\":\"markers+text\",\"name\":\"Chile\",\"orientation\":\"v\",\"showlegend\":true,\"text\":[\"Chile\"],\"x\":[278384000000.0],\"xaxis\":\"x\",\"y\":[80.1],\"yaxis\":\"y\",\"type\":\"scatter\"},{\"hovertemplate\":\"<b>%{hovertext}</b><br><br>Country=%{text}<br>Year=2013<br>GDP=%{x}<br>Life_Expectancy=%{marker.size}<extra></extra>\",\"hovertext\":[\"China\"],\"ids\":[\"China\"],\"legendgroup\":\"China\",\"marker\":{\"color\":\"crimson\",\"size\":[75.6],\"sizemode\":\"area\",\"sizeref\":0.1296,\"symbol\":\"circle\"},\"mode\":\"markers+text\",\"name\":\"China\",\"orientation\":\"v\",\"showlegend\":true,\"text\":[\"China\"],\"x\":[9607220000000.0],\"xaxis\":\"x\",\"y\":[75.6],\"yaxis\":\"y\",\"type\":\"scatter\"},{\"hovertemplate\":\"<b>%{hovertext}</b><br><br>Country=%{text}<br>Year=2013<br>GDP=%{x}<br>Life_Expectancy=%{marker.size}<extra></extra>\",\"hovertext\":[\"Germany\"],\"ids\":[\"Germany\"],\"legendgroup\":\"Germany\",\"marker\":{\"color\":\"black\",\"size\":[80.6],\"sizemode\":\"area\",\"sizeref\":0.1296,\"symbol\":\"circle\"},\"mode\":\"markers+text\",\"name\":\"Germany\",\"orientation\":\"v\",\"showlegend\":true,\"text\":[\"Germany\"],\"x\":[3752510000000.0],\"xaxis\":\"x\",\"y\":[80.6],\"yaxis\":\"y\",\"type\":\"scatter\"},{\"hovertemplate\":\"<b>%{hovertext}</b><br><br>Country=%{text}<br>Year=2013<br>GDP=%{x}<br>Life_Expectancy=%{marker.size}<extra></extra>\",\"hovertext\":[\"Mexico\"],\"ids\":[\"Mexico\"],\"legendgroup\":\"Mexico\",\"marker\":{\"color\":\"green\",\"size\":[76.6],\"sizemode\":\"area\",\"sizeref\":0.1296,\"symbol\":\"circle\"},\"mode\":\"markers+text\",\"name\":\"Mexico\",\"orientation\":\"v\",\"showlegend\":true,\"text\":[\"Mexico\"],\"x\":[1261980000000.0],\"xaxis\":\"x\",\"y\":[76.6],\"yaxis\":\"y\",\"type\":\"scatter\"},{\"hovertemplate\":\"<b>%{hovertext}</b><br><br>Country=%{text}<br>Year=2013<br>GDP=%{x}<br>Life_Expectancy=%{marker.size}<extra></extra>\",\"hovertext\":[\"USA\"],\"ids\":[\"USA\"],\"legendgroup\":\"USA\",\"marker\":{\"color\":\"midnightblue\",\"size\":[78.9],\"sizemode\":\"area\",\"sizeref\":0.1296,\"symbol\":\"circle\"},\"mode\":\"markers+text\",\"name\":\"USA\",\"orientation\":\"v\",\"showlegend\":true,\"text\":[\"USA\"],\"x\":[16700000000000.0],\"xaxis\":\"x\",\"y\":[78.9],\"yaxis\":\"y\",\"type\":\"scatter\"},{\"hovertemplate\":\"<b>%{hovertext}</b><br><br>Country=%{text}<br>Year=2013<br>GDP=%{x}<br>Life_Expectancy=%{marker.size}<extra></extra>\",\"hovertext\":[\"Zimbabwe\"],\"ids\":[\"Zimbabwe\"],\"legendgroup\":\"Zimbabwe\",\"marker\":{\"color\":\"black\",\"size\":[58.0],\"sizemode\":\"area\",\"sizeref\":0.1296,\"symbol\":\"circle\"},\"mode\":\"markers+text\",\"name\":\"Zimbabwe\",\"orientation\":\"v\",\"showlegend\":true,\"text\":[\"Zimbabwe\"],\"x\":[15451768659.0],\"xaxis\":\"x\",\"y\":[58.0],\"yaxis\":\"y\",\"type\":\"scatter\"}],\"name\":\"2013\"},{\"data\":[{\"hovertemplate\":\"<b>%{hovertext}</b><br><br>Country=%{text}<br>Year=2014<br>GDP=%{x}<br>Life_Expectancy=%{marker.size}<extra></extra>\",\"hovertext\":[\"Chile\"],\"ids\":[\"Chile\"],\"legendgroup\":\"Chile\",\"marker\":{\"color\":\"firebrick\",\"size\":[80.3],\"sizemode\":\"area\",\"sizeref\":0.1296,\"symbol\":\"circle\"},\"mode\":\"markers+text\",\"name\":\"Chile\",\"orientation\":\"v\",\"showlegend\":true,\"text\":[\"Chile\"],\"x\":[260990000000.0],\"xaxis\":\"x\",\"y\":[80.3],\"yaxis\":\"y\",\"type\":\"scatter\"},{\"hovertemplate\":\"<b>%{hovertext}</b><br><br>Country=%{text}<br>Year=2014<br>GDP=%{x}<br>Life_Expectancy=%{marker.size}<extra></extra>\",\"hovertext\":[\"China\"],\"ids\":[\"China\"],\"legendgroup\":\"China\",\"marker\":{\"color\":\"crimson\",\"size\":[75.8],\"sizemode\":\"area\",\"sizeref\":0.1296,\"symbol\":\"circle\"},\"mode\":\"markers+text\",\"name\":\"China\",\"orientation\":\"v\",\"showlegend\":true,\"text\":[\"China\"],\"x\":[10482400000000.0],\"xaxis\":\"x\",\"y\":[75.8],\"yaxis\":\"y\",\"type\":\"scatter\"},{\"hovertemplate\":\"<b>%{hovertext}</b><br><br>Country=%{text}<br>Year=2014<br>GDP=%{x}<br>Life_Expectancy=%{marker.size}<extra></extra>\",\"hovertext\":[\"Germany\"],\"ids\":[\"Germany\"],\"legendgroup\":\"Germany\",\"marker\":{\"color\":\"black\",\"size\":[80.9],\"sizemode\":\"area\",\"sizeref\":0.1296,\"symbol\":\"circle\"},\"mode\":\"markers+text\",\"name\":\"Germany\",\"orientation\":\"v\",\"showlegend\":true,\"text\":[\"Germany\"],\"x\":[3890610000000.0],\"xaxis\":\"x\",\"y\":[80.9],\"yaxis\":\"y\",\"type\":\"scatter\"},{\"hovertemplate\":\"<b>%{hovertext}</b><br><br>Country=%{text}<br>Year=2014<br>GDP=%{x}<br>Life_Expectancy=%{marker.size}<extra></extra>\",\"hovertext\":[\"Mexico\"],\"ids\":[\"Mexico\"],\"legendgroup\":\"Mexico\",\"marker\":{\"color\":\"green\",\"size\":[76.6],\"sizemode\":\"area\",\"sizeref\":0.1296,\"symbol\":\"circle\"},\"mode\":\"markers+text\",\"name\":\"Mexico\",\"orientation\":\"v\",\"showlegend\":true,\"text\":[\"Mexico\"],\"x\":[1298460000000.0],\"xaxis\":\"x\",\"y\":[76.6],\"yaxis\":\"y\",\"type\":\"scatter\"},{\"hovertemplate\":\"<b>%{hovertext}</b><br><br>Country=%{text}<br>Year=2014<br>GDP=%{x}<br>Life_Expectancy=%{marker.size}<extra></extra>\",\"hovertext\":[\"USA\"],\"ids\":[\"USA\"],\"legendgroup\":\"USA\",\"marker\":{\"color\":\"midnightblue\",\"size\":[79.1],\"sizemode\":\"area\",\"sizeref\":0.1296,\"symbol\":\"circle\"},\"mode\":\"markers+text\",\"name\":\"USA\",\"orientation\":\"v\",\"showlegend\":true,\"text\":[\"USA\"],\"x\":[17400000000000.0],\"xaxis\":\"x\",\"y\":[79.1],\"yaxis\":\"y\",\"type\":\"scatter\"},{\"hovertemplate\":\"<b>%{hovertext}</b><br><br>Country=%{text}<br>Year=2014<br>GDP=%{x}<br>Life_Expectancy=%{marker.size}<extra></extra>\",\"hovertext\":[\"Zimbabwe\"],\"ids\":[\"Zimbabwe\"],\"legendgroup\":\"Zimbabwe\",\"marker\":{\"color\":\"black\",\"size\":[59.2],\"sizemode\":\"area\",\"sizeref\":0.1296,\"symbol\":\"circle\"},\"mode\":\"markers+text\",\"name\":\"Zimbabwe\",\"orientation\":\"v\",\"showlegend\":true,\"text\":[\"Zimbabwe\"],\"x\":[15891049236.0],\"xaxis\":\"x\",\"y\":[59.2],\"yaxis\":\"y\",\"type\":\"scatter\"}],\"name\":\"2014\"},{\"data\":[{\"hovertemplate\":\"<b>%{hovertext}</b><br><br>Country=%{text}<br>Year=2015<br>GDP=%{x}<br>Life_Expectancy=%{marker.size}<extra></extra>\",\"hovertext\":[\"Chile\"],\"ids\":[\"Chile\"],\"legendgroup\":\"Chile\",\"marker\":{\"color\":\"firebrick\",\"size\":[80.5],\"sizemode\":\"area\",\"sizeref\":0.1296,\"symbol\":\"circle\"},\"mode\":\"markers+text\",\"name\":\"Chile\",\"orientation\":\"v\",\"showlegend\":true,\"text\":[\"Chile\"],\"x\":[242518000000.0],\"xaxis\":\"x\",\"y\":[80.5],\"yaxis\":\"y\",\"type\":\"scatter\"},{\"hovertemplate\":\"<b>%{hovertext}</b><br><br>Country=%{text}<br>Year=2015<br>GDP=%{x}<br>Life_Expectancy=%{marker.size}<extra></extra>\",\"hovertext\":[\"China\"],\"ids\":[\"China\"],\"legendgroup\":\"China\",\"marker\":{\"color\":\"crimson\",\"size\":[76.1],\"sizemode\":\"area\",\"sizeref\":0.1296,\"symbol\":\"circle\"},\"mode\":\"markers+text\",\"name\":\"China\",\"orientation\":\"v\",\"showlegend\":true,\"text\":[\"China\"],\"x\":[11064700000000.0],\"xaxis\":\"x\",\"y\":[76.1],\"yaxis\":\"y\",\"type\":\"scatter\"},{\"hovertemplate\":\"<b>%{hovertext}</b><br><br>Country=%{text}<br>Year=2015<br>GDP=%{x}<br>Life_Expectancy=%{marker.size}<extra></extra>\",\"hovertext\":[\"Germany\"],\"ids\":[\"Germany\"],\"legendgroup\":\"Germany\",\"marker\":{\"color\":\"black\",\"size\":[81.0],\"sizemode\":\"area\",\"sizeref\":0.1296,\"symbol\":\"circle\"},\"mode\":\"markers+text\",\"name\":\"Germany\",\"orientation\":\"v\",\"showlegend\":true,\"text\":[\"Germany\"],\"x\":[3375610000000.0],\"xaxis\":\"x\",\"y\":[81.0],\"yaxis\":\"y\",\"type\":\"scatter\"},{\"hovertemplate\":\"<b>%{hovertext}</b><br><br>Country=%{text}<br>Year=2015<br>GDP=%{x}<br>Life_Expectancy=%{marker.size}<extra></extra>\",\"hovertext\":[\"Mexico\"],\"ids\":[\"Mexico\"],\"legendgroup\":\"Mexico\",\"marker\":{\"color\":\"green\",\"size\":[76.7],\"sizemode\":\"area\",\"sizeref\":0.1296,\"symbol\":\"circle\"},\"mode\":\"markers+text\",\"name\":\"Mexico\",\"orientation\":\"v\",\"showlegend\":true,\"text\":[\"Mexico\"],\"x\":[1152260000000.0],\"xaxis\":\"x\",\"y\":[76.7],\"yaxis\":\"y\",\"type\":\"scatter\"},{\"hovertemplate\":\"<b>%{hovertext}</b><br><br>Country=%{text}<br>Year=2015<br>GDP=%{x}<br>Life_Expectancy=%{marker.size}<extra></extra>\",\"hovertext\":[\"USA\"],\"ids\":[\"USA\"],\"legendgroup\":\"USA\",\"marker\":{\"color\":\"midnightblue\",\"size\":[79.3],\"sizemode\":\"area\",\"sizeref\":0.1296,\"symbol\":\"circle\"},\"mode\":\"markers+text\",\"name\":\"USA\",\"orientation\":\"v\",\"showlegend\":true,\"text\":[\"USA\"],\"x\":[18100000000000.0],\"xaxis\":\"x\",\"y\":[79.3],\"yaxis\":\"y\",\"type\":\"scatter\"},{\"hovertemplate\":\"<b>%{hovertext}</b><br><br>Country=%{text}<br>Year=2015<br>GDP=%{x}<br>Life_Expectancy=%{marker.size}<extra></extra>\",\"hovertext\":[\"Zimbabwe\"],\"ids\":[\"Zimbabwe\"],\"legendgroup\":\"Zimbabwe\",\"marker\":{\"color\":\"black\",\"size\":[60.7],\"sizemode\":\"area\",\"sizeref\":0.1296,\"symbol\":\"circle\"},\"mode\":\"markers+text\",\"name\":\"Zimbabwe\",\"orientation\":\"v\",\"showlegend\":true,\"text\":[\"Zimbabwe\"],\"x\":[16304667807.0],\"xaxis\":\"x\",\"y\":[60.7],\"yaxis\":\"y\",\"type\":\"scatter\"}],\"name\":\"2015\"}]);\n",
       "                        }).then(function(){\n",
       "                            \n",
       "var gd = document.getElementById('f8aa5310-9ad8-420d-995c-7cea68bba96a');\n",
       "var x = new MutationObserver(function (mutations, observer) {{\n",
       "        var display = window.getComputedStyle(gd).display;\n",
       "        if (!display || display === 'none') {{\n",
       "            console.log([gd, 'removed!']);\n",
       "            Plotly.purge(gd);\n",
       "            observer.disconnect();\n",
       "        }}\n",
       "}});\n",
       "\n",
       "// Listen for the removal of the full notebook cells\n",
       "var notebookContainer = gd.closest('#notebook-container');\n",
       "if (notebookContainer) {{\n",
       "    x.observe(notebookContainer, {childList: true});\n",
       "}}\n",
       "\n",
       "// Listen for the clearing of the current output cell\n",
       "var outputEl = gd.closest('.output');\n",
       "if (outputEl) {{\n",
       "    x.observe(outputEl, {childList: true});\n",
       "}}\n",
       "\n",
       "                        })                };                });            </script>        </div>"
      ]
     },
     "metadata": {},
     "output_type": "display_data"
    }
   ],
   "source": [
    "# Create the figure\n",
    "fig = go.Figure(layout=go.Layout(height=900, width=1800))\n",
    "\n",
    "# Plot the data\n",
    "fig = px.scatter(df, x=\"GDP\", y=\"Life_Expectancy\", animation_frame=\"Year\", animation_group=\"Country\", color=\"Country\", hover_name=\"Country\", size='Life_Expectancy',\n",
    "                 size_max=25, range_x=[np.amin(df.GDP)*0.5, np.amax(df.GDP)*1.25], range_y=[30, 90], text=\"Country\", log_x=True, color_discrete_map={\"Chile\": \"firebrick\", \"China\": \"crimson\", \"Germany\": \"black\", \"Mexico\": \"green\", \"USA\": \"midnightblue\", \"Zimbabwe\": \"black\"})\n",
    "\n",
    "\n",
    "# Set background color, font and x-ticks\n",
    "fig.update_layout(plot_bgcolor='white',\n",
    "                  font=dict(color=\"#231F20\", size=12), showlegend=False, \n",
    "                  xaxis=dict(\n",
    "                      tickmode='linear',\n",
    "                      tick0=10000000000,\n",
    "                      dtick=- 0.1\n",
    "                  )\n",
    "                  )\n",
    "\n",
    "# Centraliza text of the points\n",
    "fig.update_traces(textposition='bottom center')\n",
    "\n",
    "# create the data source of the graph\n",
    "fig.add_annotation(text = \"Data Source: codeacademy.com\",\n",
    "                    xref = \"paper\",\n",
    "                    yref = \"paper\",\n",
    "                    x = -0.005,\n",
    "                    y = -0.145,\n",
    "                    showarrow = False,\n",
    "                    font = dict(size = 12),\n",
    "                    align = \"left\",\n",
    "                    xanchor = \"left\")\n",
    "# create author of the graph\n",
    "fig.add_annotation(text = \"Author: Felipe Oliveira\",\n",
    "                    xref = \"paper\",\n",
    "                    yref = \"paper\",\n",
    "                    x = 1.005,\n",
    "                    y = -0.145,\n",
    "                    showarrow = False,\n",
    "                    font = dict(size = 12),\n",
    "                    align = \"right\",\n",
    "                    xanchor = \"right\")\n",
    "\n",
    "# Graph title annotation\n",
    "fig.add_annotation(text = \"GDP & LIFE EXPECTANCY GROWTH OVER TIME (2000-2015)\",\n",
    "                    xref = \"paper\",\n",
    "                    yref = \"paper\",\n",
    "                    x = 0.32,\n",
    "                    y = 1.10,\n",
    "                    showarrow = False,\n",
    "                    xanchor = \"left\",\n",
    "                    font = dict(color = \"#404647\", size = 18))\n",
    "\n",
    "# Fix renderization of the graph for VS Code\n",
    "fig.show(renderer='notebook_connected')\n"
   ]
  },
  {
   "cell_type": "markdown",
   "metadata": {},
   "source": [
    "#### 🇨🇳 🆚 🇺🇸"
   ]
  },
  {
   "cell_type": "code",
   "execution_count": 28,
   "metadata": {},
   "outputs": [
    {
     "data": {
      "text/html": [
       "        <script type=\"text/javascript\">\n",
       "        window.PlotlyConfig = {MathJaxConfig: 'local'};\n",
       "        if (window.MathJax) {MathJax.Hub.Config({SVG: {font: \"STIX-Web\"}});}\n",
       "        if (typeof require !== 'undefined') {\n",
       "        require.undef(\"plotly\");\n",
       "        requirejs.config({\n",
       "            paths: {\n",
       "                'plotly': ['https://cdn.plot.ly/plotly-2.9.0.min']\n",
       "            }\n",
       "        });\n",
       "        require(['plotly'], function(Plotly) {\n",
       "            window._Plotly = Plotly;\n",
       "        });\n",
       "        }\n",
       "        </script>\n",
       "        "
      ]
     },
     "metadata": {},
     "output_type": "display_data"
    },
    {
     "data": {
      "text/html": [
       "<div>                            <div id=\"4283b114-03d4-4a8e-8e61-a6ee662e8db6\" class=\"plotly-graph-div\" style=\"height:525px; width:100%;\"></div>            <script type=\"text/javascript\">                require([\"plotly\"], function(Plotly) {                    window.PLOTLYENV=window.PLOTLYENV || {};                                    if (document.getElementById(\"4283b114-03d4-4a8e-8e61-a6ee662e8db6\")) {                    Plotly.newPlot(                        \"4283b114-03d4-4a8e-8e61-a6ee662e8db6\",                        [{\"hovertemplate\":\"<b>%{hovertext}</b><br><br>Country=%{text}<br>Year=2000<br>GDP=%{marker.size}<br>Life_Expectancy=%{y}<extra></extra>\",\"hovertext\":[\"China\"],\"ids\":[\"China\"],\"legendgroup\":\"China\",\"marker\":{\"color\":\"#636efa\",\"size\":[1211350000000.0],\"sizemode\":\"area\",\"sizeref\":2828125000.0,\"symbol\":\"circle\"},\"mode\":\"markers+text\",\"name\":\"China\",\"orientation\":\"v\",\"showlegend\":true,\"text\":[\"China\"],\"x\":[1211350000000.0],\"xaxis\":\"x\",\"y\":[71.7],\"yaxis\":\"y\",\"type\":\"scatter\"},{\"hovertemplate\":\"<b>%{hovertext}</b><br><br>Country=%{text}<br>Year=2000<br>GDP=%{marker.size}<br>Life_Expectancy=%{y}<extra></extra>\",\"hovertext\":[\"USA\"],\"ids\":[\"USA\"],\"legendgroup\":\"USA\",\"marker\":{\"color\":\"#EF553B\",\"size\":[10300000000000.0],\"sizemode\":\"area\",\"sizeref\":2828125000.0,\"symbol\":\"circle\"},\"mode\":\"markers+text\",\"name\":\"USA\",\"orientation\":\"v\",\"showlegend\":true,\"text\":[\"USA\"],\"x\":[10300000000000.0],\"xaxis\":\"x\",\"y\":[76.8],\"yaxis\":\"y\",\"type\":\"scatter\"}],                        {\"template\":{\"data\":{\"barpolar\":[{\"marker\":{\"line\":{\"color\":\"rgb(17,17,17)\",\"width\":0.5},\"pattern\":{\"fillmode\":\"overlay\",\"size\":10,\"solidity\":0.2}},\"type\":\"barpolar\"}],\"bar\":[{\"error_x\":{\"color\":\"#f2f5fa\"},\"error_y\":{\"color\":\"#f2f5fa\"},\"marker\":{\"line\":{\"color\":\"rgb(17,17,17)\",\"width\":0.5},\"pattern\":{\"fillmode\":\"overlay\",\"size\":10,\"solidity\":0.2}},\"type\":\"bar\"}],\"carpet\":[{\"aaxis\":{\"endlinecolor\":\"#A2B1C6\",\"gridcolor\":\"#506784\",\"linecolor\":\"#506784\",\"minorgridcolor\":\"#506784\",\"startlinecolor\":\"#A2B1C6\"},\"baxis\":{\"endlinecolor\":\"#A2B1C6\",\"gridcolor\":\"#506784\",\"linecolor\":\"#506784\",\"minorgridcolor\":\"#506784\",\"startlinecolor\":\"#A2B1C6\"},\"type\":\"carpet\"}],\"choropleth\":[{\"colorbar\":{\"outlinewidth\":0,\"ticks\":\"\"},\"type\":\"choropleth\"}],\"contourcarpet\":[{\"colorbar\":{\"outlinewidth\":0,\"ticks\":\"\"},\"type\":\"contourcarpet\"}],\"contour\":[{\"colorbar\":{\"outlinewidth\":0,\"ticks\":\"\"},\"colorscale\":[[0.0,\"#0d0887\"],[0.1111111111111111,\"#46039f\"],[0.2222222222222222,\"#7201a8\"],[0.3333333333333333,\"#9c179e\"],[0.4444444444444444,\"#bd3786\"],[0.5555555555555556,\"#d8576b\"],[0.6666666666666666,\"#ed7953\"],[0.7777777777777778,\"#fb9f3a\"],[0.8888888888888888,\"#fdca26\"],[1.0,\"#f0f921\"]],\"type\":\"contour\"}],\"heatmapgl\":[{\"colorbar\":{\"outlinewidth\":0,\"ticks\":\"\"},\"colorscale\":[[0.0,\"#0d0887\"],[0.1111111111111111,\"#46039f\"],[0.2222222222222222,\"#7201a8\"],[0.3333333333333333,\"#9c179e\"],[0.4444444444444444,\"#bd3786\"],[0.5555555555555556,\"#d8576b\"],[0.6666666666666666,\"#ed7953\"],[0.7777777777777778,\"#fb9f3a\"],[0.8888888888888888,\"#fdca26\"],[1.0,\"#f0f921\"]],\"type\":\"heatmapgl\"}],\"heatmap\":[{\"colorbar\":{\"outlinewidth\":0,\"ticks\":\"\"},\"colorscale\":[[0.0,\"#0d0887\"],[0.1111111111111111,\"#46039f\"],[0.2222222222222222,\"#7201a8\"],[0.3333333333333333,\"#9c179e\"],[0.4444444444444444,\"#bd3786\"],[0.5555555555555556,\"#d8576b\"],[0.6666666666666666,\"#ed7953\"],[0.7777777777777778,\"#fb9f3a\"],[0.8888888888888888,\"#fdca26\"],[1.0,\"#f0f921\"]],\"type\":\"heatmap\"}],\"histogram2dcontour\":[{\"colorbar\":{\"outlinewidth\":0,\"ticks\":\"\"},\"colorscale\":[[0.0,\"#0d0887\"],[0.1111111111111111,\"#46039f\"],[0.2222222222222222,\"#7201a8\"],[0.3333333333333333,\"#9c179e\"],[0.4444444444444444,\"#bd3786\"],[0.5555555555555556,\"#d8576b\"],[0.6666666666666666,\"#ed7953\"],[0.7777777777777778,\"#fb9f3a\"],[0.8888888888888888,\"#fdca26\"],[1.0,\"#f0f921\"]],\"type\":\"histogram2dcontour\"}],\"histogram2d\":[{\"colorbar\":{\"outlinewidth\":0,\"ticks\":\"\"},\"colorscale\":[[0.0,\"#0d0887\"],[0.1111111111111111,\"#46039f\"],[0.2222222222222222,\"#7201a8\"],[0.3333333333333333,\"#9c179e\"],[0.4444444444444444,\"#bd3786\"],[0.5555555555555556,\"#d8576b\"],[0.6666666666666666,\"#ed7953\"],[0.7777777777777778,\"#fb9f3a\"],[0.8888888888888888,\"#fdca26\"],[1.0,\"#f0f921\"]],\"type\":\"histogram2d\"}],\"histogram\":[{\"marker\":{\"pattern\":{\"fillmode\":\"overlay\",\"size\":10,\"solidity\":0.2}},\"type\":\"histogram\"}],\"mesh3d\":[{\"colorbar\":{\"outlinewidth\":0,\"ticks\":\"\"},\"type\":\"mesh3d\"}],\"parcoords\":[{\"line\":{\"colorbar\":{\"outlinewidth\":0,\"ticks\":\"\"}},\"type\":\"parcoords\"}],\"pie\":[{\"automargin\":true,\"type\":\"pie\"}],\"scatter3d\":[{\"line\":{\"colorbar\":{\"outlinewidth\":0,\"ticks\":\"\"}},\"marker\":{\"colorbar\":{\"outlinewidth\":0,\"ticks\":\"\"}},\"type\":\"scatter3d\"}],\"scattercarpet\":[{\"marker\":{\"colorbar\":{\"outlinewidth\":0,\"ticks\":\"\"}},\"type\":\"scattercarpet\"}],\"scattergeo\":[{\"marker\":{\"colorbar\":{\"outlinewidth\":0,\"ticks\":\"\"}},\"type\":\"scattergeo\"}],\"scattergl\":[{\"marker\":{\"line\":{\"color\":\"#283442\"}},\"type\":\"scattergl\"}],\"scattermapbox\":[{\"marker\":{\"colorbar\":{\"outlinewidth\":0,\"ticks\":\"\"}},\"type\":\"scattermapbox\"}],\"scatterpolargl\":[{\"marker\":{\"colorbar\":{\"outlinewidth\":0,\"ticks\":\"\"}},\"type\":\"scatterpolargl\"}],\"scatterpolar\":[{\"marker\":{\"colorbar\":{\"outlinewidth\":0,\"ticks\":\"\"}},\"type\":\"scatterpolar\"}],\"scatter\":[{\"marker\":{\"line\":{\"color\":\"#283442\"}},\"type\":\"scatter\"}],\"scatterternary\":[{\"marker\":{\"colorbar\":{\"outlinewidth\":0,\"ticks\":\"\"}},\"type\":\"scatterternary\"}],\"surface\":[{\"colorbar\":{\"outlinewidth\":0,\"ticks\":\"\"},\"colorscale\":[[0.0,\"#0d0887\"],[0.1111111111111111,\"#46039f\"],[0.2222222222222222,\"#7201a8\"],[0.3333333333333333,\"#9c179e\"],[0.4444444444444444,\"#bd3786\"],[0.5555555555555556,\"#d8576b\"],[0.6666666666666666,\"#ed7953\"],[0.7777777777777778,\"#fb9f3a\"],[0.8888888888888888,\"#fdca26\"],[1.0,\"#f0f921\"]],\"type\":\"surface\"}],\"table\":[{\"cells\":{\"fill\":{\"color\":\"#506784\"},\"line\":{\"color\":\"rgb(17,17,17)\"}},\"header\":{\"fill\":{\"color\":\"#2a3f5f\"},\"line\":{\"color\":\"rgb(17,17,17)\"}},\"type\":\"table\"}]},\"layout\":{\"annotationdefaults\":{\"arrowcolor\":\"#f2f5fa\",\"arrowhead\":0,\"arrowwidth\":1},\"autotypenumbers\":\"strict\",\"coloraxis\":{\"colorbar\":{\"outlinewidth\":0,\"ticks\":\"\"}},\"colorscale\":{\"diverging\":[[0,\"#8e0152\"],[0.1,\"#c51b7d\"],[0.2,\"#de77ae\"],[0.3,\"#f1b6da\"],[0.4,\"#fde0ef\"],[0.5,\"#f7f7f7\"],[0.6,\"#e6f5d0\"],[0.7,\"#b8e186\"],[0.8,\"#7fbc41\"],[0.9,\"#4d9221\"],[1,\"#276419\"]],\"sequential\":[[0.0,\"#0d0887\"],[0.1111111111111111,\"#46039f\"],[0.2222222222222222,\"#7201a8\"],[0.3333333333333333,\"#9c179e\"],[0.4444444444444444,\"#bd3786\"],[0.5555555555555556,\"#d8576b\"],[0.6666666666666666,\"#ed7953\"],[0.7777777777777778,\"#fb9f3a\"],[0.8888888888888888,\"#fdca26\"],[1.0,\"#f0f921\"]],\"sequentialminus\":[[0.0,\"#0d0887\"],[0.1111111111111111,\"#46039f\"],[0.2222222222222222,\"#7201a8\"],[0.3333333333333333,\"#9c179e\"],[0.4444444444444444,\"#bd3786\"],[0.5555555555555556,\"#d8576b\"],[0.6666666666666666,\"#ed7953\"],[0.7777777777777778,\"#fb9f3a\"],[0.8888888888888888,\"#fdca26\"],[1.0,\"#f0f921\"]]},\"colorway\":[\"#636efa\",\"#EF553B\",\"#00cc96\",\"#ab63fa\",\"#FFA15A\",\"#19d3f3\",\"#FF6692\",\"#B6E880\",\"#FF97FF\",\"#FECB52\"],\"font\":{\"color\":\"#f2f5fa\"},\"geo\":{\"bgcolor\":\"rgb(17,17,17)\",\"lakecolor\":\"rgb(17,17,17)\",\"landcolor\":\"rgb(17,17,17)\",\"showlakes\":true,\"showland\":true,\"subunitcolor\":\"#506784\"},\"hoverlabel\":{\"align\":\"left\"},\"hovermode\":\"closest\",\"mapbox\":{\"style\":\"dark\"},\"paper_bgcolor\":\"rgb(17,17,17)\",\"plot_bgcolor\":\"rgb(17,17,17)\",\"polar\":{\"angularaxis\":{\"gridcolor\":\"#506784\",\"linecolor\":\"#506784\",\"ticks\":\"\"},\"bgcolor\":\"rgb(17,17,17)\",\"radialaxis\":{\"gridcolor\":\"#506784\",\"linecolor\":\"#506784\",\"ticks\":\"\"}},\"scene\":{\"xaxis\":{\"backgroundcolor\":\"rgb(17,17,17)\",\"gridcolor\":\"#506784\",\"gridwidth\":2,\"linecolor\":\"#506784\",\"showbackground\":true,\"ticks\":\"\",\"zerolinecolor\":\"#C8D4E3\"},\"yaxis\":{\"backgroundcolor\":\"rgb(17,17,17)\",\"gridcolor\":\"#506784\",\"gridwidth\":2,\"linecolor\":\"#506784\",\"showbackground\":true,\"ticks\":\"\",\"zerolinecolor\":\"#C8D4E3\"},\"zaxis\":{\"backgroundcolor\":\"rgb(17,17,17)\",\"gridcolor\":\"#506784\",\"gridwidth\":2,\"linecolor\":\"#506784\",\"showbackground\":true,\"ticks\":\"\",\"zerolinecolor\":\"#C8D4E3\"}},\"shapedefaults\":{\"line\":{\"color\":\"#f2f5fa\"}},\"sliderdefaults\":{\"bgcolor\":\"#C8D4E3\",\"bordercolor\":\"rgb(17,17,17)\",\"borderwidth\":1,\"tickwidth\":0},\"ternary\":{\"aaxis\":{\"gridcolor\":\"#506784\",\"linecolor\":\"#506784\",\"ticks\":\"\"},\"baxis\":{\"gridcolor\":\"#506784\",\"linecolor\":\"#506784\",\"ticks\":\"\"},\"bgcolor\":\"rgb(17,17,17)\",\"caxis\":{\"gridcolor\":\"#506784\",\"linecolor\":\"#506784\",\"ticks\":\"\"}},\"title\":{\"x\":0.05},\"updatemenudefaults\":{\"bgcolor\":\"#506784\",\"borderwidth\":0},\"xaxis\":{\"automargin\":true,\"gridcolor\":\"#283442\",\"linecolor\":\"#506784\",\"ticks\":\"\",\"title\":{\"standoff\":15},\"zerolinecolor\":\"#283442\",\"zerolinewidth\":2},\"yaxis\":{\"automargin\":true,\"gridcolor\":\"#283442\",\"linecolor\":\"#506784\",\"ticks\":\"\",\"title\":{\"standoff\":15},\"zerolinecolor\":\"#283442\",\"zerolinewidth\":2}}},\"xaxis\":{\"anchor\":\"y\",\"domain\":[0.0,1.0],\"title\":{\"text\":\"GDP\"},\"range\":[2207851400.0,22625000000000.0]},\"yaxis\":{\"anchor\":\"x\",\"domain\":[0.0,1.0],\"title\":{\"text\":\"Life_Expectancy\"},\"range\":[30,90]},\"legend\":{\"title\":{\"text\":\"Country\"},\"tracegroupgap\":0,\"itemsizing\":\"constant\"},\"margin\":{\"t\":60},\"updatemenus\":[{\"buttons\":[{\"args\":[null,{\"frame\":{\"duration\":500,\"redraw\":false},\"mode\":\"immediate\",\"fromcurrent\":true,\"transition\":{\"duration\":500,\"easing\":\"linear\"}}],\"label\":\"&#9654;\",\"method\":\"animate\"},{\"args\":[[null],{\"frame\":{\"duration\":0,\"redraw\":false},\"mode\":\"immediate\",\"fromcurrent\":true,\"transition\":{\"duration\":0,\"easing\":\"linear\"}}],\"label\":\"&#9724;\",\"method\":\"animate\"}],\"direction\":\"left\",\"pad\":{\"r\":10,\"t\":70},\"showactive\":false,\"type\":\"buttons\",\"x\":0.1,\"xanchor\":\"right\",\"y\":0,\"yanchor\":\"top\"}],\"sliders\":[{\"active\":0,\"currentvalue\":{\"prefix\":\"Year=\"},\"len\":0.9,\"pad\":{\"b\":10,\"t\":60},\"steps\":[{\"args\":[[\"2000\"],{\"frame\":{\"duration\":0,\"redraw\":false},\"mode\":\"immediate\",\"fromcurrent\":true,\"transition\":{\"duration\":0,\"easing\":\"linear\"}}],\"label\":\"2000\",\"method\":\"animate\"},{\"args\":[[\"2001\"],{\"frame\":{\"duration\":0,\"redraw\":false},\"mode\":\"immediate\",\"fromcurrent\":true,\"transition\":{\"duration\":0,\"easing\":\"linear\"}}],\"label\":\"2001\",\"method\":\"animate\"},{\"args\":[[\"2002\"],{\"frame\":{\"duration\":0,\"redraw\":false},\"mode\":\"immediate\",\"fromcurrent\":true,\"transition\":{\"duration\":0,\"easing\":\"linear\"}}],\"label\":\"2002\",\"method\":\"animate\"},{\"args\":[[\"2003\"],{\"frame\":{\"duration\":0,\"redraw\":false},\"mode\":\"immediate\",\"fromcurrent\":true,\"transition\":{\"duration\":0,\"easing\":\"linear\"}}],\"label\":\"2003\",\"method\":\"animate\"},{\"args\":[[\"2004\"],{\"frame\":{\"duration\":0,\"redraw\":false},\"mode\":\"immediate\",\"fromcurrent\":true,\"transition\":{\"duration\":0,\"easing\":\"linear\"}}],\"label\":\"2004\",\"method\":\"animate\"},{\"args\":[[\"2005\"],{\"frame\":{\"duration\":0,\"redraw\":false},\"mode\":\"immediate\",\"fromcurrent\":true,\"transition\":{\"duration\":0,\"easing\":\"linear\"}}],\"label\":\"2005\",\"method\":\"animate\"},{\"args\":[[\"2006\"],{\"frame\":{\"duration\":0,\"redraw\":false},\"mode\":\"immediate\",\"fromcurrent\":true,\"transition\":{\"duration\":0,\"easing\":\"linear\"}}],\"label\":\"2006\",\"method\":\"animate\"},{\"args\":[[\"2007\"],{\"frame\":{\"duration\":0,\"redraw\":false},\"mode\":\"immediate\",\"fromcurrent\":true,\"transition\":{\"duration\":0,\"easing\":\"linear\"}}],\"label\":\"2007\",\"method\":\"animate\"},{\"args\":[[\"2008\"],{\"frame\":{\"duration\":0,\"redraw\":false},\"mode\":\"immediate\",\"fromcurrent\":true,\"transition\":{\"duration\":0,\"easing\":\"linear\"}}],\"label\":\"2008\",\"method\":\"animate\"},{\"args\":[[\"2009\"],{\"frame\":{\"duration\":0,\"redraw\":false},\"mode\":\"immediate\",\"fromcurrent\":true,\"transition\":{\"duration\":0,\"easing\":\"linear\"}}],\"label\":\"2009\",\"method\":\"animate\"},{\"args\":[[\"2010\"],{\"frame\":{\"duration\":0,\"redraw\":false},\"mode\":\"immediate\",\"fromcurrent\":true,\"transition\":{\"duration\":0,\"easing\":\"linear\"}}],\"label\":\"2010\",\"method\":\"animate\"},{\"args\":[[\"2011\"],{\"frame\":{\"duration\":0,\"redraw\":false},\"mode\":\"immediate\",\"fromcurrent\":true,\"transition\":{\"duration\":0,\"easing\":\"linear\"}}],\"label\":\"2011\",\"method\":\"animate\"},{\"args\":[[\"2012\"],{\"frame\":{\"duration\":0,\"redraw\":false},\"mode\":\"immediate\",\"fromcurrent\":true,\"transition\":{\"duration\":0,\"easing\":\"linear\"}}],\"label\":\"2012\",\"method\":\"animate\"},{\"args\":[[\"2013\"],{\"frame\":{\"duration\":0,\"redraw\":false},\"mode\":\"immediate\",\"fromcurrent\":true,\"transition\":{\"duration\":0,\"easing\":\"linear\"}}],\"label\":\"2013\",\"method\":\"animate\"},{\"args\":[[\"2014\"],{\"frame\":{\"duration\":0,\"redraw\":false},\"mode\":\"immediate\",\"fromcurrent\":true,\"transition\":{\"duration\":0,\"easing\":\"linear\"}}],\"label\":\"2014\",\"method\":\"animate\"},{\"args\":[[\"2015\"],{\"frame\":{\"duration\":0,\"redraw\":false},\"mode\":\"immediate\",\"fromcurrent\":true,\"transition\":{\"duration\":0,\"easing\":\"linear\"}}],\"label\":\"2015\",\"method\":\"animate\"}],\"x\":0.1,\"xanchor\":\"left\",\"y\":0,\"yanchor\":\"top\"}],\"showlegend\":false,\"annotations\":[{\"align\":\"left\",\"font\":{\"size\":12},\"showarrow\":false,\"text\":\"Data Source: codeacademy.com\",\"x\":-0.005,\"xanchor\":\"left\",\"xref\":\"paper\",\"y\":-0.145,\"yref\":\"paper\"},{\"align\":\"right\",\"font\":{\"size\":12},\"showarrow\":false,\"text\":\"Author: Felipe Oliveira\",\"x\":1.005,\"xanchor\":\"right\",\"xref\":\"paper\",\"y\":-0.145,\"yref\":\"paper\"},{\"font\":{\"color\":\"white\",\"size\":18},\"showarrow\":false,\"text\":\"CHINA VS USA - GDP & LIFE EXPECTANCY GROWTH OVER TIME (2000-2015)\",\"x\":0.32,\"xanchor\":\"left\",\"xref\":\"paper\",\"y\":1.1,\"yref\":\"paper\"}]},                        {\"responsive\": true}                    ).then(function(){\n",
       "                            Plotly.addFrames('4283b114-03d4-4a8e-8e61-a6ee662e8db6', [{\"data\":[{\"hovertemplate\":\"<b>%{hovertext}</b><br><br>Country=%{text}<br>Year=2000<br>GDP=%{marker.size}<br>Life_Expectancy=%{y}<extra></extra>\",\"hovertext\":[\"China\"],\"ids\":[\"China\"],\"legendgroup\":\"China\",\"marker\":{\"color\":\"#636efa\",\"size\":[1211350000000.0],\"sizemode\":\"area\",\"sizeref\":2828125000.0,\"symbol\":\"circle\"},\"mode\":\"markers+text\",\"name\":\"China\",\"orientation\":\"v\",\"showlegend\":true,\"text\":[\"China\"],\"x\":[1211350000000.0],\"xaxis\":\"x\",\"y\":[71.7],\"yaxis\":\"y\",\"type\":\"scatter\"},{\"hovertemplate\":\"<b>%{hovertext}</b><br><br>Country=%{text}<br>Year=2000<br>GDP=%{marker.size}<br>Life_Expectancy=%{y}<extra></extra>\",\"hovertext\":[\"USA\"],\"ids\":[\"USA\"],\"legendgroup\":\"USA\",\"marker\":{\"color\":\"#EF553B\",\"size\":[10300000000000.0],\"sizemode\":\"area\",\"sizeref\":2828125000.0,\"symbol\":\"circle\"},\"mode\":\"markers+text\",\"name\":\"USA\",\"orientation\":\"v\",\"showlegend\":true,\"text\":[\"USA\"],\"x\":[10300000000000.0],\"xaxis\":\"x\",\"y\":[76.8],\"yaxis\":\"y\",\"type\":\"scatter\"}],\"name\":\"2000\"},{\"data\":[{\"hovertemplate\":\"<b>%{hovertext}</b><br><br>Country=%{text}<br>Year=2001<br>GDP=%{marker.size}<br>Life_Expectancy=%{y}<extra></extra>\",\"hovertext\":[\"China\"],\"ids\":[\"China\"],\"legendgroup\":\"China\",\"marker\":{\"color\":\"#636efa\",\"size\":[1339400000000.0],\"sizemode\":\"area\",\"sizeref\":2828125000.0,\"symbol\":\"circle\"},\"mode\":\"markers+text\",\"name\":\"China\",\"orientation\":\"v\",\"showlegend\":true,\"text\":[\"China\"],\"x\":[1339400000000.0],\"xaxis\":\"x\",\"y\":[72.2],\"yaxis\":\"y\",\"type\":\"scatter\"},{\"hovertemplate\":\"<b>%{hovertext}</b><br><br>Country=%{text}<br>Year=2001<br>GDP=%{marker.size}<br>Life_Expectancy=%{y}<extra></extra>\",\"hovertext\":[\"USA\"],\"ids\":[\"USA\"],\"legendgroup\":\"USA\",\"marker\":{\"color\":\"#EF553B\",\"size\":[10600000000000.0],\"sizemode\":\"area\",\"sizeref\":2828125000.0,\"symbol\":\"circle\"},\"mode\":\"markers+text\",\"name\":\"USA\",\"orientation\":\"v\",\"showlegend\":true,\"text\":[\"USA\"],\"x\":[10600000000000.0],\"xaxis\":\"x\",\"y\":[76.9],\"yaxis\":\"y\",\"type\":\"scatter\"}],\"name\":\"2001\"},{\"data\":[{\"hovertemplate\":\"<b>%{hovertext}</b><br><br>Country=%{text}<br>Year=2002<br>GDP=%{marker.size}<br>Life_Expectancy=%{y}<extra></extra>\",\"hovertext\":[\"China\"],\"ids\":[\"China\"],\"legendgroup\":\"China\",\"marker\":{\"color\":\"#636efa\",\"size\":[1470550000000.0],\"sizemode\":\"area\",\"sizeref\":2828125000.0,\"symbol\":\"circle\"},\"mode\":\"markers+text\",\"name\":\"China\",\"orientation\":\"v\",\"showlegend\":true,\"text\":[\"China\"],\"x\":[1470550000000.0],\"xaxis\":\"x\",\"y\":[72.7],\"yaxis\":\"y\",\"type\":\"scatter\"},{\"hovertemplate\":\"<b>%{hovertext}</b><br><br>Country=%{text}<br>Year=2002<br>GDP=%{marker.size}<br>Life_Expectancy=%{y}<extra></extra>\",\"hovertext\":[\"USA\"],\"ids\":[\"USA\"],\"legendgroup\":\"USA\",\"marker\":{\"color\":\"#EF553B\",\"size\":[11000000000000.0],\"sizemode\":\"area\",\"sizeref\":2828125000.0,\"symbol\":\"circle\"},\"mode\":\"markers+text\",\"name\":\"USA\",\"orientation\":\"v\",\"showlegend\":true,\"text\":[\"USA\"],\"x\":[11000000000000.0],\"xaxis\":\"x\",\"y\":[77.0],\"yaxis\":\"y\",\"type\":\"scatter\"}],\"name\":\"2002\"},{\"data\":[{\"hovertemplate\":\"<b>%{hovertext}</b><br><br>Country=%{text}<br>Year=2003<br>GDP=%{marker.size}<br>Life_Expectancy=%{y}<extra></extra>\",\"hovertext\":[\"China\"],\"ids\":[\"China\"],\"legendgroup\":\"China\",\"marker\":{\"color\":\"#636efa\",\"size\":[1660290000000.0],\"sizemode\":\"area\",\"sizeref\":2828125000.0,\"symbol\":\"circle\"},\"mode\":\"markers+text\",\"name\":\"China\",\"orientation\":\"v\",\"showlegend\":true,\"text\":[\"China\"],\"x\":[1660290000000.0],\"xaxis\":\"x\",\"y\":[73.1],\"yaxis\":\"y\",\"type\":\"scatter\"},{\"hovertemplate\":\"<b>%{hovertext}</b><br><br>Country=%{text}<br>Year=2003<br>GDP=%{marker.size}<br>Life_Expectancy=%{y}<extra></extra>\",\"hovertext\":[\"USA\"],\"ids\":[\"USA\"],\"legendgroup\":\"USA\",\"marker\":{\"color\":\"#EF553B\",\"size\":[11500000000000.0],\"sizemode\":\"area\",\"sizeref\":2828125000.0,\"symbol\":\"circle\"},\"mode\":\"markers+text\",\"name\":\"USA\",\"orientation\":\"v\",\"showlegend\":true,\"text\":[\"USA\"],\"x\":[11500000000000.0],\"xaxis\":\"x\",\"y\":[77.2],\"yaxis\":\"y\",\"type\":\"scatter\"}],\"name\":\"2003\"},{\"data\":[{\"hovertemplate\":\"<b>%{hovertext}</b><br><br>Country=%{text}<br>Year=2004<br>GDP=%{marker.size}<br>Life_Expectancy=%{y}<extra></extra>\",\"hovertext\":[\"China\"],\"ids\":[\"China\"],\"legendgroup\":\"China\",\"marker\":{\"color\":\"#636efa\",\"size\":[1955350000000.0],\"sizemode\":\"area\",\"sizeref\":2828125000.0,\"symbol\":\"circle\"},\"mode\":\"markers+text\",\"name\":\"China\",\"orientation\":\"v\",\"showlegend\":true,\"text\":[\"China\"],\"x\":[1955350000000.0],\"xaxis\":\"x\",\"y\":[73.5],\"yaxis\":\"y\",\"type\":\"scatter\"},{\"hovertemplate\":\"<b>%{hovertext}</b><br><br>Country=%{text}<br>Year=2004<br>GDP=%{marker.size}<br>Life_Expectancy=%{y}<extra></extra>\",\"hovertext\":[\"USA\"],\"ids\":[\"USA\"],\"legendgroup\":\"USA\",\"marker\":{\"color\":\"#EF553B\",\"size\":[12300000000000.0],\"sizemode\":\"area\",\"sizeref\":2828125000.0,\"symbol\":\"circle\"},\"mode\":\"markers+text\",\"name\":\"USA\",\"orientation\":\"v\",\"showlegend\":true,\"text\":[\"USA\"],\"x\":[12300000000000.0],\"xaxis\":\"x\",\"y\":[77.5],\"yaxis\":\"y\",\"type\":\"scatter\"}],\"name\":\"2004\"},{\"data\":[{\"hovertemplate\":\"<b>%{hovertext}</b><br><br>Country=%{text}<br>Year=2005<br>GDP=%{marker.size}<br>Life_Expectancy=%{y}<extra></extra>\",\"hovertext\":[\"China\"],\"ids\":[\"China\"],\"legendgroup\":\"China\",\"marker\":{\"color\":\"#636efa\",\"size\":[2285970000000.0],\"sizemode\":\"area\",\"sizeref\":2828125000.0,\"symbol\":\"circle\"},\"mode\":\"markers+text\",\"name\":\"China\",\"orientation\":\"v\",\"showlegend\":true,\"text\":[\"China\"],\"x\":[2285970000000.0],\"xaxis\":\"x\",\"y\":[73.9],\"yaxis\":\"y\",\"type\":\"scatter\"},{\"hovertemplate\":\"<b>%{hovertext}</b><br><br>Country=%{text}<br>Year=2005<br>GDP=%{marker.size}<br>Life_Expectancy=%{y}<extra></extra>\",\"hovertext\":[\"USA\"],\"ids\":[\"USA\"],\"legendgroup\":\"USA\",\"marker\":{\"color\":\"#EF553B\",\"size\":[13100000000000.0],\"sizemode\":\"area\",\"sizeref\":2828125000.0,\"symbol\":\"circle\"},\"mode\":\"markers+text\",\"name\":\"USA\",\"orientation\":\"v\",\"showlegend\":true,\"text\":[\"USA\"],\"x\":[13100000000000.0],\"xaxis\":\"x\",\"y\":[77.5],\"yaxis\":\"y\",\"type\":\"scatter\"}],\"name\":\"2005\"},{\"data\":[{\"hovertemplate\":\"<b>%{hovertext}</b><br><br>Country=%{text}<br>Year=2006<br>GDP=%{marker.size}<br>Life_Expectancy=%{y}<extra></extra>\",\"hovertext\":[\"China\"],\"ids\":[\"China\"],\"legendgroup\":\"China\",\"marker\":{\"color\":\"#636efa\",\"size\":[2752130000000.0],\"sizemode\":\"area\",\"sizeref\":2828125000.0,\"symbol\":\"circle\"},\"mode\":\"markers+text\",\"name\":\"China\",\"orientation\":\"v\",\"showlegend\":true,\"text\":[\"China\"],\"x\":[2752130000000.0],\"xaxis\":\"x\",\"y\":[74.2],\"yaxis\":\"y\",\"type\":\"scatter\"},{\"hovertemplate\":\"<b>%{hovertext}</b><br><br>Country=%{text}<br>Year=2006<br>GDP=%{marker.size}<br>Life_Expectancy=%{y}<extra></extra>\",\"hovertext\":[\"USA\"],\"ids\":[\"USA\"],\"legendgroup\":\"USA\",\"marker\":{\"color\":\"#EF553B\",\"size\":[13900000000000.0],\"sizemode\":\"area\",\"sizeref\":2828125000.0,\"symbol\":\"circle\"},\"mode\":\"markers+text\",\"name\":\"USA\",\"orientation\":\"v\",\"showlegend\":true,\"text\":[\"USA\"],\"x\":[13900000000000.0],\"xaxis\":\"x\",\"y\":[77.8],\"yaxis\":\"y\",\"type\":\"scatter\"}],\"name\":\"2006\"},{\"data\":[{\"hovertemplate\":\"<b>%{hovertext}</b><br><br>Country=%{text}<br>Year=2007<br>GDP=%{marker.size}<br>Life_Expectancy=%{y}<extra></extra>\",\"hovertext\":[\"China\"],\"ids\":[\"China\"],\"legendgroup\":\"China\",\"marker\":{\"color\":\"#636efa\",\"size\":[3552180000000.0],\"sizemode\":\"area\",\"sizeref\":2828125000.0,\"symbol\":\"circle\"},\"mode\":\"markers+text\",\"name\":\"China\",\"orientation\":\"v\",\"showlegend\":true,\"text\":[\"China\"],\"x\":[3552180000000.0],\"xaxis\":\"x\",\"y\":[74.4],\"yaxis\":\"y\",\"type\":\"scatter\"},{\"hovertemplate\":\"<b>%{hovertext}</b><br><br>Country=%{text}<br>Year=2007<br>GDP=%{marker.size}<br>Life_Expectancy=%{y}<extra></extra>\",\"hovertext\":[\"USA\"],\"ids\":[\"USA\"],\"legendgroup\":\"USA\",\"marker\":{\"color\":\"#EF553B\",\"size\":[14500000000000.0],\"sizemode\":\"area\",\"sizeref\":2828125000.0,\"symbol\":\"circle\"},\"mode\":\"markers+text\",\"name\":\"USA\",\"orientation\":\"v\",\"showlegend\":true,\"text\":[\"USA\"],\"x\":[14500000000000.0],\"xaxis\":\"x\",\"y\":[78.1],\"yaxis\":\"y\",\"type\":\"scatter\"}],\"name\":\"2007\"},{\"data\":[{\"hovertemplate\":\"<b>%{hovertext}</b><br><br>Country=%{text}<br>Year=2008<br>GDP=%{marker.size}<br>Life_Expectancy=%{y}<extra></extra>\",\"hovertext\":[\"China\"],\"ids\":[\"China\"],\"legendgroup\":\"China\",\"marker\":{\"color\":\"#636efa\",\"size\":[4598210000000.0],\"sizemode\":\"area\",\"sizeref\":2828125000.0,\"symbol\":\"circle\"},\"mode\":\"markers+text\",\"name\":\"China\",\"orientation\":\"v\",\"showlegend\":true,\"text\":[\"China\"],\"x\":[4598210000000.0],\"xaxis\":\"x\",\"y\":[74.5],\"yaxis\":\"y\",\"type\":\"scatter\"},{\"hovertemplate\":\"<b>%{hovertext}</b><br><br>Country=%{text}<br>Year=2008<br>GDP=%{marker.size}<br>Life_Expectancy=%{y}<extra></extra>\",\"hovertext\":[\"USA\"],\"ids\":[\"USA\"],\"legendgroup\":\"USA\",\"marker\":{\"color\":\"#EF553B\",\"size\":[14700000000000.0],\"sizemode\":\"area\",\"sizeref\":2828125000.0,\"symbol\":\"circle\"},\"mode\":\"markers+text\",\"name\":\"USA\",\"orientation\":\"v\",\"showlegend\":true,\"text\":[\"USA\"],\"x\":[14700000000000.0],\"xaxis\":\"x\",\"y\":[78.2],\"yaxis\":\"y\",\"type\":\"scatter\"}],\"name\":\"2008\"},{\"data\":[{\"hovertemplate\":\"<b>%{hovertext}</b><br><br>Country=%{text}<br>Year=2009<br>GDP=%{marker.size}<br>Life_Expectancy=%{y}<extra></extra>\",\"hovertext\":[\"China\"],\"ids\":[\"China\"],\"legendgroup\":\"China\",\"marker\":{\"color\":\"#636efa\",\"size\":[5109950000000.0],\"sizemode\":\"area\",\"sizeref\":2828125000.0,\"symbol\":\"circle\"},\"mode\":\"markers+text\",\"name\":\"China\",\"orientation\":\"v\",\"showlegend\":true,\"text\":[\"China\"],\"x\":[5109950000000.0],\"xaxis\":\"x\",\"y\":[74.9],\"yaxis\":\"y\",\"type\":\"scatter\"},{\"hovertemplate\":\"<b>%{hovertext}</b><br><br>Country=%{text}<br>Year=2009<br>GDP=%{marker.size}<br>Life_Expectancy=%{y}<extra></extra>\",\"hovertext\":[\"USA\"],\"ids\":[\"USA\"],\"legendgroup\":\"USA\",\"marker\":{\"color\":\"#EF553B\",\"size\":[14400000000000.0],\"sizemode\":\"area\",\"sizeref\":2828125000.0,\"symbol\":\"circle\"},\"mode\":\"markers+text\",\"name\":\"USA\",\"orientation\":\"v\",\"showlegend\":true,\"text\":[\"USA\"],\"x\":[14400000000000.0],\"xaxis\":\"x\",\"y\":[78.5],\"yaxis\":\"y\",\"type\":\"scatter\"}],\"name\":\"2009\"},{\"data\":[{\"hovertemplate\":\"<b>%{hovertext}</b><br><br>Country=%{text}<br>Year=2010<br>GDP=%{marker.size}<br>Life_Expectancy=%{y}<extra></extra>\",\"hovertext\":[\"China\"],\"ids\":[\"China\"],\"legendgroup\":\"China\",\"marker\":{\"color\":\"#636efa\",\"size\":[6100620000000.0],\"sizemode\":\"area\",\"sizeref\":2828125000.0,\"symbol\":\"circle\"},\"mode\":\"markers+text\",\"name\":\"China\",\"orientation\":\"v\",\"showlegend\":true,\"text\":[\"China\"],\"x\":[6100620000000.0],\"xaxis\":\"x\",\"y\":[75.0],\"yaxis\":\"y\",\"type\":\"scatter\"},{\"hovertemplate\":\"<b>%{hovertext}</b><br><br>Country=%{text}<br>Year=2010<br>GDP=%{marker.size}<br>Life_Expectancy=%{y}<extra></extra>\",\"hovertext\":[\"USA\"],\"ids\":[\"USA\"],\"legendgroup\":\"USA\",\"marker\":{\"color\":\"#EF553B\",\"size\":[15000000000000.0],\"sizemode\":\"area\",\"sizeref\":2828125000.0,\"symbol\":\"circle\"},\"mode\":\"markers+text\",\"name\":\"USA\",\"orientation\":\"v\",\"showlegend\":true,\"text\":[\"USA\"],\"x\":[15000000000000.0],\"xaxis\":\"x\",\"y\":[78.7],\"yaxis\":\"y\",\"type\":\"scatter\"}],\"name\":\"2010\"},{\"data\":[{\"hovertemplate\":\"<b>%{hovertext}</b><br><br>Country=%{text}<br>Year=2011<br>GDP=%{marker.size}<br>Life_Expectancy=%{y}<extra></extra>\",\"hovertext\":[\"China\"],\"ids\":[\"China\"],\"legendgroup\":\"China\",\"marker\":{\"color\":\"#636efa\",\"size\":[7572550000000.0],\"sizemode\":\"area\",\"sizeref\":2828125000.0,\"symbol\":\"circle\"},\"mode\":\"markers+text\",\"name\":\"China\",\"orientation\":\"v\",\"showlegend\":true,\"text\":[\"China\"],\"x\":[7572550000000.0],\"xaxis\":\"x\",\"y\":[75.2],\"yaxis\":\"y\",\"type\":\"scatter\"},{\"hovertemplate\":\"<b>%{hovertext}</b><br><br>Country=%{text}<br>Year=2011<br>GDP=%{marker.size}<br>Life_Expectancy=%{y}<extra></extra>\",\"hovertext\":[\"USA\"],\"ids\":[\"USA\"],\"legendgroup\":\"USA\",\"marker\":{\"color\":\"#EF553B\",\"size\":[15500000000000.0],\"sizemode\":\"area\",\"sizeref\":2828125000.0,\"symbol\":\"circle\"},\"mode\":\"markers+text\",\"name\":\"USA\",\"orientation\":\"v\",\"showlegend\":true,\"text\":[\"USA\"],\"x\":[15500000000000.0],\"xaxis\":\"x\",\"y\":[78.7],\"yaxis\":\"y\",\"type\":\"scatter\"}],\"name\":\"2011\"},{\"data\":[{\"hovertemplate\":\"<b>%{hovertext}</b><br><br>Country=%{text}<br>Year=2012<br>GDP=%{marker.size}<br>Life_Expectancy=%{y}<extra></extra>\",\"hovertext\":[\"China\"],\"ids\":[\"China\"],\"legendgroup\":\"China\",\"marker\":{\"color\":\"#636efa\",\"size\":[8560550000000.0],\"sizemode\":\"area\",\"sizeref\":2828125000.0,\"symbol\":\"circle\"},\"mode\":\"markers+text\",\"name\":\"China\",\"orientation\":\"v\",\"showlegend\":true,\"text\":[\"China\"],\"x\":[8560550000000.0],\"xaxis\":\"x\",\"y\":[75.4],\"yaxis\":\"y\",\"type\":\"scatter\"},{\"hovertemplate\":\"<b>%{hovertext}</b><br><br>Country=%{text}<br>Year=2012<br>GDP=%{marker.size}<br>Life_Expectancy=%{y}<extra></extra>\",\"hovertext\":[\"USA\"],\"ids\":[\"USA\"],\"legendgroup\":\"USA\",\"marker\":{\"color\":\"#EF553B\",\"size\":[16200000000000.0],\"sizemode\":\"area\",\"sizeref\":2828125000.0,\"symbol\":\"circle\"},\"mode\":\"markers+text\",\"name\":\"USA\",\"orientation\":\"v\",\"showlegend\":true,\"text\":[\"USA\"],\"x\":[16200000000000.0],\"xaxis\":\"x\",\"y\":[78.8],\"yaxis\":\"y\",\"type\":\"scatter\"}],\"name\":\"2012\"},{\"data\":[{\"hovertemplate\":\"<b>%{hovertext}</b><br><br>Country=%{text}<br>Year=2013<br>GDP=%{marker.size}<br>Life_Expectancy=%{y}<extra></extra>\",\"hovertext\":[\"China\"],\"ids\":[\"China\"],\"legendgroup\":\"China\",\"marker\":{\"color\":\"#636efa\",\"size\":[9607220000000.0],\"sizemode\":\"area\",\"sizeref\":2828125000.0,\"symbol\":\"circle\"},\"mode\":\"markers+text\",\"name\":\"China\",\"orientation\":\"v\",\"showlegend\":true,\"text\":[\"China\"],\"x\":[9607220000000.0],\"xaxis\":\"x\",\"y\":[75.6],\"yaxis\":\"y\",\"type\":\"scatter\"},{\"hovertemplate\":\"<b>%{hovertext}</b><br><br>Country=%{text}<br>Year=2013<br>GDP=%{marker.size}<br>Life_Expectancy=%{y}<extra></extra>\",\"hovertext\":[\"USA\"],\"ids\":[\"USA\"],\"legendgroup\":\"USA\",\"marker\":{\"color\":\"#EF553B\",\"size\":[16700000000000.0],\"sizemode\":\"area\",\"sizeref\":2828125000.0,\"symbol\":\"circle\"},\"mode\":\"markers+text\",\"name\":\"USA\",\"orientation\":\"v\",\"showlegend\":true,\"text\":[\"USA\"],\"x\":[16700000000000.0],\"xaxis\":\"x\",\"y\":[78.9],\"yaxis\":\"y\",\"type\":\"scatter\"}],\"name\":\"2013\"},{\"data\":[{\"hovertemplate\":\"<b>%{hovertext}</b><br><br>Country=%{text}<br>Year=2014<br>GDP=%{marker.size}<br>Life_Expectancy=%{y}<extra></extra>\",\"hovertext\":[\"China\"],\"ids\":[\"China\"],\"legendgroup\":\"China\",\"marker\":{\"color\":\"#636efa\",\"size\":[10482400000000.0],\"sizemode\":\"area\",\"sizeref\":2828125000.0,\"symbol\":\"circle\"},\"mode\":\"markers+text\",\"name\":\"China\",\"orientation\":\"v\",\"showlegend\":true,\"text\":[\"China\"],\"x\":[10482400000000.0],\"xaxis\":\"x\",\"y\":[75.8],\"yaxis\":\"y\",\"type\":\"scatter\"},{\"hovertemplate\":\"<b>%{hovertext}</b><br><br>Country=%{text}<br>Year=2014<br>GDP=%{marker.size}<br>Life_Expectancy=%{y}<extra></extra>\",\"hovertext\":[\"USA\"],\"ids\":[\"USA\"],\"legendgroup\":\"USA\",\"marker\":{\"color\":\"#EF553B\",\"size\":[17400000000000.0],\"sizemode\":\"area\",\"sizeref\":2828125000.0,\"symbol\":\"circle\"},\"mode\":\"markers+text\",\"name\":\"USA\",\"orientation\":\"v\",\"showlegend\":true,\"text\":[\"USA\"],\"x\":[17400000000000.0],\"xaxis\":\"x\",\"y\":[79.1],\"yaxis\":\"y\",\"type\":\"scatter\"}],\"name\":\"2014\"},{\"data\":[{\"hovertemplate\":\"<b>%{hovertext}</b><br><br>Country=%{text}<br>Year=2015<br>GDP=%{marker.size}<br>Life_Expectancy=%{y}<extra></extra>\",\"hovertext\":[\"China\"],\"ids\":[\"China\"],\"legendgroup\":\"China\",\"marker\":{\"color\":\"#636efa\",\"size\":[11064700000000.0],\"sizemode\":\"area\",\"sizeref\":2828125000.0,\"symbol\":\"circle\"},\"mode\":\"markers+text\",\"name\":\"China\",\"orientation\":\"v\",\"showlegend\":true,\"text\":[\"China\"],\"x\":[11064700000000.0],\"xaxis\":\"x\",\"y\":[76.1],\"yaxis\":\"y\",\"type\":\"scatter\"},{\"hovertemplate\":\"<b>%{hovertext}</b><br><br>Country=%{text}<br>Year=2015<br>GDP=%{marker.size}<br>Life_Expectancy=%{y}<extra></extra>\",\"hovertext\":[\"USA\"],\"ids\":[\"USA\"],\"legendgroup\":\"USA\",\"marker\":{\"color\":\"#EF553B\",\"size\":[18100000000000.0],\"sizemode\":\"area\",\"sizeref\":2828125000.0,\"symbol\":\"circle\"},\"mode\":\"markers+text\",\"name\":\"USA\",\"orientation\":\"v\",\"showlegend\":true,\"text\":[\"USA\"],\"x\":[18100000000000.0],\"xaxis\":\"x\",\"y\":[79.3],\"yaxis\":\"y\",\"type\":\"scatter\"}],\"name\":\"2015\"}]);\n",
       "                        }).then(function(){\n",
       "                            \n",
       "var gd = document.getElementById('4283b114-03d4-4a8e-8e61-a6ee662e8db6');\n",
       "var x = new MutationObserver(function (mutations, observer) {{\n",
       "        var display = window.getComputedStyle(gd).display;\n",
       "        if (!display || display === 'none') {{\n",
       "            console.log([gd, 'removed!']);\n",
       "            Plotly.purge(gd);\n",
       "            observer.disconnect();\n",
       "        }}\n",
       "}});\n",
       "\n",
       "// Listen for the removal of the full notebook cells\n",
       "var notebookContainer = gd.closest('#notebook-container');\n",
       "if (notebookContainer) {{\n",
       "    x.observe(notebookContainer, {childList: true});\n",
       "}}\n",
       "\n",
       "// Listen for the clearing of the current output cell\n",
       "var outputEl = gd.closest('.output');\n",
       "if (outputEl) {{\n",
       "    x.observe(outputEl, {childList: true});\n",
       "}}\n",
       "\n",
       "                        })                };                });            </script>        </div>"
      ]
     },
     "metadata": {},
     "output_type": "display_data"
    }
   ],
   "source": [
    "#Create the figure\n",
    "fig = go.Figure(layout=go.Layout(height=700, width=1900))\n",
    "\n",
    "#Plot the data\n",
    "fig = px.scatter(df.query(\"Country == 'China' or Country == 'USA'\"), x=\"GDP\", y=\"Life_Expectancy\", animation_frame=\"Year\", color='Country', animation_group=\"Country\", hover_name=\"Country\", size='GDP',\n",
    "            size_max=80 , range_x=[np.amin(df.GDP)*0.5,np.amax(df.GDP)*1.25], range_y=[30,90], text='Country',template='plotly_dark')\n",
    "\n",
    "fig.update_layout(showlegend = False)\n",
    "#fig.update_traces(textposition='bottom center')\n",
    "#create the data source of the graph\n",
    "fig.add_annotation(text = \"Data Source: codeacademy.com\",\n",
    "                    xref = \"paper\",\n",
    "                    yref = \"paper\",\n",
    "                    x = -0.005,\n",
    "                    y = -0.145,\n",
    "                    showarrow = False,\n",
    "                    font = dict(size = 12),\n",
    "                    align = \"left\",\n",
    "                    xanchor = \"left\")\n",
    "#create author of the graph\n",
    "fig.add_annotation(text = \"Author: Felipe Oliveira\",\n",
    "                    xref = \"paper\",\n",
    "                    yref = \"paper\",\n",
    "                    x = 1.005,\n",
    "                    y = -0.145,\n",
    "                    showarrow = False,\n",
    "                    font = dict(size = 12),\n",
    "                    align = \"right\",\n",
    "                    xanchor = \"right\")\n",
    "\n",
    "#graph title annotation\n",
    "fig.add_annotation(text = \"CHINA VS USA - GDP & LIFE EXPECTANCY GROWTH OVER TIME (2000-2015)\",\n",
    "                    xref = \"paper\",\n",
    "                    yref = \"paper\",\n",
    "                    x = 0.32,\n",
    "                    y = 1.10,\n",
    "                    showarrow = False,\n",
    "                    xanchor = \"left\",\n",
    "                    font = dict(color = \"white\", size = 18))\n",
    "\n",
    "\n",
    "#title='CHINA VS USA - GDP & LIFE EXPECTANCY', ,template='plotly_dark'\n",
    "fig.show(renderer='notebook_connected')"
   ]
  },
  {
   "cell_type": "code",
   "execution_count": 27,
   "metadata": {},
   "outputs": [
    {
     "data": {
      "application/vnd.plotly.v1+json": {
       "config": {
        "plotlyServerURL": "https://plot.ly"
       },
       "data": [
        {
         "hovertemplate": "Country=USA<br>Life_Expectancy=%{x}<br>GDP=%{y}<extra></extra>",
         "legendgroup": "USA",
         "marker": {
          "color": "darkslateblue",
          "line": {
           "width": 1.1
          },
          "size": 8,
          "symbol": "circle"
         },
         "mode": "markers+lines",
         "name": "USA",
         "orientation": "v",
         "showlegend": true,
         "type": "scatter",
         "x": [
          79.3,
          79.1,
          78.9,
          78.8,
          78.7,
          78.7,
          78.2,
          78.1,
          78.5,
          77.8,
          77.5,
          77.5,
          77.2,
          77,
          76.9,
          76.8
         ],
         "xaxis": "x5",
         "y": [
          18100000000000,
          17400000000000,
          16700000000000,
          16200000000000,
          15500000000000,
          15000000000000,
          14700000000000,
          14500000000000,
          14400000000000,
          13900000000000,
          13100000000000,
          12300000000000,
          11500000000000,
          11000000000000,
          10600000000000,
          10300000000000
         ],
         "yaxis": "y5"
        },
        {
         "hovertemplate": "Country=China<br>Life_Expectancy=%{x}<br>GDP=%{y}<extra></extra>",
         "legendgroup": "China",
         "marker": {
          "color": "crimson",
          "line": {
           "width": 1.1
          },
          "size": 8,
          "symbol": "circle"
         },
         "mode": "markers+lines",
         "name": "China",
         "orientation": "v",
         "showlegend": true,
         "type": "scatter",
         "x": [
          76.1,
          75.8,
          75.6,
          75.4,
          75.2,
          75,
          74.9,
          74.5,
          74.4,
          74.2,
          73.9,
          73.5,
          73.1,
          72.7,
          72.2,
          71.7
         ],
         "xaxis": "x6",
         "y": [
          11064700000000,
          10482400000000,
          9607220000000,
          8560550000000,
          7572550000000,
          6100620000000,
          5109950000000,
          4598210000000,
          3552180000000,
          2752130000000,
          2285970000000,
          1955350000000,
          1660290000000,
          1470550000000,
          1339400000000,
          1211350000000
         ],
         "yaxis": "y6"
        },
        {
         "hovertemplate": "Country=Germany<br>Life_Expectancy=%{x}<br>GDP=%{y}<extra></extra>",
         "legendgroup": "Germany",
         "marker": {
          "color": "black",
          "line": {
           "width": 1.1
          },
          "size": 8,
          "symbol": "circle"
         },
         "mode": "markers+lines",
         "name": "Germany",
         "orientation": "v",
         "showlegend": true,
         "type": "scatter",
         "x": [
          80.9,
          80.5,
          80.6,
          79.9,
          80.6,
          79.8,
          80,
          80.1,
          81,
          79.6,
          79.2,
          79.1,
          78.5,
          78.4,
          78.3,
          78
         ],
         "xaxis": "x3",
         "y": [
          3890610000000,
          3757700000000,
          3752510000000,
          3752370000000,
          3543980000000,
          3439950000000,
          3418010000000,
          3417090000000,
          3375610000000,
          3002450000000,
          2861410000000,
          2819250000000,
          2505730000000,
          2079140000000,
          1950650000000,
          1949950000000
         ],
         "yaxis": "y3"
        },
        {
         "hovertemplate": "Country=Mexico<br>Life_Expectancy=%{x}<br>GDP=%{y}<extra></extra>",
         "legendgroup": "Mexico",
         "marker": {
          "color": "darkslategray",
          "line": {
           "width": 1.1
          },
          "size": 8,
          "symbol": "circle"
         },
         "mode": "markers+lines",
         "name": "Mexico",
         "orientation": "v",
         "showlegend": true,
         "type": "scatter",
         "x": [
          76.6,
          76.6,
          76.3,
          76.1,
          76.7,
          75.6,
          75.6,
          76,
          75.8,
          75.7,
          75.3,
          75.4,
          75,
          75,
          75,
          74.8
         ],
         "xaxis": "x4",
         "y": [
          1298460000000,
          1261980000000,
          1186600000000,
          1171190000000,
          1152260000000,
          1101280000000,
          1051130000000,
          1043470000000,
          965281000000,
          894949000000,
          866346000000,
          770268000000,
          741560000000,
          724704000000,
          713284000000,
          683648000000
         ],
         "yaxis": "y4"
        },
        {
         "hovertemplate": "Country=Chile<br>Life_Expectancy=%{x}<br>GDP=%{y}<extra></extra>",
         "legendgroup": "Chile",
         "marker": {
          "color": "darkblue",
          "line": {
           "width": 1.1
          },
          "size": 8,
          "symbol": "circle"
         },
         "mode": "markers+lines",
         "name": "Chile",
         "orientation": "v",
         "showlegend": true,
         "type": "scatter",
         "x": [
          80.1,
          79.9,
          80.3,
          79.8,
          80.5,
          79.1,
          79.6,
          78.9,
          79.3,
          78.9,
          78.4,
          78,
          77.3,
          77.9,
          77.3,
          77.8
         ],
         "xaxis": "x",
         "y": [
          278384000000,
          267122000000,
          260990000000,
          252252000000,
          242518000000,
          218538000000,
          179638000000,
          173606000000,
          172389000000,
          154788000000,
          122965000000,
          99210392858,
          77860932152,
          75643459840,
          70979923960,
          69736811435
         ],
         "yaxis": "y"
        },
        {
         "hovertemplate": "Country=Zimbabwe<br>Life_Expectancy=%{x}<br>GDP=%{y}<extra></extra>",
         "legendgroup": "Zimbabwe",
         "marker": {
          "color": "black",
          "line": {
           "width": 1.1
          },
          "size": 8,
          "symbol": "circle"
         },
         "mode": "markers+lines",
         "name": "Zimbabwe",
         "orientation": "v",
         "showlegend": true,
         "type": "scatter",
         "x": [
          60.7,
          59.2,
          58,
          56.6,
          54.9,
          52.4,
          50,
          45.3,
          46,
          44.8,
          44.3,
          44.6,
          44.5,
          45.4,
          46.6,
          48.2
         ],
         "xaxis": "x2",
         "y": [
          16304667807,
          15891049236,
          15451768659,
          14242490252,
          12098450749,
          10141859710,
          8621573608,
          6777384700,
          6689957600,
          6342116400,
          5805598400,
          5755215200,
          5727591800,
          5443896500,
          5291950100,
          4415702800
         ],
         "yaxis": "y2"
        }
       ],
       "layout": {
        "annotations": [
         {
          "font": {},
          "showarrow": false,
          "text": "Country=Chile",
          "x": 0.24,
          "xanchor": "center",
          "xref": "paper",
          "y": 0.2866666666666666,
          "yanchor": "bottom",
          "yref": "paper"
         },
         {
          "font": {},
          "showarrow": false,
          "text": "Country=Zimbabwe",
          "x": 0.76,
          "xanchor": "center",
          "xref": "paper",
          "y": 0.2866666666666666,
          "yanchor": "bottom",
          "yref": "paper"
         },
         {
          "font": {},
          "showarrow": false,
          "text": "Country=Germany",
          "x": 0.24,
          "xanchor": "center",
          "xref": "paper",
          "y": 0.6433333333333333,
          "yanchor": "bottom",
          "yref": "paper"
         },
         {
          "font": {},
          "showarrow": false,
          "text": "Country=Mexico",
          "x": 0.76,
          "xanchor": "center",
          "xref": "paper",
          "y": 0.6433333333333333,
          "yanchor": "bottom",
          "yref": "paper"
         },
         {
          "font": {},
          "showarrow": false,
          "text": "Country=USA",
          "x": 0.24,
          "xanchor": "center",
          "xref": "paper",
          "y": 0.9999999999999999,
          "yanchor": "bottom",
          "yref": "paper"
         },
         {
          "font": {},
          "showarrow": false,
          "text": "Country=China",
          "x": 0.76,
          "xanchor": "center",
          "xref": "paper",
          "y": 0.9999999999999999,
          "yanchor": "bottom",
          "yref": "paper"
         }
        ],
        "autosize": false,
        "height": 800,
        "legend": {
         "title": {
          "text": "Country"
         },
         "tracegroupgap": 0
        },
        "template": {
         "data": {
          "bar": [
           {
            "error_x": {
             "color": "#2a3f5f"
            },
            "error_y": {
             "color": "#2a3f5f"
            },
            "marker": {
             "line": {
              "color": "#E5ECF6",
              "width": 0.5
             },
             "pattern": {
              "fillmode": "overlay",
              "size": 10,
              "solidity": 0.2
             }
            },
            "type": "bar"
           }
          ],
          "barpolar": [
           {
            "marker": {
             "line": {
              "color": "#E5ECF6",
              "width": 0.5
             },
             "pattern": {
              "fillmode": "overlay",
              "size": 10,
              "solidity": 0.2
             }
            },
            "type": "barpolar"
           }
          ],
          "carpet": [
           {
            "aaxis": {
             "endlinecolor": "#2a3f5f",
             "gridcolor": "white",
             "linecolor": "white",
             "minorgridcolor": "white",
             "startlinecolor": "#2a3f5f"
            },
            "baxis": {
             "endlinecolor": "#2a3f5f",
             "gridcolor": "white",
             "linecolor": "white",
             "minorgridcolor": "white",
             "startlinecolor": "#2a3f5f"
            },
            "type": "carpet"
           }
          ],
          "choropleth": [
           {
            "colorbar": {
             "outlinewidth": 0,
             "ticks": ""
            },
            "type": "choropleth"
           }
          ],
          "contour": [
           {
            "colorbar": {
             "outlinewidth": 0,
             "ticks": ""
            },
            "colorscale": [
             [
              0,
              "#0d0887"
             ],
             [
              0.1111111111111111,
              "#46039f"
             ],
             [
              0.2222222222222222,
              "#7201a8"
             ],
             [
              0.3333333333333333,
              "#9c179e"
             ],
             [
              0.4444444444444444,
              "#bd3786"
             ],
             [
              0.5555555555555556,
              "#d8576b"
             ],
             [
              0.6666666666666666,
              "#ed7953"
             ],
             [
              0.7777777777777778,
              "#fb9f3a"
             ],
             [
              0.8888888888888888,
              "#fdca26"
             ],
             [
              1,
              "#f0f921"
             ]
            ],
            "type": "contour"
           }
          ],
          "contourcarpet": [
           {
            "colorbar": {
             "outlinewidth": 0,
             "ticks": ""
            },
            "type": "contourcarpet"
           }
          ],
          "heatmap": [
           {
            "colorbar": {
             "outlinewidth": 0,
             "ticks": ""
            },
            "colorscale": [
             [
              0,
              "#0d0887"
             ],
             [
              0.1111111111111111,
              "#46039f"
             ],
             [
              0.2222222222222222,
              "#7201a8"
             ],
             [
              0.3333333333333333,
              "#9c179e"
             ],
             [
              0.4444444444444444,
              "#bd3786"
             ],
             [
              0.5555555555555556,
              "#d8576b"
             ],
             [
              0.6666666666666666,
              "#ed7953"
             ],
             [
              0.7777777777777778,
              "#fb9f3a"
             ],
             [
              0.8888888888888888,
              "#fdca26"
             ],
             [
              1,
              "#f0f921"
             ]
            ],
            "type": "heatmap"
           }
          ],
          "heatmapgl": [
           {
            "colorbar": {
             "outlinewidth": 0,
             "ticks": ""
            },
            "colorscale": [
             [
              0,
              "#0d0887"
             ],
             [
              0.1111111111111111,
              "#46039f"
             ],
             [
              0.2222222222222222,
              "#7201a8"
             ],
             [
              0.3333333333333333,
              "#9c179e"
             ],
             [
              0.4444444444444444,
              "#bd3786"
             ],
             [
              0.5555555555555556,
              "#d8576b"
             ],
             [
              0.6666666666666666,
              "#ed7953"
             ],
             [
              0.7777777777777778,
              "#fb9f3a"
             ],
             [
              0.8888888888888888,
              "#fdca26"
             ],
             [
              1,
              "#f0f921"
             ]
            ],
            "type": "heatmapgl"
           }
          ],
          "histogram": [
           {
            "marker": {
             "pattern": {
              "fillmode": "overlay",
              "size": 10,
              "solidity": 0.2
             }
            },
            "type": "histogram"
           }
          ],
          "histogram2d": [
           {
            "colorbar": {
             "outlinewidth": 0,
             "ticks": ""
            },
            "colorscale": [
             [
              0,
              "#0d0887"
             ],
             [
              0.1111111111111111,
              "#46039f"
             ],
             [
              0.2222222222222222,
              "#7201a8"
             ],
             [
              0.3333333333333333,
              "#9c179e"
             ],
             [
              0.4444444444444444,
              "#bd3786"
             ],
             [
              0.5555555555555556,
              "#d8576b"
             ],
             [
              0.6666666666666666,
              "#ed7953"
             ],
             [
              0.7777777777777778,
              "#fb9f3a"
             ],
             [
              0.8888888888888888,
              "#fdca26"
             ],
             [
              1,
              "#f0f921"
             ]
            ],
            "type": "histogram2d"
           }
          ],
          "histogram2dcontour": [
           {
            "colorbar": {
             "outlinewidth": 0,
             "ticks": ""
            },
            "colorscale": [
             [
              0,
              "#0d0887"
             ],
             [
              0.1111111111111111,
              "#46039f"
             ],
             [
              0.2222222222222222,
              "#7201a8"
             ],
             [
              0.3333333333333333,
              "#9c179e"
             ],
             [
              0.4444444444444444,
              "#bd3786"
             ],
             [
              0.5555555555555556,
              "#d8576b"
             ],
             [
              0.6666666666666666,
              "#ed7953"
             ],
             [
              0.7777777777777778,
              "#fb9f3a"
             ],
             [
              0.8888888888888888,
              "#fdca26"
             ],
             [
              1,
              "#f0f921"
             ]
            ],
            "type": "histogram2dcontour"
           }
          ],
          "mesh3d": [
           {
            "colorbar": {
             "outlinewidth": 0,
             "ticks": ""
            },
            "type": "mesh3d"
           }
          ],
          "parcoords": [
           {
            "line": {
             "colorbar": {
              "outlinewidth": 0,
              "ticks": ""
             }
            },
            "type": "parcoords"
           }
          ],
          "pie": [
           {
            "automargin": true,
            "type": "pie"
           }
          ],
          "scatter": [
           {
            "marker": {
             "colorbar": {
              "outlinewidth": 0,
              "ticks": ""
             }
            },
            "type": "scatter"
           }
          ],
          "scatter3d": [
           {
            "line": {
             "colorbar": {
              "outlinewidth": 0,
              "ticks": ""
             }
            },
            "marker": {
             "colorbar": {
              "outlinewidth": 0,
              "ticks": ""
             }
            },
            "type": "scatter3d"
           }
          ],
          "scattercarpet": [
           {
            "marker": {
             "colorbar": {
              "outlinewidth": 0,
              "ticks": ""
             }
            },
            "type": "scattercarpet"
           }
          ],
          "scattergeo": [
           {
            "marker": {
             "colorbar": {
              "outlinewidth": 0,
              "ticks": ""
             }
            },
            "type": "scattergeo"
           }
          ],
          "scattergl": [
           {
            "marker": {
             "colorbar": {
              "outlinewidth": 0,
              "ticks": ""
             }
            },
            "type": "scattergl"
           }
          ],
          "scattermapbox": [
           {
            "marker": {
             "colorbar": {
              "outlinewidth": 0,
              "ticks": ""
             }
            },
            "type": "scattermapbox"
           }
          ],
          "scatterpolar": [
           {
            "marker": {
             "colorbar": {
              "outlinewidth": 0,
              "ticks": ""
             }
            },
            "type": "scatterpolar"
           }
          ],
          "scatterpolargl": [
           {
            "marker": {
             "colorbar": {
              "outlinewidth": 0,
              "ticks": ""
             }
            },
            "type": "scatterpolargl"
           }
          ],
          "scatterternary": [
           {
            "marker": {
             "colorbar": {
              "outlinewidth": 0,
              "ticks": ""
             }
            },
            "type": "scatterternary"
           }
          ],
          "surface": [
           {
            "colorbar": {
             "outlinewidth": 0,
             "ticks": ""
            },
            "colorscale": [
             [
              0,
              "#0d0887"
             ],
             [
              0.1111111111111111,
              "#46039f"
             ],
             [
              0.2222222222222222,
              "#7201a8"
             ],
             [
              0.3333333333333333,
              "#9c179e"
             ],
             [
              0.4444444444444444,
              "#bd3786"
             ],
             [
              0.5555555555555556,
              "#d8576b"
             ],
             [
              0.6666666666666666,
              "#ed7953"
             ],
             [
              0.7777777777777778,
              "#fb9f3a"
             ],
             [
              0.8888888888888888,
              "#fdca26"
             ],
             [
              1,
              "#f0f921"
             ]
            ],
            "type": "surface"
           }
          ],
          "table": [
           {
            "cells": {
             "fill": {
              "color": "#EBF0F8"
             },
             "line": {
              "color": "white"
             }
            },
            "header": {
             "fill": {
              "color": "#C8D4E3"
             },
             "line": {
              "color": "white"
             }
            },
            "type": "table"
           }
          ]
         },
         "layout": {
          "annotationdefaults": {
           "arrowcolor": "#2a3f5f",
           "arrowhead": 0,
           "arrowwidth": 1
          },
          "autotypenumbers": "strict",
          "coloraxis": {
           "colorbar": {
            "outlinewidth": 0,
            "ticks": ""
           }
          },
          "colorscale": {
           "diverging": [
            [
             0,
             "#8e0152"
            ],
            [
             0.1,
             "#c51b7d"
            ],
            [
             0.2,
             "#de77ae"
            ],
            [
             0.3,
             "#f1b6da"
            ],
            [
             0.4,
             "#fde0ef"
            ],
            [
             0.5,
             "#f7f7f7"
            ],
            [
             0.6,
             "#e6f5d0"
            ],
            [
             0.7,
             "#b8e186"
            ],
            [
             0.8,
             "#7fbc41"
            ],
            [
             0.9,
             "#4d9221"
            ],
            [
             1,
             "#276419"
            ]
           ],
           "sequential": [
            [
             0,
             "#0d0887"
            ],
            [
             0.1111111111111111,
             "#46039f"
            ],
            [
             0.2222222222222222,
             "#7201a8"
            ],
            [
             0.3333333333333333,
             "#9c179e"
            ],
            [
             0.4444444444444444,
             "#bd3786"
            ],
            [
             0.5555555555555556,
             "#d8576b"
            ],
            [
             0.6666666666666666,
             "#ed7953"
            ],
            [
             0.7777777777777778,
             "#fb9f3a"
            ],
            [
             0.8888888888888888,
             "#fdca26"
            ],
            [
             1,
             "#f0f921"
            ]
           ],
           "sequentialminus": [
            [
             0,
             "#0d0887"
            ],
            [
             0.1111111111111111,
             "#46039f"
            ],
            [
             0.2222222222222222,
             "#7201a8"
            ],
            [
             0.3333333333333333,
             "#9c179e"
            ],
            [
             0.4444444444444444,
             "#bd3786"
            ],
            [
             0.5555555555555556,
             "#d8576b"
            ],
            [
             0.6666666666666666,
             "#ed7953"
            ],
            [
             0.7777777777777778,
             "#fb9f3a"
            ],
            [
             0.8888888888888888,
             "#fdca26"
            ],
            [
             1,
             "#f0f921"
            ]
           ]
          },
          "colorway": [
           "#636efa",
           "#EF553B",
           "#00cc96",
           "#ab63fa",
           "#FFA15A",
           "#19d3f3",
           "#FF6692",
           "#B6E880",
           "#FF97FF",
           "#FECB52"
          ],
          "font": {
           "color": "#2a3f5f"
          },
          "geo": {
           "bgcolor": "white",
           "lakecolor": "white",
           "landcolor": "#E5ECF6",
           "showlakes": true,
           "showland": true,
           "subunitcolor": "white"
          },
          "hoverlabel": {
           "align": "left"
          },
          "hovermode": "closest",
          "mapbox": {
           "style": "light"
          },
          "paper_bgcolor": "white",
          "plot_bgcolor": "#E5ECF6",
          "polar": {
           "angularaxis": {
            "gridcolor": "white",
            "linecolor": "white",
            "ticks": ""
           },
           "bgcolor": "#E5ECF6",
           "radialaxis": {
            "gridcolor": "white",
            "linecolor": "white",
            "ticks": ""
           }
          },
          "scene": {
           "xaxis": {
            "backgroundcolor": "#E5ECF6",
            "gridcolor": "white",
            "gridwidth": 2,
            "linecolor": "white",
            "showbackground": true,
            "ticks": "",
            "zerolinecolor": "white"
           },
           "yaxis": {
            "backgroundcolor": "#E5ECF6",
            "gridcolor": "white",
            "gridwidth": 2,
            "linecolor": "white",
            "showbackground": true,
            "ticks": "",
            "zerolinecolor": "white"
           },
           "zaxis": {
            "backgroundcolor": "#E5ECF6",
            "gridcolor": "white",
            "gridwidth": 2,
            "linecolor": "white",
            "showbackground": true,
            "ticks": "",
            "zerolinecolor": "white"
           }
          },
          "shapedefaults": {
           "line": {
            "color": "#2a3f5f"
           }
          },
          "ternary": {
           "aaxis": {
            "gridcolor": "white",
            "linecolor": "white",
            "ticks": ""
           },
           "baxis": {
            "gridcolor": "white",
            "linecolor": "white",
            "ticks": ""
           },
           "bgcolor": "#E5ECF6",
           "caxis": {
            "gridcolor": "white",
            "linecolor": "white",
            "ticks": ""
           }
          },
          "title": {
           "x": 0.05
          },
          "xaxis": {
           "automargin": true,
           "gridcolor": "white",
           "linecolor": "white",
           "ticks": "",
           "title": {
            "standoff": 15
           },
           "zerolinecolor": "white",
           "zerolinewidth": 2
          },
          "yaxis": {
           "automargin": true,
           "gridcolor": "white",
           "linecolor": "white",
           "ticks": "",
           "title": {
            "standoff": 15
           },
           "zerolinecolor": "white",
           "zerolinewidth": 2
          }
         }
        },
        "title": {
         "text": "GDP VS LIVE EXPECTANCY CORRELATION"
        },
        "width": 1200,
        "xaxis": {
         "anchor": "y",
         "domain": [
          0,
          0.48
         ],
         "showticklabels": true,
         "title": {
          "text": "Life_Expectancy"
         }
        },
        "xaxis2": {
         "anchor": "y2",
         "domain": [
          0.52,
          1
         ],
         "showticklabels": true,
         "title": {
          "text": "Life_Expectancy"
         }
        },
        "xaxis3": {
         "anchor": "y3",
         "domain": [
          0,
          0.48
         ],
         "showticklabels": true
        },
        "xaxis4": {
         "anchor": "y4",
         "domain": [
          0.52,
          1
         ],
         "showticklabels": true
        },
        "xaxis5": {
         "anchor": "y5",
         "domain": [
          0,
          0.48
         ],
         "showticklabels": true
        },
        "xaxis6": {
         "anchor": "y6",
         "domain": [
          0.52,
          1
         ],
         "showticklabels": true
        },
        "yaxis": {
         "anchor": "x",
         "domain": [
          0,
          0.2866666666666666
         ],
         "showticklabels": true,
         "title": {
          "text": "GDP"
         }
        },
        "yaxis2": {
         "anchor": "x2",
         "domain": [
          0,
          0.2866666666666666
         ],
         "showticklabels": true
        },
        "yaxis3": {
         "anchor": "x3",
         "domain": [
          0.35666666666666663,
          0.6433333333333333
         ],
         "showticklabels": true,
         "title": {
          "text": "GDP"
         }
        },
        "yaxis4": {
         "anchor": "x4",
         "domain": [
          0.35666666666666663,
          0.6433333333333333
         ],
         "showticklabels": true
        },
        "yaxis5": {
         "anchor": "x5",
         "domain": [
          0.7133333333333333,
          0.9999999999999999
         ],
         "showticklabels": true,
         "title": {
          "text": "GDP"
         }
        },
        "yaxis6": {
         "anchor": "x6",
         "domain": [
          0.7133333333333333,
          0.9999999999999999
         ],
         "showticklabels": true
        }
       }
      }
     },
     "metadata": {},
     "output_type": "display_data"
    }
   ],
   "source": [
    "fig = px.scatter(df.sort_values('GDP', ascending=False), x=\"Life_Expectancy\",y='GDP', facet_col=\"Country\", color='Country', facet_col_wrap=2,facet_col_spacing=0.04, color_discrete_map={\"Chile\":\"darkblue\", \"China\":\"crimson\", \"Germany\":\"black\", \"Mexico\":\"darkslategray\", \"USA\":\"darkslateblue\",\"Zimbabwe\":\"black\"}, title='GDP VS LIVE EXPECTANCY CORRELATION')\n",
    "\n",
    "\n",
    "# Set options common to all traces with fig.update_traces\n",
    "fig.update_traces(mode='markers+lines', marker_line_width=1.10, marker_size=8)\n",
    "fig.update_layout(\n",
    "    autosize=False,\n",
    "    width=1200,\n",
    "    height=800)\n",
    "\n",
    "\n",
    "# Prevent that interacting with one column changes all \n",
    "fig.update_yaxes(matches=None,showticklabels=True)\n",
    "fig.update_xaxes(matches=None,showticklabels=True)\n",
    "fig.show()"
   ]
  },
  {
   "cell_type": "markdown",
   "metadata": {},
   "source": [
    "### Average, min and max life expectancy / GDP"
   ]
  },
  {
   "cell_type": "code",
   "execution_count": 50,
   "metadata": {},
   "outputs": [
    {
     "name": "stdout",
     "output_type": "stream",
     "text": [
      "Life_Expectancy (years): Average: 72.78958333333334, Minimum value: 44.3, Maximum Value: 81\n",
      "GDP: Minimum value: 4.42B, Maximum Value:  18.1T\n"
     ]
    }
   ],
   "source": [
    "avg_le = np.average(df['Life_Expectancy'])\n",
    "median_le = np.median(df['Life_Expectancy']) \n",
    "min_le = np.amin(df.Life_Expectancy)\n",
    "min_gdp = np.amin(df.GDP)\n",
    "max_le = np.amax(df.Life_Expectancy)\n",
    "max_gdp = np.amax(df.GDP)\n",
    "print('Life_Expectancy (years): Average: {}, Minimum value: {}, Maximum Value: {}'.format(avg_le,min,max))\n",
    "print(f\"GDP: Minimum value: {numerize(min_gdp)}, Maximum Value:  {numerize(max_gdp)}\")\n",
    "#print(f'Average Life_Expectancy:  {max_gdp}')"
   ]
  },
  {
   "cell_type": "code",
   "execution_count": 353,
   "metadata": {},
   "outputs": [
    {
     "data": {
      "text/plain": [
       "Text(0.55, -0.2, '$\\\\bf{MAX\\\\  (YEARS)}$')"
      ]
     },
     "execution_count": 353,
     "metadata": {},
     "output_type": "execute_result"
    },
    {
     "data": {
      "image/png": "[encoded data removed]",
      "text/plain": [
       "<Figure size 374.4x504 with 1 Axes>"
      ]
     },
     "metadata": {
      "needs_background": "light"
     },
     "output_type": "display_data"
    }
   ],
   "source": [
    "GRAY1, GRAY2, GRAY3 = '#231F20', '#414040', '#555655'\n",
    "GRAY4, GRAY5, GRAY6 = '#646369', '#76787B', '#828282'\n",
    "GRAY7, GRAY8, GRAY9 = '#929497', '#A6A6A5', '#BFBEBE'\n",
    "BLUE1, BLUE2, BLUE3, BLUE4 = '#174A7E', '#4A81BF', '#94B2D7', '#94AFC5'\n",
    "RED1, RED2 = '#C3514E', '#E6BAB7'\n",
    "GREEN1, GREEN2 = '#0C8040', '#9ABB59'\n",
    "ORANGE1 = '#F79747'\n",
    "\n",
    "plt.figure(figsize=(5.2, 7) # width, height in inches\n",
    "           )             # resolution of the figure\n",
    "\n",
    "\n",
    "# remove chart border\n",
    "for spine in plt.gca().spines.values():\n",
    "    spine.set_visible(False)\n",
    "# remove chart tick labels\n",
    "ax = plt.gca()\n",
    "ax.axes.xaxis.set_visible(False)\n",
    "ax.axes.yaxis.set_visible(False)\n",
    "\n",
    "plt.text(-0.16, 1.03,\n",
    "         'LIFE EXPECTANCY AVG, MAX AND MIN'+' '*25,\n",
    "         fontsize=22,\n",
    "         color='white',\n",
    "         # put a rectangular box around the text to set a background color\n",
    "         bbox={'facecolor': GRAY7, 'pad': 15, 'edgecolor': 'none'}) \n",
    "\n",
    "\n",
    "# add note to the plot\n",
    "plt.text(-0.15, 0.71,\n",
    "         '$\\\\bf{81}$', # use mathtext \\\\bf for bold text\n",
    "         fontsize=122,\n",
    "         color=ORANGE1)\n",
    "# add note to the plot\n",
    "plt.text(0.15, 0.61,\n",
    "         # use mathtext \\\\bf for bold text\n",
    "         '$\\\\bf{AVG\\  (YEARS)}$',\n",
    "         fontsize=19,\n",
    "         color=ORANGE1)\n",
    "\n",
    "\n",
    "plt.text(-0.15, 0.31,\n",
    "         '$\\\\bf{44.3}$', # use mathtext \\\\bf for bold text\n",
    "         fontsize=122,\n",
    "         color=BLUE2)\n",
    "plt.text(0.45, 0.21,\n",
    "         # use mathtext \\\\bf for bold text\n",
    "         '$\\\\bf{MIN\\  (YEARS)}$',\n",
    "         fontsize=19,\n",
    "         color=BLUE2)\n",
    "\n",
    "\n",
    "plt.text(-0.15, - 0.10,\n",
    "         '$\\\\bf{72.78}$', # use mathtext \\\\bf for bold text\n",
    "         fontsize=122,\n",
    "         color=RED1)\n",
    "plt.text(0.55, - 0.20,\n",
    "         # use mathtext \\\\bf for bold text\n",
    "         '$\\\\bf{MAX\\  (YEARS)}$',\n",
    "         fontsize=19,\n",
    "         color=RED1)\n"
   ]
  },
  {
   "cell_type": "code",
   "execution_count": 303,
   "metadata": {},
   "outputs": [
    {
     "data": {
      "text/plain": [
       "Text(0.29, 0.11, '$\\\\bf{minimum\\\\ GDP\\\\  (USD)}$')"
      ]
     },
     "execution_count": 303,
     "metadata": {},
     "output_type": "execute_result"
    },
    {
     "data": {
      "image/png": "[encoded data removed]",
      "text/plain": [
       "<Figure size 374.4x468 with 1 Axes>"
      ]
     },
     "metadata": {
      "needs_background": "light"
     },
     "output_type": "display_data"
    }
   ],
   "source": [
    "GRAY1, GRAY2, GRAY3 = '#231F20', '#414040', '#555655'\n",
    "GRAY4, GRAY5, GRAY6 = '#646369', '#76787B', '#828282'\n",
    "GRAY7, GRAY8, GRAY9 = '#929497', '#A6A6A5', '#BFBEBE'\n",
    "BLUE1, BLUE2, BLUE3, BLUE4 = '#174A7E', '#4A81BF', '#94B2D7', '#94AFC5'\n",
    "RED1, RED2 = '#C3514E', '#E6BAB7'\n",
    "GREEN1, GREEN2 = '#0C8040', '#9ABB59'\n",
    "ORANGE1 = '#F79747'\n",
    "\n",
    "plt.figure(figsize=(5.2, 6.5), # width, height in inches\n",
    "           )             # resolution of the figure\n",
    "\n",
    "#dpi=110\n",
    "# remove chart border\n",
    "for spine in plt.gca().spines.values():\n",
    "    spine.set_visible(False)\n",
    "# remove chart tick labels\n",
    "ax = plt.gca()\n",
    "ax.axes.xaxis.set_visible(False)\n",
    "ax.axes.yaxis.set_visible(False)\n",
    "\n",
    "plt.text(-0.16, 1.03,\n",
    "         'HIGHEST AND LOWEST GDP'+' '*25,\n",
    "         fontsize=26,\n",
    "         color='white',\n",
    "         # put a rectangular box around the text to set a background color\n",
    "         bbox={'facecolor': GRAY7, 'pad': 15, 'edgecolor': 'none'}) \n",
    "\n",
    "\n",
    "# add note to the plot\n",
    "plt.text(-0.15, 0.61,\n",
    "         '$\\\\bf{18.1T}$', # use mathtext \\\\bf for bold text\n",
    "         fontsize=122,\n",
    "         color=BLUE2)\n",
    "# add note to the plot\n",
    "plt.text(0.45, 0.51,\n",
    "         # use mathtext \\\\bf for bold text\n",
    "         '$\\\\bf{max\\ GDP\\  (USD)}$',\n",
    "         fontsize=19,\n",
    "         color=BLUE2)\n",
    "\n",
    "plt.text(-0.15, 0.21,\n",
    "         '$\\\\bf{4.42B}$', # use mathtext \\\\bf for bold text\n",
    "         fontsize=122,\n",
    "         color=RED1)\n",
    "plt.text(0.29, 0.11,\n",
    "         # use mathtext \\\\bf for bold text\n",
    "         '$\\\\bf{minimum\\ GDP\\  (USD)}$',\n",
    "         fontsize=19,\n",
    "         color=RED1)\n",
    "\n",
    "#GDP: Minimum value: 4.42B, Maximum Value:  18.1T"
   ]
  },
  {
   "cell_type": "markdown",
   "metadata": {},
   "source": [
    "### Life Expectancy Distribution"
   ]
  },
  {
   "cell_type": "code",
   "execution_count": 32,
   "metadata": {},
   "outputs": [
    {
     "data": {
      "image/png": "[encoded data removed]",
      "text/plain": [
       "<Figure size 1800x720 with 1 Axes>"
      ]
     },
     "metadata": {
      "needs_background": "light"
     },
     "output_type": "display_data"
    }
   ],
   "source": [
    "font_title = {'family': 'arial',\n",
    "        'color':  '#404647',\n",
    "        'weight': 'normal',\n",
    "        'size': 16,\n",
    "        }\n",
    "\n",
    "font_labels = {'family': 'arial',\n",
    "        'color':  '#646369',\n",
    "        'weight': 'normal',\n",
    "        'size': 13,\n",
    "        }\n",
    "\n",
    "fig, ax = plt.subplots(figsize=(25, 10)) \n",
    "sns.kdeplot(data=df, x=\"Life_Expectancy\", hue=\"Country\",shade=True, fill=True, palette=\"cubehelix\")\n",
    "plt.title('LIFE EXPECTANCY DISTRIBUTION - KDE', fontdict=font_title) \n",
    "plt.xlabel(\"Life Expectancy (years)\",fontdict=font_labels)\n",
    "plt.ylabel(\"Density\",fontdict=font_labels)\n",
    "plt.yticks(fontsize=12, color='#646369')\n",
    "plt.xticks(fontsize=12, color='#646369')\n",
    "sns.despine()"
   ]
  },
  {
   "cell_type": "code",
   "execution_count": 34,
   "metadata": {},
   "outputs": [
    {
     "data": {
      "text/plain": [
       "(array([40., 45., 50., 55., 60., 65., 70., 75., 80., 85.]),\n",
       " [Text(0, 0, ''),\n",
       "  Text(0, 0, ''),\n",
       "  Text(0, 0, ''),\n",
       "  Text(0, 0, ''),\n",
       "  Text(0, 0, ''),\n",
       "  Text(0, 0, ''),\n",
       "  Text(0, 0, ''),\n",
       "  Text(0, 0, ''),\n",
       "  Text(0, 0, ''),\n",
       "  Text(0, 0, '')])"
      ]
     },
     "execution_count": 34,
     "metadata": {},
     "output_type": "execute_result"
    },
    {
     "data": {
      "image/png": "[encoded data removed]",
      "text/plain": [
       "<Figure size 1800x720 with 1 Axes>"
      ]
     },
     "metadata": {
      "needs_background": "light"
     },
     "output_type": "display_data"
    }
   ],
   "source": [
    "fig, ax = plt.subplots(figsize=(25, 10)) \n",
    "sns.histplot(data=df, x='Life_Expectancy', hue='Country', element=\"step\")\n",
    "plt.title('LIFE EXPECTANCY DISTRIBUTION - HISTOGRAM', fontdict=font_title) \n",
    "plt.xlabel(\"Life Expectancy (years)\",fontdict=font_labels)\n",
    "plt.ylabel(\"Density\",fontdict=font_labels)\n",
    "plt.yticks(fontsize=12, color='#646369')\n",
    "plt.xticks(fontsize=12, color='#646369')"
   ]
  },
  {
   "cell_type": "code",
   "execution_count": 46,
   "metadata": {},
   "outputs": [
    {
     "data": {
      "application/vnd.plotly.v1+json": {
       "config": {
        "plotlyServerURL": "https://plot.ly"
       },
       "data": [
        {
         "alignmentgroup": "True",
         "boxpoints": "all",
         "hovertemplate": "Country=%{x}<br>Life_Expectancy=%{y}<extra></extra>",
         "legendgroup": "Chile",
         "marker": {
          "color": "#1F77B4"
         },
         "name": "Chile",
         "notched": false,
         "offsetgroup": "Chile",
         "orientation": "v",
         "showlegend": true,
         "type": "box",
         "x": [
          "Chile",
          "Chile",
          "Chile",
          "Chile",
          "Chile",
          "Chile",
          "Chile",
          "Chile",
          "Chile",
          "Chile",
          "Chile",
          "Chile",
          "Chile",
          "Chile",
          "Chile",
          "Chile"
         ],
         "x0": " ",
         "xaxis": "x",
         "y": [
          77.3,
          77.3,
          77.8,
          77.9,
          78,
          78.4,
          78.9,
          78.9,
          79.6,
          79.3,
          79.1,
          79.8,
          79.9,
          80.1,
          80.3,
          80.5
         ],
         "y0": " ",
         "yaxis": "y"
        },
        {
         "alignmentgroup": "True",
         "boxpoints": "all",
         "hovertemplate": "Country=%{x}<br>Life_Expectancy=%{y}<extra></extra>",
         "legendgroup": "China",
         "marker": {
          "color": "#FF7F0E"
         },
         "name": "China",
         "notched": false,
         "offsetgroup": "China",
         "orientation": "v",
         "showlegend": true,
         "type": "box",
         "x": [
          "China",
          "China",
          "China",
          "China",
          "China",
          "China",
          "China",
          "China",
          "China",
          "China",
          "China",
          "China",
          "China",
          "China",
          "China",
          "China"
         ],
         "x0": " ",
         "xaxis": "x",
         "y": [
          71.7,
          72.2,
          72.7,
          73.1,
          73.5,
          73.9,
          74.2,
          74.4,
          74.5,
          74.9,
          75,
          75.2,
          75.4,
          75.6,
          75.8,
          76.1
         ],
         "y0": " ",
         "yaxis": "y"
        },
        {
         "alignmentgroup": "True",
         "boxpoints": "all",
         "hovertemplate": "Country=%{x}<br>Life_Expectancy=%{y}<extra></extra>",
         "legendgroup": "Germany",
         "marker": {
          "color": "#2CA02C"
         },
         "name": "Germany",
         "notched": false,
         "offsetgroup": "Germany",
         "orientation": "v",
         "showlegend": true,
         "type": "box",
         "x": [
          "Germany",
          "Germany",
          "Germany",
          "Germany",
          "Germany",
          "Germany",
          "Germany",
          "Germany",
          "Germany",
          "Germany",
          "Germany",
          "Germany",
          "Germany",
          "Germany",
          "Germany",
          "Germany"
         ],
         "x0": " ",
         "xaxis": "x",
         "y": [
          78,
          78.3,
          78.4,
          78.5,
          79.1,
          79.2,
          79.6,
          79.8,
          79.9,
          80,
          80.1,
          80.5,
          80.6,
          80.6,
          80.9,
          81
         ],
         "y0": " ",
         "yaxis": "y"
        },
        {
         "alignmentgroup": "True",
         "boxpoints": "all",
         "hovertemplate": "Country=%{x}<br>Life_Expectancy=%{y}<extra></extra>",
         "legendgroup": "Mexico",
         "marker": {
          "color": "#D62728"
         },
         "name": "Mexico",
         "notched": false,
         "offsetgroup": "Mexico",
         "orientation": "v",
         "showlegend": true,
         "type": "box",
         "x": [
          "Mexico",
          "Mexico",
          "Mexico",
          "Mexico",
          "Mexico",
          "Mexico",
          "Mexico",
          "Mexico",
          "Mexico",
          "Mexico",
          "Mexico",
          "Mexico",
          "Mexico",
          "Mexico",
          "Mexico",
          "Mexico"
         ],
         "x0": " ",
         "xaxis": "x",
         "y": [
          74.8,
          75,
          75,
          75,
          75.4,
          75.3,
          75.8,
          76,
          75.6,
          75.7,
          75.6,
          76.1,
          76.3,
          76.6,
          76.6,
          76.7
         ],
         "y0": " ",
         "yaxis": "y"
        },
        {
         "alignmentgroup": "True",
         "boxpoints": "all",
         "hovertemplate": "Country=%{x}<br>Life_Expectancy=%{y}<extra></extra>",
         "legendgroup": "USA",
         "marker": {
          "color": "#9467BD"
         },
         "name": "USA",
         "notched": false,
         "offsetgroup": "USA",
         "orientation": "v",
         "showlegend": true,
         "type": "box",
         "x": [
          "USA",
          "USA",
          "USA",
          "USA",
          "USA",
          "USA",
          "USA",
          "USA",
          "USA",
          "USA",
          "USA",
          "USA",
          "USA",
          "USA",
          "USA",
          "USA"
         ],
         "x0": " ",
         "xaxis": "x",
         "y": [
          76.8,
          76.9,
          77,
          77.2,
          77.5,
          77.5,
          77.8,
          78.1,
          78.2,
          78.5,
          78.7,
          78.7,
          78.8,
          78.9,
          79.1,
          79.3
         ],
         "y0": " ",
         "yaxis": "y"
        },
        {
         "alignmentgroup": "True",
         "boxpoints": "all",
         "hovertemplate": "Country=%{x}<br>Life_Expectancy=%{y}<extra></extra>",
         "legendgroup": "Zimbabwe",
         "marker": {
          "color": "#8C564B"
         },
         "name": "Zimbabwe",
         "notched": false,
         "offsetgroup": "Zimbabwe",
         "orientation": "v",
         "showlegend": true,
         "type": "box",
         "x": [
          "Zimbabwe",
          "Zimbabwe",
          "Zimbabwe",
          "Zimbabwe",
          "Zimbabwe",
          "Zimbabwe",
          "Zimbabwe",
          "Zimbabwe",
          "Zimbabwe",
          "Zimbabwe",
          "Zimbabwe",
          "Zimbabwe",
          "Zimbabwe",
          "Zimbabwe",
          "Zimbabwe",
          "Zimbabwe"
         ],
         "x0": " ",
         "xaxis": "x",
         "y": [
          46,
          45.3,
          44.8,
          44.5,
          44.3,
          44.6,
          45.4,
          46.6,
          48.2,
          50,
          52.4,
          54.9,
          56.6,
          58,
          59.2,
          60.7
         ],
         "y0": " ",
         "yaxis": "y"
        }
       ],
       "layout": {
        "boxmode": "overlay",
        "legend": {
         "title": {
          "text": "Country"
         },
         "tracegroupgap": 0
        },
        "template": {
         "data": {
          "pie": [
           {
            "automargin": true,
            "type": "pie"
           }
          ],
          "scatter": [
           {
            "line": {
             "width": 3
            },
            "marker": {
             "size": 9
            },
            "type": "scatter"
           }
          ],
          "scatter3d": [
           {
            "line": {
             "width": 3
            },
            "marker": {
             "size": 9
            },
            "type": "scatter3d"
           }
          ],
          "scattergeo": [
           {
            "line": {
             "width": 3
            },
            "marker": {
             "size": 9
            },
            "type": "scattergeo"
           }
          ],
          "scattergl": [
           {
            "line": {
             "width": 3
            },
            "marker": {
             "size": 9
            },
            "type": "scattergl"
           }
          ],
          "scatterpolar": [
           {
            "line": {
             "width": 3
            },
            "marker": {
             "size": 9
            },
            "type": "scatterpolar"
           }
          ],
          "scatterpolargl": [
           {
            "line": {
             "width": 3
            },
            "marker": {
             "size": 9
            },
            "type": "scatterpolargl"
           }
          ],
          "scatterternary": [
           {
            "line": {
             "width": 3
            },
            "marker": {
             "size": 9
            },
            "type": "scatterternary"
           }
          ],
          "table": [
           {
            "cells": {
             "height": 30
            },
            "header": {
             "height": 36
            },
            "type": "table"
           }
          ]
         },
         "layout": {
          "font": {
           "size": 18
          },
          "xaxis": {
           "title": {
            "standoff": 15
           }
          },
          "yaxis": {
           "title": {
            "standoff": 15
           }
          }
         }
        },
        "title": {
         "text": "LIFE EXPECTANCY DISTRIBUTION - BOX"
        },
        "xaxis": {
         "anchor": "y",
         "categoryarray": [
          "Chile",
          "China",
          "Germany",
          "Mexico",
          "USA",
          "Zimbabwe"
         ],
         "categoryorder": "array",
         "domain": [
          0,
          1
         ],
         "title": {
          "text": "Country"
         }
        },
        "yaxis": {
         "anchor": "x",
         "domain": [
          0,
          1
         ],
         "title": {
          "text": "Life_Expectancy"
         }
        }
       }
      }
     },
     "metadata": {},
     "output_type": "display_data"
    },
    {
     "data": {
      "application/vnd.plotly.v1+json": {
       "config": {
        "plotlyServerURL": "https://plot.ly"
       },
       "data": [
        {
         "alignmentgroup": "True",
         "box": {
          "visible": false
         },
         "customdata": [
          [
           2000,
           77860932152
          ],
          [
           2001,
           70979923960
          ],
          [
           2002,
           69736811435
          ],
          [
           2003,
           75643459840
          ],
          [
           2004,
           99210392858
          ],
          [
           2005,
           122965000000
          ],
          [
           2006,
           154788000000
          ],
          [
           2007,
           173606000000
          ],
          [
           2008,
           179638000000
          ],
          [
           2009,
           172389000000
          ],
          [
           2010,
           218538000000
          ],
          [
           2011,
           252252000000
          ],
          [
           2012,
           267122000000
          ],
          [
           2013,
           278384000000
          ],
          [
           2014,
           260990000000
          ],
          [
           2015,
           242518000000
          ]
         ],
         "hovertemplate": "Country=%{x}<br>Life_Expectancy=%{y}<br>Year=%{customdata[0]}<br>GDP=%{customdata[1]}<extra></extra>",
         "legendgroup": "Chile",
         "marker": {
          "color": "#1F77B4"
         },
         "name": "Chile",
         "offsetgroup": "Chile",
         "orientation": "v",
         "points": "all",
         "scalegroup": "True",
         "showlegend": true,
         "type": "violin",
         "x": [
          "Chile",
          "Chile",
          "Chile",
          "Chile",
          "Chile",
          "Chile",
          "Chile",
          "Chile",
          "Chile",
          "Chile",
          "Chile",
          "Chile",
          "Chile",
          "Chile",
          "Chile",
          "Chile"
         ],
         "x0": " ",
         "xaxis": "x",
         "y": [
          77.3,
          77.3,
          77.8,
          77.9,
          78,
          78.4,
          78.9,
          78.9,
          79.6,
          79.3,
          79.1,
          79.8,
          79.9,
          80.1,
          80.3,
          80.5
         ],
         "y0": " ",
         "yaxis": "y"
        },
        {
         "alignmentgroup": "True",
         "box": {
          "visible": false
         },
         "customdata": [
          [
           2000,
           1211350000000
          ],
          [
           2001,
           1339400000000
          ],
          [
           2002,
           1470550000000
          ],
          [
           2003,
           1660290000000
          ],
          [
           2004,
           1955350000000
          ],
          [
           2005,
           2285970000000
          ],
          [
           2006,
           2752130000000
          ],
          [
           2007,
           3552180000000
          ],
          [
           2008,
           4598210000000
          ],
          [
           2009,
           5109950000000
          ],
          [
           2010,
           6100620000000
          ],
          [
           2011,
           7572550000000
          ],
          [
           2012,
           8560550000000
          ],
          [
           2013,
           9607220000000
          ],
          [
           2014,
           10482400000000
          ],
          [
           2015,
           11064700000000
          ]
         ],
         "hovertemplate": "Country=%{x}<br>Life_Expectancy=%{y}<br>Year=%{customdata[0]}<br>GDP=%{customdata[1]}<extra></extra>",
         "legendgroup": "China",
         "marker": {
          "color": "#FF7F0E"
         },
         "name": "China",
         "offsetgroup": "China",
         "orientation": "v",
         "points": "all",
         "scalegroup": "True",
         "showlegend": true,
         "type": "violin",
         "x": [
          "China",
          "China",
          "China",
          "China",
          "China",
          "China",
          "China",
          "China",
          "China",
          "China",
          "China",
          "China",
          "China",
          "China",
          "China",
          "China"
         ],
         "x0": " ",
         "xaxis": "x",
         "y": [
          71.7,
          72.2,
          72.7,
          73.1,
          73.5,
          73.9,
          74.2,
          74.4,
          74.5,
          74.9,
          75,
          75.2,
          75.4,
          75.6,
          75.8,
          76.1
         ],
         "y0": " ",
         "yaxis": "y"
        },
        {
         "alignmentgroup": "True",
         "box": {
          "visible": false
         },
         "customdata": [
          [
           2000,
           1949950000000
          ],
          [
           2001,
           1950650000000
          ],
          [
           2002,
           2079140000000
          ],
          [
           2003,
           2505730000000
          ],
          [
           2004,
           2819250000000
          ],
          [
           2005,
           2861410000000
          ],
          [
           2006,
           3002450000000
          ],
          [
           2007,
           3439950000000
          ],
          [
           2008,
           3752370000000
          ],
          [
           2009,
           3418010000000
          ],
          [
           2010,
           3417090000000
          ],
          [
           2011,
           3757700000000
          ],
          [
           2012,
           3543980000000
          ],
          [
           2013,
           3752510000000
          ],
          [
           2014,
           3890610000000
          ],
          [
           2015,
           3375610000000
          ]
         ],
         "hovertemplate": "Country=%{x}<br>Life_Expectancy=%{y}<br>Year=%{customdata[0]}<br>GDP=%{customdata[1]}<extra></extra>",
         "legendgroup": "Germany",
         "marker": {
          "color": "#2CA02C"
         },
         "name": "Germany",
         "offsetgroup": "Germany",
         "orientation": "v",
         "points": "all",
         "scalegroup": "True",
         "showlegend": true,
         "type": "violin",
         "x": [
          "Germany",
          "Germany",
          "Germany",
          "Germany",
          "Germany",
          "Germany",
          "Germany",
          "Germany",
          "Germany",
          "Germany",
          "Germany",
          "Germany",
          "Germany",
          "Germany",
          "Germany",
          "Germany"
         ],
         "x0": " ",
         "xaxis": "x",
         "y": [
          78,
          78.3,
          78.4,
          78.5,
          79.1,
          79.2,
          79.6,
          79.8,
          79.9,
          80,
          80.1,
          80.5,
          80.6,
          80.6,
          80.9,
          81
         ],
         "y0": " ",
         "yaxis": "y"
        },
        {
         "alignmentgroup": "True",
         "box": {
          "visible": false
         },
         "customdata": [
          [
           2000,
           683648000000
          ],
          [
           2001,
           724704000000
          ],
          [
           2002,
           741560000000
          ],
          [
           2003,
           713284000000
          ],
          [
           2004,
           770268000000
          ],
          [
           2005,
           866346000000
          ],
          [
           2006,
           965281000000
          ],
          [
           2007,
           1043470000000
          ],
          [
           2008,
           1101280000000
          ],
          [
           2009,
           894949000000
          ],
          [
           2010,
           1051130000000
          ],
          [
           2011,
           1171190000000
          ],
          [
           2012,
           1186600000000
          ],
          [
           2013,
           1261980000000
          ],
          [
           2014,
           1298460000000
          ],
          [
           2015,
           1152260000000
          ]
         ],
         "hovertemplate": "Country=%{x}<br>Life_Expectancy=%{y}<br>Year=%{customdata[0]}<br>GDP=%{customdata[1]}<extra></extra>",
         "legendgroup": "Mexico",
         "marker": {
          "color": "#D62728"
         },
         "name": "Mexico",
         "offsetgroup": "Mexico",
         "orientation": "v",
         "points": "all",
         "scalegroup": "True",
         "showlegend": true,
         "type": "violin",
         "x": [
          "Mexico",
          "Mexico",
          "Mexico",
          "Mexico",
          "Mexico",
          "Mexico",
          "Mexico",
          "Mexico",
          "Mexico",
          "Mexico",
          "Mexico",
          "Mexico",
          "Mexico",
          "Mexico",
          "Mexico",
          "Mexico"
         ],
         "x0": " ",
         "xaxis": "x",
         "y": [
          74.8,
          75,
          75,
          75,
          75.4,
          75.3,
          75.8,
          76,
          75.6,
          75.7,
          75.6,
          76.1,
          76.3,
          76.6,
          76.6,
          76.7
         ],
         "y0": " ",
         "yaxis": "y"
        },
        {
         "alignmentgroup": "True",
         "box": {
          "visible": false
         },
         "customdata": [
          [
           2000,
           10300000000000
          ],
          [
           2001,
           10600000000000
          ],
          [
           2002,
           11000000000000
          ],
          [
           2003,
           11500000000000
          ],
          [
           2004,
           12300000000000
          ],
          [
           2005,
           13100000000000
          ],
          [
           2006,
           13900000000000
          ],
          [
           2007,
           14500000000000
          ],
          [
           2008,
           14700000000000
          ],
          [
           2009,
           14400000000000
          ],
          [
           2010,
           15000000000000
          ],
          [
           2011,
           15500000000000
          ],
          [
           2012,
           16200000000000
          ],
          [
           2013,
           16700000000000
          ],
          [
           2014,
           17400000000000
          ],
          [
           2015,
           18100000000000
          ]
         ],
         "hovertemplate": "Country=%{x}<br>Life_Expectancy=%{y}<br>Year=%{customdata[0]}<br>GDP=%{customdata[1]}<extra></extra>",
         "legendgroup": "USA",
         "marker": {
          "color": "#9467BD"
         },
         "name": "USA",
         "offsetgroup": "USA",
         "orientation": "v",
         "points": "all",
         "scalegroup": "True",
         "showlegend": true,
         "type": "violin",
         "x": [
          "USA",
          "USA",
          "USA",
          "USA",
          "USA",
          "USA",
          "USA",
          "USA",
          "USA",
          "USA",
          "USA",
          "USA",
          "USA",
          "USA",
          "USA",
          "USA"
         ],
         "x0": " ",
         "xaxis": "x",
         "y": [
          76.8,
          76.9,
          77,
          77.2,
          77.5,
          77.5,
          77.8,
          78.1,
          78.2,
          78.5,
          78.7,
          78.7,
          78.8,
          78.9,
          79.1,
          79.3
         ],
         "y0": " ",
         "yaxis": "y"
        },
        {
         "alignmentgroup": "True",
         "box": {
          "visible": false
         },
         "customdata": [
          [
           2000,
           6689957600
          ],
          [
           2001,
           6777384700
          ],
          [
           2002,
           6342116400
          ],
          [
           2003,
           5727591800
          ],
          [
           2004,
           5805598400
          ],
          [
           2005,
           5755215200
          ],
          [
           2006,
           5443896500
          ],
          [
           2007,
           5291950100
          ],
          [
           2008,
           4415702800
          ],
          [
           2009,
           8621573608
          ],
          [
           2010,
           10141859710
          ],
          [
           2011,
           12098450749
          ],
          [
           2012,
           14242490252
          ],
          [
           2013,
           15451768659
          ],
          [
           2014,
           15891049236
          ],
          [
           2015,
           16304667807
          ]
         ],
         "hovertemplate": "Country=%{x}<br>Life_Expectancy=%{y}<br>Year=%{customdata[0]}<br>GDP=%{customdata[1]}<extra></extra>",
         "legendgroup": "Zimbabwe",
         "marker": {
          "color": "#8C564B"
         },
         "name": "Zimbabwe",
         "offsetgroup": "Zimbabwe",
         "orientation": "v",
         "points": "all",
         "scalegroup": "True",
         "showlegend": true,
         "type": "violin",
         "x": [
          "Zimbabwe",
          "Zimbabwe",
          "Zimbabwe",
          "Zimbabwe",
          "Zimbabwe",
          "Zimbabwe",
          "Zimbabwe",
          "Zimbabwe",
          "Zimbabwe",
          "Zimbabwe",
          "Zimbabwe",
          "Zimbabwe",
          "Zimbabwe",
          "Zimbabwe",
          "Zimbabwe",
          "Zimbabwe"
         ],
         "x0": " ",
         "xaxis": "x",
         "y": [
          46,
          45.3,
          44.8,
          44.5,
          44.3,
          44.6,
          45.4,
          46.6,
          48.2,
          50,
          52.4,
          54.9,
          56.6,
          58,
          59.2,
          60.7
         ],
         "y0": " ",
         "yaxis": "y"
        }
       ],
       "layout": {
        "legend": {
         "title": {
          "text": "Country"
         },
         "tracegroupgap": 0
        },
        "template": {
         "data": {
          "pie": [
           {
            "automargin": true,
            "type": "pie"
           }
          ],
          "scatter": [
           {
            "line": {
             "width": 3
            },
            "marker": {
             "size": 9
            },
            "type": "scatter"
           }
          ],
          "scatter3d": [
           {
            "line": {
             "width": 3
            },
            "marker": {
             "size": 9
            },
            "type": "scatter3d"
           }
          ],
          "scattergeo": [
           {
            "line": {
             "width": 3
            },
            "marker": {
             "size": 9
            },
            "type": "scattergeo"
           }
          ],
          "scattergl": [
           {
            "line": {
             "width": 3
            },
            "marker": {
             "size": 9
            },
            "type": "scattergl"
           }
          ],
          "scatterpolar": [
           {
            "line": {
             "width": 3
            },
            "marker": {
             "size": 9
            },
            "type": "scatterpolar"
           }
          ],
          "scatterpolargl": [
           {
            "line": {
             "width": 3
            },
            "marker": {
             "size": 9
            },
            "type": "scatterpolargl"
           }
          ],
          "scatterternary": [
           {
            "line": {
             "width": 3
            },
            "marker": {
             "size": 9
            },
            "type": "scatterternary"
           }
          ],
          "table": [
           {
            "cells": {
             "height": 30
            },
            "header": {
             "height": 36
            },
            "type": "table"
           }
          ]
         },
         "layout": {
          "font": {
           "size": 18
          },
          "xaxis": {
           "title": {
            "standoff": 15
           }
          },
          "yaxis": {
           "title": {
            "standoff": 15
           }
          }
         }
        },
        "title": {
         "text": "LIFE EXPECTANCY DISTRIBUTION - VIOLIN"
        },
        "violinmode": "overlay",
        "xaxis": {
         "anchor": "y",
         "categoryarray": [
          "Chile",
          "China",
          "Germany",
          "Mexico",
          "USA",
          "Zimbabwe"
         ],
         "categoryorder": "array",
         "domain": [
          0,
          1
         ],
         "title": {
          "text": "Country"
         }
        },
        "yaxis": {
         "anchor": "x",
         "domain": [
          0,
          1
         ],
         "title": {
          "text": "Life_Expectancy"
         }
        }
       }
      }
     },
     "metadata": {},
     "output_type": "display_data"
    }
   ],
   "source": [
    "#Create the plot\n",
    "fig = px.box(df, x = \"Country\", y = \"Life_Expectancy\", points=\"all\", color=\"Country\", template='presentation', title='LIFE EXPECTANCY DISTRIBUTION - BOX')\n",
    "fig.show()\n",
    "\n",
    "#Create the plot\n",
    "fig = px.violin(df, y=\"Life_Expectancy\", x=\"Country\", color=\"Country\",  points=\"all\",\n",
    "          hover_data=df.columns, template='presentation', title='LIFE EXPECTANCY DISTRIBUTION - VIOLIN')\n",
    "fig.show()\n"
   ]
  }
 ],
 "metadata": {
  "interpreter": {
   "hash": "91429da86366bc2ed7b482a31c843ee9a78fb072238089f0ca337345550f4235"
  },
  "kernelspec": {
   "display_name": "Python 3.9.7 ('base')",
   "language": "python",
   "name": "python3"
  },
  "language_info": {
   "codemirror_mode": {
    "name": "ipython",
    "version": 3
   },
   "file_extension": ".py",
   "mimetype": "text/x-python",
   "name": "python",
   "nbconvert_exporter": "python",
   "pygments_lexer": "ipython3",
   "version": "3.9.7"
  }
 },
 "nbformat": 4,
 "nbformat_minor": 4
}
